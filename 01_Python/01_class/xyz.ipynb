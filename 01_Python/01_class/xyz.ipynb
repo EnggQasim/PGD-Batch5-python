{
 "cells": [
  {
   "cell_type": "code",
   "execution_count": 1,
   "id": "0debec7a",
   "metadata": {},
   "outputs": [
    {
     "name": "stdout",
     "output_type": "stream",
     "text": [
      "Pakistan zinda bad\n"
     ]
    }
   ],
   "source": [
    "print(\"Pakistan zinda bad\")"
   ]
  },
  {
   "cell_type": "code",
   "execution_count": 5,
   "id": "eec10703",
   "metadata": {},
   "outputs": [
    {
     "name": "stdout",
     "output_type": "stream",
     "text": [
      "Line2\n"
     ]
    }
   ],
   "source": [
    "print(\"Line2\")"
   ]
  },
  {
   "cell_type": "code",
   "execution_count": 3,
   "id": "64e03a8e",
   "metadata": {},
   "outputs": [
    {
     "name": "stdout",
     "output_type": "stream",
     "text": [
      "Line 3\n"
     ]
    }
   ],
   "source": [
    "print(\"Line 3\")"
   ]
  },
  {
   "cell_type": "code",
   "execution_count": null,
   "id": "d428c54b",
   "metadata": {},
   "outputs": [],
   "source": []
  }
 ],
 "metadata": {
  "kernelspec": {
   "display_name": "Python 3 (ipykernel)",
   "language": "python",
   "name": "python3"
  },
  "language_info": {
   "codemirror_mode": {
    "name": "ipython",
    "version": 3
   },
   "file_extension": ".py",
   "mimetype": "text/x-python",
   "name": "python",
   "nbconvert_exporter": "python",
   "pygments_lexer": "ipython3",
   "version": "3.10.9"
  }
 },
 "nbformat": 4,
 "nbformat_minor": 5
}

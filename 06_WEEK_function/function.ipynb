{
 "cells": [
  {
   "cell_type": "markdown",
   "id": "7276e36a",
   "metadata": {},
   "source": [
    "# Functions\n",
    "\n",
    "* Pre-define\n",
    "    * provided by community\n",
    "* User define\n",
    "    * custome function created by you (programer)\n",
    "* common properties\n",
    "    * return\n",
    "    * non-return\n",
    "    * required-parameters\n",
    "    * optional parameters\n",
    "    * defualt function\n",
    "    * postional argument\n",
    "    * key value parameters\n",
    "    * pass ulimited optional argument\n",
    "    * pass ulimited key=value argument\n",
    "    \n",
    "Note:\n",
    "1. function decrailation/signature = def abc(parm1,pram2..):\n",
    "2. fucntion body\n",
    "3. function calling\n",
    "    \n",
    "```\n",
    "def custom_name(parm1,pram2,..): # signature\n",
    "    statment1 #body start\n",
    "    statment2\n",
    "    statment2 # body end\n",
    "    \n",
    "custom_name()# function calling   \n",
    "```"
   ]
  },
  {
   "cell_type": "markdown",
   "id": "cc466145",
   "metadata": {},
   "source": [
    "# Reserved keyswords"
   ]
  },
  {
   "cell_type": "code",
   "execution_count": 1,
   "id": "6da72877",
   "metadata": {},
   "outputs": [
    {
     "data": {
      "text/html": [
       "<div>\n",
       "<style scoped>\n",
       "    .dataframe tbody tr th:only-of-type {\n",
       "        vertical-align: middle;\n",
       "    }\n",
       "\n",
       "    .dataframe tbody tr th {\n",
       "        vertical-align: top;\n",
       "    }\n",
       "\n",
       "    .dataframe thead th {\n",
       "        text-align: right;\n",
       "    }\n",
       "</style>\n",
       "<table border=\"1\" class=\"dataframe\">\n",
       "  <thead>\n",
       "    <tr style=\"text-align: right;\">\n",
       "      <th></th>\n",
       "      <th>Keyword</th>\n",
       "      <th>Description</th>\n",
       "    </tr>\n",
       "  </thead>\n",
       "  <tbody>\n",
       "    <tr>\n",
       "      <th>0</th>\n",
       "      <td>and</td>\n",
       "      <td>A logical operator</td>\n",
       "    </tr>\n",
       "    <tr>\n",
       "      <th>1</th>\n",
       "      <td>as</td>\n",
       "      <td>To create an alias</td>\n",
       "    </tr>\n",
       "    <tr>\n",
       "      <th>2</th>\n",
       "      <td>assert</td>\n",
       "      <td>For debugging</td>\n",
       "    </tr>\n",
       "    <tr>\n",
       "      <th>3</th>\n",
       "      <td>break</td>\n",
       "      <td>To break out of a loop</td>\n",
       "    </tr>\n",
       "    <tr>\n",
       "      <th>4</th>\n",
       "      <td>class</td>\n",
       "      <td>To define a class</td>\n",
       "    </tr>\n",
       "    <tr>\n",
       "      <th>5</th>\n",
       "      <td>continue</td>\n",
       "      <td>To continue to the next iteration of a loop</td>\n",
       "    </tr>\n",
       "    <tr>\n",
       "      <th>6</th>\n",
       "      <td>def</td>\n",
       "      <td>To define a function</td>\n",
       "    </tr>\n",
       "    <tr>\n",
       "      <th>7</th>\n",
       "      <td>del</td>\n",
       "      <td>To delete an object</td>\n",
       "    </tr>\n",
       "    <tr>\n",
       "      <th>8</th>\n",
       "      <td>elif</td>\n",
       "      <td>Used in conditional statements, same as else if</td>\n",
       "    </tr>\n",
       "    <tr>\n",
       "      <th>9</th>\n",
       "      <td>else</td>\n",
       "      <td>Used in conditional statements</td>\n",
       "    </tr>\n",
       "    <tr>\n",
       "      <th>10</th>\n",
       "      <td>except</td>\n",
       "      <td>Used with exceptions, what to do when an excep...</td>\n",
       "    </tr>\n",
       "    <tr>\n",
       "      <th>11</th>\n",
       "      <td>False</td>\n",
       "      <td>Boolean value, result of comparison operations</td>\n",
       "    </tr>\n",
       "    <tr>\n",
       "      <th>12</th>\n",
       "      <td>finally</td>\n",
       "      <td>Used with exceptions, a block of code that wil...</td>\n",
       "    </tr>\n",
       "    <tr>\n",
       "      <th>13</th>\n",
       "      <td>for</td>\n",
       "      <td>To create a for loop</td>\n",
       "    </tr>\n",
       "    <tr>\n",
       "      <th>14</th>\n",
       "      <td>from</td>\n",
       "      <td>To import specific parts of a module</td>\n",
       "    </tr>\n",
       "    <tr>\n",
       "      <th>15</th>\n",
       "      <td>global</td>\n",
       "      <td>To declare a global variable</td>\n",
       "    </tr>\n",
       "    <tr>\n",
       "      <th>16</th>\n",
       "      <td>if</td>\n",
       "      <td>To make a conditional statement</td>\n",
       "    </tr>\n",
       "    <tr>\n",
       "      <th>17</th>\n",
       "      <td>import</td>\n",
       "      <td>To import a module</td>\n",
       "    </tr>\n",
       "    <tr>\n",
       "      <th>18</th>\n",
       "      <td>in</td>\n",
       "      <td>To check if a value is present in a list, tupl...</td>\n",
       "    </tr>\n",
       "    <tr>\n",
       "      <th>19</th>\n",
       "      <td>is</td>\n",
       "      <td>To test if two variables are equal</td>\n",
       "    </tr>\n",
       "    <tr>\n",
       "      <th>20</th>\n",
       "      <td>lambda</td>\n",
       "      <td>To create an anonymous function</td>\n",
       "    </tr>\n",
       "    <tr>\n",
       "      <th>21</th>\n",
       "      <td>None</td>\n",
       "      <td>Represents a null value</td>\n",
       "    </tr>\n",
       "    <tr>\n",
       "      <th>22</th>\n",
       "      <td>nonlocal</td>\n",
       "      <td>To declare a non-local variable</td>\n",
       "    </tr>\n",
       "    <tr>\n",
       "      <th>23</th>\n",
       "      <td>not</td>\n",
       "      <td>A logical operator</td>\n",
       "    </tr>\n",
       "    <tr>\n",
       "      <th>24</th>\n",
       "      <td>or</td>\n",
       "      <td>A logical operator</td>\n",
       "    </tr>\n",
       "    <tr>\n",
       "      <th>25</th>\n",
       "      <td>pass</td>\n",
       "      <td>A null statement, a statement that will do not...</td>\n",
       "    </tr>\n",
       "    <tr>\n",
       "      <th>26</th>\n",
       "      <td>raise</td>\n",
       "      <td>To raise an exception</td>\n",
       "    </tr>\n",
       "    <tr>\n",
       "      <th>27</th>\n",
       "      <td>return</td>\n",
       "      <td>To exit a function and return a value</td>\n",
       "    </tr>\n",
       "    <tr>\n",
       "      <th>28</th>\n",
       "      <td>True</td>\n",
       "      <td>Boolean value, result of comparison operations</td>\n",
       "    </tr>\n",
       "    <tr>\n",
       "      <th>29</th>\n",
       "      <td>try</td>\n",
       "      <td>To make a try...except statement</td>\n",
       "    </tr>\n",
       "    <tr>\n",
       "      <th>30</th>\n",
       "      <td>while</td>\n",
       "      <td>To create a while loop</td>\n",
       "    </tr>\n",
       "    <tr>\n",
       "      <th>31</th>\n",
       "      <td>with</td>\n",
       "      <td>Used to simplify exception handling</td>\n",
       "    </tr>\n",
       "    <tr>\n",
       "      <th>32</th>\n",
       "      <td>yield</td>\n",
       "      <td>To end a function, returns a generator</td>\n",
       "    </tr>\n",
       "  </tbody>\n",
       "</table>\n",
       "</div>"
      ],
      "text/plain": [
       "     Keyword                                        Description\n",
       "0        and                                 A logical operator\n",
       "1         as                                 To create an alias\n",
       "2     assert                                      For debugging\n",
       "3      break                             To break out of a loop\n",
       "4      class                                  To define a class\n",
       "5   continue        To continue to the next iteration of a loop\n",
       "6        def                               To define a function\n",
       "7        del                                To delete an object\n",
       "8       elif    Used in conditional statements, same as else if\n",
       "9       else                     Used in conditional statements\n",
       "10    except  Used with exceptions, what to do when an excep...\n",
       "11     False     Boolean value, result of comparison operations\n",
       "12   finally  Used with exceptions, a block of code that wil...\n",
       "13       for                               To create a for loop\n",
       "14      from               To import specific parts of a module\n",
       "15    global                       To declare a global variable\n",
       "16        if                    To make a conditional statement\n",
       "17    import                                 To import a module\n",
       "18        in  To check if a value is present in a list, tupl...\n",
       "19        is                 To test if two variables are equal\n",
       "20    lambda                    To create an anonymous function\n",
       "21      None                            Represents a null value\n",
       "22  nonlocal                    To declare a non-local variable\n",
       "23       not                                 A logical operator\n",
       "24        or                                 A logical operator\n",
       "25      pass  A null statement, a statement that will do not...\n",
       "26     raise                              To raise an exception\n",
       "27    return              To exit a function and return a value\n",
       "28      True     Boolean value, result of comparison operations\n",
       "29       try                   To make a try...except statement\n",
       "30     while                             To create a while loop\n",
       "31      with                Used to simplify exception handling\n",
       "32     yield             To end a function, returns a generator"
      ]
     },
     "execution_count": 1,
     "metadata": {},
     "output_type": "execute_result"
    }
   ],
   "source": [
    "import pandas as pd\n",
    "\n",
    "df = pd.read_html(\"https://www.w3schools.com/python/python_ref_keywords.asp\")\n",
    "df[0]"
   ]
  },
  {
   "cell_type": "markdown",
   "id": "add786fc",
   "metadata": {},
   "source": [
    "# Non-Return Funtion"
   ]
  },
  {
   "cell_type": "code",
   "execution_count": 2,
   "id": "2f23356e",
   "metadata": {},
   "outputs": [],
   "source": [
    "def introduction():# Signature/function decrairlation\n",
    "    print(\"NED University\") # body start\n",
    "    print(\"PGD Data Science - Generative AI Program!\")\n",
    "    print(\"Batch 5\")\n",
    "    print(\"Saturday & Sunday Calsses\") # body end\n",
    "    \n",
    "    "
   ]
  },
  {
   "cell_type": "code",
   "execution_count": 3,
   "id": "7fc7b98e",
   "metadata": {},
   "outputs": [
    {
     "name": "stdout",
     "output_type": "stream",
     "text": [
      "NED University\n",
      "PGD Data Science - Generative AI Program!\n",
      "Batch 5\n",
      "Saturday & Sunday Calsses\n"
     ]
    }
   ],
   "source": [
    "abc = introduction()"
   ]
  },
  {
   "cell_type": "code",
   "execution_count": 4,
   "id": "7519e56e",
   "metadata": {},
   "outputs": [
    {
     "name": "stdout",
     "output_type": "stream",
     "text": [
      "None\n"
     ]
    }
   ],
   "source": [
    "print(abc)"
   ]
  },
  {
   "cell_type": "code",
   "execution_count": 5,
   "id": "15723b82",
   "metadata": {},
   "outputs": [
    {
     "name": "stdout",
     "output_type": "stream",
     "text": [
      "NED University\n",
      "PGD Data Science - Generative AI Program!\n",
      "Batch 5\n",
      "Saturday & Sunday Calsses\n"
     ]
    }
   ],
   "source": [
    "introduction()# function calling\n"
   ]
  },
  {
   "cell_type": "code",
   "execution_count": 6,
   "id": "a8bf0cba",
   "metadata": {},
   "outputs": [
    {
     "name": "stdout",
     "output_type": "stream",
     "text": [
      "NED University\n",
      "PGD Data Science - Generative AI Program!\n",
      "Batch 5\n",
      "Saturday & Sunday Calsses\n",
      "NED University\n",
      "PGD Data Science - Generative AI Program!\n",
      "Batch 5\n",
      "Saturday & Sunday Calsses\n"
     ]
    }
   ],
   "source": [
    "introduction()\n",
    "introduction()"
   ]
  },
  {
   "cell_type": "markdown",
   "id": "0627088d",
   "metadata": {},
   "source": [
    "# Return Function"
   ]
  },
  {
   "cell_type": "code",
   "execution_count": 7,
   "id": "f81ab83c",
   "metadata": {},
   "outputs": [
    {
     "name": "stdout",
     "output_type": "stream",
     "text": [
      "NED University\n",
      "PGD Data Science - Generative AI Program!\n",
      "Batch 5\n",
      "Saturday & Sunday Calsses\n"
     ]
    }
   ],
   "source": [
    "def introduction():# Signature/function decrairlation\n",
    "    print(\"NED University\") # body start\n",
    "    print(\"PGD Data Science - Generative AI Program!\")\n",
    "    print(\"Batch 5\")\n",
    "    print(\"Saturday & Sunday Calsses\") # body end\n",
    "    \n",
    "    return \"Pakistan zinda bad!\"\n",
    "\n",
    "abc = introduction()"
   ]
  },
  {
   "cell_type": "code",
   "execution_count": 8,
   "id": "fc744697",
   "metadata": {},
   "outputs": [
    {
     "name": "stdout",
     "output_type": "stream",
     "text": [
      "Pakistan zinda bad!\n"
     ]
    }
   ],
   "source": [
    "print(abc)"
   ]
  },
  {
   "cell_type": "code",
   "execution_count": 9,
   "id": "2d1c24cc",
   "metadata": {},
   "outputs": [],
   "source": [
    "def introduction():# Signature/function decrairlation\n",
    "    return \"Pakistan zinda bad!\", 123, 'xyz'\n",
    "\n",
    "\n",
    "abc = introduction()# function calling"
   ]
  },
  {
   "cell_type": "code",
   "execution_count": 10,
   "id": "824bfbc0",
   "metadata": {},
   "outputs": [
    {
     "name": "stdout",
     "output_type": "stream",
     "text": [
      "('Pakistan zinda bad!', 123, 'xyz')\n"
     ]
    }
   ],
   "source": [
    "print(abc)"
   ]
  },
  {
   "cell_type": "code",
   "execution_count": 17,
   "id": "0ba0a759",
   "metadata": {},
   "outputs": [
    {
     "name": "stdout",
     "output_type": "stream",
     "text": [
      "\n",
      "Pakistan\n",
      "\n"
     ]
    }
   ],
   "source": [
    "print(end=\"*\")\n",
    "print(\"Pakistan\")\n",
    "print()"
   ]
  },
  {
   "cell_type": "markdown",
   "id": "d48340c0",
   "metadata": {},
   "source": [
    "# Required parameter"
   ]
  },
  {
   "cell_type": "code",
   "execution_count": 18,
   "id": "c6453623",
   "metadata": {},
   "outputs": [
    {
     "name": "stdout",
     "output_type": "stream",
     "text": [
      "10\n",
      "27\n"
     ]
    }
   ],
   "source": [
    "def add_two_numbers(num1,num2):#function signature\n",
    "    return num1 + num2\n",
    "\n",
    "print(add_two_numbers(8,2))\n",
    "print(add_two_numbers(20,7))\n",
    "    "
   ]
  },
  {
   "cell_type": "code",
   "execution_count": 19,
   "id": "8aca7f0a",
   "metadata": {},
   "outputs": [
    {
     "ename": "TypeError",
     "evalue": "add_two_numbers() missing 1 required positional argument: 'num2'",
     "output_type": "error",
     "traceback": [
      "\u001b[0;31m---------------------------------------------------------------------------\u001b[0m",
      "\u001b[0;31mTypeError\u001b[0m                                 Traceback (most recent call last)",
      "Cell \u001b[0;32mIn[19], line 1\u001b[0m\n\u001b[0;32m----> 1\u001b[0m add_two_numbers(\u001b[38;5;241m7\u001b[39m)\n",
      "\u001b[0;31mTypeError\u001b[0m: add_two_numbers() missing 1 required positional argument: 'num2'"
     ]
    }
   ],
   "source": [
    "add_two_numbers(7)"
   ]
  },
  {
   "cell_type": "code",
   "execution_count": 20,
   "id": "8e77561f",
   "metadata": {},
   "outputs": [
    {
     "ename": "TypeError",
     "evalue": "add_two_numbers() takes 2 positional arguments but 3 were given",
     "output_type": "error",
     "traceback": [
      "\u001b[0;31m---------------------------------------------------------------------------\u001b[0m",
      "\u001b[0;31mTypeError\u001b[0m                                 Traceback (most recent call last)",
      "Cell \u001b[0;32mIn[20], line 1\u001b[0m\n\u001b[0;32m----> 1\u001b[0m add_two_numbers(\u001b[38;5;241m7\u001b[39m,\u001b[38;5;241m8\u001b[39m,\u001b[38;5;241m9\u001b[39m)\n",
      "\u001b[0;31mTypeError\u001b[0m: add_two_numbers() takes 2 positional arguments but 3 were given"
     ]
    }
   ],
   "source": [
    "add_two_numbers(7,8,9)"
   ]
  },
  {
   "cell_type": "code",
   "execution_count": 21,
   "id": "000895dd",
   "metadata": {},
   "outputs": [
    {
     "name": "stdout",
     "output_type": "stream",
     "text": [
      "numbe1: 7 and number2: 8\n",
      "15\n",
      "numbe1: 20 and number2: 7\n",
      "27\n"
     ]
    }
   ],
   "source": [
    "def add_two_numbers(num1,num2):#function signature\n",
    "    print(f'numbe1: {num1} and number2: {num2}')\n",
    "    return num1 + num2\n",
    "\n",
    "print(add_two_numbers(7,8))\n",
    "print(add_two_numbers(20,7))\n",
    "    "
   ]
  },
  {
   "cell_type": "markdown",
   "id": "cb87d3f8",
   "metadata": {},
   "source": [
    "### key word arguments"
   ]
  },
  {
   "cell_type": "code",
   "execution_count": 24,
   "id": "54caaf47",
   "metadata": {},
   "outputs": [
    {
     "name": "stdout",
     "output_type": "stream",
     "text": [
      "numbe1: 8 and number2: 7\n",
      "15\n",
      "numbe1: 20 and number2: 7\n",
      "27\n"
     ]
    }
   ],
   "source": [
    "def add_two_numbers(num1,num2):#function signature\n",
    "    print(f'numbe1: {num1} and number2: {num2}')\n",
    "    return num1 + num2\n",
    "\n",
    "print(add_two_numbers(num2=7, num1=8))\n",
    "print(add_two_numbers(num1=20, num2=7))\n",
    "    "
   ]
  },
  {
   "cell_type": "code",
   "execution_count": 26,
   "id": "9ec1d967",
   "metadata": {},
   "outputs": [
    {
     "name": "stdout",
     "output_type": "stream",
     "text": [
      "3\n",
      "6\n"
     ]
    }
   ],
   "source": [
    "def abc(x,y,z=0):\n",
    "    return x+y+z\n",
    "\n",
    "print(abc(1,2))\n",
    "print(abc(1,2,3))\n",
    "\n",
    "    "
   ]
  },
  {
   "cell_type": "code",
   "execution_count": 27,
   "id": "12a5c0af",
   "metadata": {},
   "outputs": [
    {
     "name": "stdout",
     "output_type": "stream",
     "text": [
      "3\n",
      "6\n",
      "2\n",
      "0\n"
     ]
    }
   ],
   "source": [
    "def abc(x,y=0,z=0):\n",
    "    return x+y+z\n",
    "\n",
    "print(abc(1,2))\n",
    "print(abc(1,2,3)) # postional\n",
    "print(abc(z=2,x=2,y=3)) # key word agrs\n",
    "print(abc(2))\n",
    "print(abc())"
   ]
  },
  {
   "cell_type": "code",
   "execution_count": 30,
   "id": "c9026f10",
   "metadata": {},
   "outputs": [
    {
     "name": "stdout",
     "output_type": "stream",
     "text": [
      "a b c\n",
      "a b c\n"
     ]
    }
   ],
   "source": [
    "l = [\"a\",'b','c']\n",
    "\n",
    "print(l[0],l[1],l[2])\n",
    "print(*l)"
   ]
  },
  {
   "cell_type": "code",
   "execution_count": 32,
   "id": "36121231",
   "metadata": {},
   "outputs": [
    {
     "name": "stdout",
     "output_type": "stream",
     "text": [
      "a b a\n"
     ]
    }
   ],
   "source": [
    "l = [\"a\",'b','c']\n",
    "x = l[0]\n",
    "y = l[1]\n",
    "z = l[2]\n",
    "\n",
    "print(x,y,x)"
   ]
  },
  {
   "cell_type": "code",
   "execution_count": 33,
   "id": "10d8e8fb",
   "metadata": {},
   "outputs": [
    {
     "name": "stdout",
     "output_type": "stream",
     "text": [
      "a b a\n"
     ]
    }
   ],
   "source": [
    "l = [\"a\",'b','c']\n",
    "x, y, z = l[0], l[1] ,l[2]\n",
    "\n",
    "print(x,y,x)"
   ]
  },
  {
   "cell_type": "code",
   "execution_count": 31,
   "id": "36a5dda1",
   "metadata": {},
   "outputs": [
    {
     "name": "stdout",
     "output_type": "stream",
     "text": [
      "a b c\n",
      "a b c\n"
     ]
    }
   ],
   "source": [
    "l = (\"a\",'b','c')\n",
    "\n",
    "print(l[0],l[1],l[2]) \n",
    "print(*l) #same as above"
   ]
  },
  {
   "cell_type": "code",
   "execution_count": 23,
   "id": "7fb1c365",
   "metadata": {},
   "outputs": [
    {
     "name": "stdout",
     "output_type": "stream",
     "text": [
      "27\n"
     ]
    }
   ],
   "source": [
    "print(sum([1,7,9,9,1]))"
   ]
  },
  {
   "cell_type": "code",
   "execution_count": 38,
   "id": "221b9665",
   "metadata": {},
   "outputs": [
    {
     "name": "stdout",
     "output_type": "stream",
     "text": [
      "7 20 30\n",
      "57\n",
      "57\n",
      "57\n"
     ]
    }
   ],
   "source": [
    "def abc(x,y=0,z=0):\n",
    "    return x + y + z\n",
    "\n",
    "d = {\"x\":7,\n",
    "    \"y\":20,\n",
    "    \"z\":30 }\n",
    "\n",
    "print(d['x'], d['y'], d['z'])\n",
    "print(abc(d['x'], d['y'], d['z']))\n",
    "print(abc(x=7, y=20, z=30))\n",
    "\n",
    "print(abc(**d))"
   ]
  },
  {
   "cell_type": "code",
   "execution_count": 39,
   "id": "cd82a6c1",
   "metadata": {},
   "outputs": [
    {
     "name": "stdout",
     "output_type": "stream",
     "text": [
      "7 20 30\n",
      "57\n",
      "57\n"
     ]
    },
    {
     "ename": "TypeError",
     "evalue": "abc() got an unexpected keyword argument 'e'",
     "output_type": "error",
     "traceback": [
      "\u001b[0;31m---------------------------------------------------------------------------\u001b[0m",
      "\u001b[0;31mTypeError\u001b[0m                                 Traceback (most recent call last)",
      "Cell \u001b[0;32mIn[39], line 13\u001b[0m\n\u001b[1;32m     10\u001b[0m \u001b[38;5;28mprint\u001b[39m(abc(d[\u001b[38;5;124m'\u001b[39m\u001b[38;5;124mx\u001b[39m\u001b[38;5;124m'\u001b[39m], d[\u001b[38;5;124m'\u001b[39m\u001b[38;5;124my\u001b[39m\u001b[38;5;124m'\u001b[39m], d[\u001b[38;5;124m'\u001b[39m\u001b[38;5;124mz\u001b[39m\u001b[38;5;124m'\u001b[39m]))\n\u001b[1;32m     11\u001b[0m \u001b[38;5;28mprint\u001b[39m(abc(x\u001b[38;5;241m=\u001b[39m\u001b[38;5;241m7\u001b[39m, y\u001b[38;5;241m=\u001b[39m\u001b[38;5;241m20\u001b[39m, z\u001b[38;5;241m=\u001b[39m\u001b[38;5;241m30\u001b[39m))\n\u001b[0;32m---> 13\u001b[0m \u001b[38;5;28mprint\u001b[39m(abc(\u001b[38;5;241m*\u001b[39m\u001b[38;5;241m*\u001b[39md))\n",
      "\u001b[0;31mTypeError\u001b[0m: abc() got an unexpected keyword argument 'e'"
     ]
    }
   ],
   "source": [
    "def abc(x,y=0,z=0):\n",
    "    return x + y + z\n",
    "\n",
    "d = {\"x\":7,\n",
    "    \"y\":20,\n",
    "    \"z\":30 ,\n",
    "    'e':200}\n",
    "\n",
    "print(d['x'], d['y'], d['z'])\n",
    "print(abc(d['x'], d['y'], d['z']))\n",
    "print(abc(x=7, y=20, z=30))\n",
    "\n",
    "print(abc(**d))"
   ]
  },
  {
   "cell_type": "markdown",
   "id": "b70292e9",
   "metadata": {},
   "source": [
    "# Unlimited argument function \n",
    "* positional based"
   ]
  },
  {
   "cell_type": "code",
   "execution_count": 44,
   "id": "920fa69d",
   "metadata": {},
   "outputs": [
    {
     "name": "stdout",
     "output_type": "stream",
     "text": [
      "33\n"
     ]
    }
   ],
   "source": [
    "def my_sum(*nums):\n",
    "    \n",
    "    total = 0\n",
    "    \n",
    "    for n in nums:\n",
    "        total += n\n",
    "    return total\n",
    "\n",
    "\n",
    "print(my_sum(1,2,2,6,2,20))"
   ]
  },
  {
   "cell_type": "code",
   "execution_count": 45,
   "id": "c4a2ae17",
   "metadata": {},
   "outputs": [
    {
     "name": "stdout",
     "output_type": "stream",
     "text": [
      "47\n"
     ]
    }
   ],
   "source": [
    "l1 = [1,23,23]\n",
    "print(my_sum(*l1))"
   ]
  },
  {
   "cell_type": "code",
   "execution_count": 42,
   "id": "de970f1e",
   "metadata": {},
   "outputs": [
    {
     "name": "stdout",
     "output_type": "stream",
     "text": [
      "1 2 2 3 4\n",
      "1**2**2**3**4\n"
     ]
    }
   ],
   "source": [
    "print(1,2,2,3,4)\n",
    "print(1,2,2,3,4, sep='**')"
   ]
  },
  {
   "cell_type": "code",
   "execution_count": 47,
   "id": "4bf9b1db",
   "metadata": {},
   "outputs": [
    {
     "name": "stdout",
     "output_type": "stream",
     "text": [
      "{'x': 20, 'y': 3, 'e': 200, 'end': 200}\n"
     ]
    },
    {
     "data": {
      "text/plain": [
       "[('x', 20), ('y', 3), ('e', 200), ('end', 200)]"
      ]
     },
     "execution_count": 47,
     "metadata": {},
     "output_type": "execute_result"
    }
   ],
   "source": [
    "def abc(**data):\n",
    "    print(data)\n",
    "    return list(data.items())\n",
    "\n",
    "#   key=value\n",
    "abc(x=20,y=3, e=200, end=200)"
   ]
  },
  {
   "cell_type": "code",
   "execution_count": 48,
   "id": "0cf3dc1b",
   "metadata": {},
   "outputs": [
    {
     "name": "stdout",
     "output_type": "stream",
     "text": [
      "Enter Name,Father,CourseQasim,Aslam,AI\n"
     ]
    },
    {
     "data": {
      "text/plain": [
       "['Qasim', 'Aslam', 'AI']"
      ]
     },
     "execution_count": 48,
     "metadata": {},
     "output_type": "execute_result"
    }
   ],
   "source": [
    "data = input(\"Enter Name,Father,Course\").split(\",\")\n",
    "data"
   ]
  },
  {
   "cell_type": "code",
   "execution_count": 50,
   "id": "88c0485e",
   "metadata": {},
   "outputs": [
    {
     "name": "stdout",
     "output_type": "stream",
     "text": [
      "Enter Name,Father,CourseQasim,Aslam,AI\n",
      "{'Name': 'Qasim', 'Father': 'Aslam', 'Course': 'AI'}\n"
     ]
    },
    {
     "data": {
      "text/plain": [
       "[('Name', 'Qasim'), ('Father', 'Aslam'), ('Course', 'AI')]"
      ]
     },
     "execution_count": 50,
     "metadata": {},
     "output_type": "execute_result"
    }
   ],
   "source": [
    "data = input(\"Enter Name,Father,Course\").split(\",\")\n",
    "data1 = {\"Name\":data[0],\n",
    "       \"Father\":data[1],\n",
    "       \"Course\":data[2]}\n",
    "\n",
    "abc(**data1)"
   ]
  },
  {
   "cell_type": "code",
   "execution_count": 51,
   "id": "1737248c",
   "metadata": {},
   "outputs": [
    {
     "name": "stdout",
     "output_type": "stream",
     "text": [
      "{'Name': 'Qasim', 'Father': 'ASlam', 'Course': 'AI'}\n"
     ]
    },
    {
     "data": {
      "text/plain": [
       "[('Name', 'Qasim'), ('Father', 'ASlam'), ('Course', 'AI')]"
      ]
     },
     "execution_count": 51,
     "metadata": {},
     "output_type": "execute_result"
    }
   ],
   "source": [
    "data1 = {\"Name\":\"Qasim\",\n",
    "       \"Father\":\"ASlam\",\n",
    "       \"Course\":\"AI\"}\n",
    "\n",
    "abc(**data1)"
   ]
  },
  {
   "cell_type": "markdown",
   "id": "be36950a",
   "metadata": {},
   "source": [
    "# Advance\n",
    "* require\n",
    "* positional unlimite args\n",
    "* key=word umlimited args"
   ]
  },
  {
   "cell_type": "code",
   "execution_count": 53,
   "id": "8ce837e8",
   "metadata": {},
   "outputs": [
    {
     "name": "stdout",
     "output_type": "stream",
     "text": [
      "2 7\n",
      "('a', 2, 2, 20, 'b')\n",
      "{'e': 20, 'c': 2}\n"
     ]
    }
   ],
   "source": [
    "def advance(x, y, *nums, **data):\n",
    "    print(x,y)\n",
    "    print(nums)\n",
    "    print(data)\n",
    "    \n",
    "advance(2,7, 'a',2,2,20,'b', e=20, c=2)"
   ]
  },
  {
   "cell_type": "code",
   "execution_count": 54,
   "id": "789dbe04",
   "metadata": {},
   "outputs": [
    {
     "name": "stdout",
     "output_type": "stream",
     "text": [
      "7 2\n",
      "(2, 2, 3, 4, 4, 4)\n",
      "{}\n",
      "None\n"
     ]
    }
   ],
   "source": [
    "l1 = [2,2,3]\n",
    "l2 = [4,4,4]\n",
    "\n",
    "print(advance(7,2,*l1,*l2))"
   ]
  },
  {
   "cell_type": "code",
   "execution_count": 55,
   "id": "6cb751a3",
   "metadata": {},
   "outputs": [
    {
     "ename": "SyntaxError",
     "evalue": "* argument may appear only once (1715822889.py, line 1)",
     "output_type": "error",
     "traceback": [
      "\u001b[0;36m  Cell \u001b[0;32mIn[55], line 1\u001b[0;36m\u001b[0m\n\u001b[0;31m    def aaa(*x, *y):\u001b[0m\n\u001b[0m                ^\u001b[0m\n\u001b[0;31mSyntaxError\u001b[0m\u001b[0;31m:\u001b[0m * argument may appear only once\n"
     ]
    }
   ],
   "source": [
    "def aaa(*x, *y):\n",
    "    print(x)\n",
    "    print(y)\n",
    "    \n",
    "aaa(7,7,7,7)"
   ]
  },
  {
   "cell_type": "markdown",
   "id": "235eacb9",
   "metadata": {},
   "source": [
    "# Lambda function\n",
    "* one line function\n",
    "* without name\n",
    "* it did'nt use before or it'll not be used in future\n",
    "\n",
    "syntaxt:\n",
    "```\n",
    "def add_two_numbers(x,y):\n",
    "    return x + y\n",
    "```\n",
    "\n",
    "lambda\n",
    "```\n",
    "lambda x,y : x + y\n",
    "```"
   ]
  },
  {
   "cell_type": "code",
   "execution_count": 56,
   "id": "1181d9ee",
   "metadata": {},
   "outputs": [
    {
     "data": {
      "text/plain": [
       "9"
      ]
     },
     "execution_count": 56,
     "metadata": {},
     "output_type": "execute_result"
    }
   ],
   "source": [
    "def add_two_numbers(x,y):\n",
    "    return x + y\n",
    "\n",
    "add_two_numbers(7,2)"
   ]
  },
  {
   "cell_type": "code",
   "execution_count": 57,
   "id": "ce985640",
   "metadata": {},
   "outputs": [
    {
     "name": "stdout",
     "output_type": "stream",
     "text": [
      "9\n"
     ]
    }
   ],
   "source": [
    "aaa = lambda x,y : x + y\n",
    "\n",
    "print(aaa(2,7))"
   ]
  },
  {
   "cell_type": "code",
   "execution_count": 58,
   "id": "4dc3ddf9",
   "metadata": {},
   "outputs": [
    {
     "ename": "SyntaxError",
     "evalue": "invalid syntax (3470837177.py, line 1)",
     "output_type": "error",
     "traceback": [
      "\u001b[0;36m  Cell \u001b[0;32mIn[58], line 1\u001b[0;36m\u001b[0m\n\u001b[0;31m    bbb = def add_two_numbers(x,y): return x + y\u001b[0m\n\u001b[0m          ^\u001b[0m\n\u001b[0;31mSyntaxError\u001b[0m\u001b[0;31m:\u001b[0m invalid syntax\n"
     ]
    }
   ],
   "source": [
    "bbb = def add_two_numbers(x,y): return x + y\n",
    "\n",
    "bbb(7,9)"
   ]
  },
  {
   "cell_type": "code",
   "execution_count": 60,
   "id": "0b85912b",
   "metadata": {},
   "outputs": [
    {
     "name": "stdout",
     "output_type": "stream",
     "text": [
      "[[1, 'Z', 'E'], [2, 'Y', 'G'], [3, 'X', 'F']]\n"
     ]
    }
   ],
   "source": [
    "data = [[1,'Z',\"E\"],\n",
    "       [3,'X',\"F\"],\n",
    "       [2,\"Y\",\"G\"]]\n",
    "\n",
    "print(sorted(data))"
   ]
  },
  {
   "cell_type": "code",
   "execution_count": 63,
   "id": "64e8851e",
   "metadata": {},
   "outputs": [
    {
     "name": "stdout",
     "output_type": "stream",
     "text": [
      "[[1, 'Z', 'E'], [2, 'Y', 'G'], [3, 'X', 'F']]\n"
     ]
    }
   ],
   "source": [
    "data = [[1,'Z',\"E\"],\n",
    "       [3,'X',\"F\"],\n",
    "       [2,\"Y\",\"G\"]]\n",
    "\n",
    "print(sorted(data, key=lambda k:k[0]))"
   ]
  },
  {
   "cell_type": "code",
   "execution_count": 62,
   "id": "b995c8cf",
   "metadata": {},
   "outputs": [
    {
     "name": "stdout",
     "output_type": "stream",
     "text": [
      "[[3, 'X', 'F'], [2, 'Y', 'G'], [1, 'Z', 'E']]\n"
     ]
    }
   ],
   "source": [
    "data = [[1,'Z',\"E\"],\n",
    "       [3,'X',\"F\"],\n",
    "       [2,\"Y\",\"G\"]]\n",
    "\n",
    "print(sorted(data, key=lambda x:x[1]))# x"
   ]
  },
  {
   "cell_type": "code",
   "execution_count": null,
   "id": "f8e9ba42",
   "metadata": {},
   "outputs": [],
   "source": [
    "data = [[1,'Z',\"E\"],\n",
    "       [3,'X',\"F\"],\n",
    "       [2,\"Y\",\"G\"]]\n",
    "\n",
    "\n",
    "    \n",
    "print(sorted(data, key=lambda x:x[1]))# x"
   ]
  },
  {
   "cell_type": "code",
   "execution_count": 67,
   "id": "b3ab67d7",
   "metadata": {},
   "outputs": [
    {
     "name": "stdout",
     "output_type": "stream",
     "text": [
      "[[3, 'X', 'F'], [2, 'Y', 'G'], [1, 'Z', 'E']]\n"
     ]
    }
   ],
   "source": [
    "data = [[1,'Z',\"E\"],\n",
    "       [3,'X',\"F\"],\n",
    "       [2,\"Y\",\"G\"]]\n",
    "\n",
    "\n",
    "    \n",
    "print(sorted(data, key=lambda x:x[1:2]))# x"
   ]
  },
  {
   "cell_type": "code",
   "execution_count": 64,
   "id": "16fa5518",
   "metadata": {},
   "outputs": [
    {
     "name": "stdout",
     "output_type": "stream",
     "text": [
      "[[3, 'X', 'F'], [2, 'Y', 'G'], [1, 'Z', 'E']]\n"
     ]
    }
   ],
   "source": [
    "def custom_sort_key(item):\n",
    "    return item[1]\n",
    "\n",
    "data = [[1,'Z',\"E\"],\n",
    "        [3,'X',\"F\"],\n",
    "        [2,\"Y\",\"G\"]]\n",
    "\n",
    "sorted_data = sorted(data, key=custom_sort_key)\n",
    "print(sorted_data)\n"
   ]
  },
  {
   "cell_type": "code",
   "execution_count": 65,
   "id": "bf013729",
   "metadata": {},
   "outputs": [
    {
     "data": {
      "text/plain": [
       "[1, 'Z', 'E']"
      ]
     },
     "execution_count": 65,
     "metadata": {},
     "output_type": "execute_result"
    }
   ],
   "source": [
    "data[0]"
   ]
  },
  {
   "cell_type": "code",
   "execution_count": 66,
   "id": "85ab31f7",
   "metadata": {},
   "outputs": [
    {
     "ename": "TypeError",
     "evalue": "'int' object is not callable",
     "output_type": "error",
     "traceback": [
      "\u001b[0;31m---------------------------------------------------------------------------\u001b[0m",
      "\u001b[0;31mTypeError\u001b[0m                                 Traceback (most recent call last)",
      "Cell \u001b[0;32mIn[66], line 8\u001b[0m\n\u001b[1;32m      2\u001b[0m     \u001b[38;5;28;01mreturn\u001b[39;00m item[\u001b[38;5;241m1\u001b[39m]\n\u001b[1;32m      4\u001b[0m data \u001b[38;5;241m=\u001b[39m [[\u001b[38;5;241m1\u001b[39m,\u001b[38;5;124m'\u001b[39m\u001b[38;5;124mZ\u001b[39m\u001b[38;5;124m'\u001b[39m,\u001b[38;5;124m\"\u001b[39m\u001b[38;5;124mE\u001b[39m\u001b[38;5;124m\"\u001b[39m],\n\u001b[1;32m      5\u001b[0m         [\u001b[38;5;241m3\u001b[39m,\u001b[38;5;124m'\u001b[39m\u001b[38;5;124mX\u001b[39m\u001b[38;5;124m'\u001b[39m,\u001b[38;5;124m\"\u001b[39m\u001b[38;5;124mF\u001b[39m\u001b[38;5;124m\"\u001b[39m],\n\u001b[1;32m      6\u001b[0m         [\u001b[38;5;241m2\u001b[39m,\u001b[38;5;124m\"\u001b[39m\u001b[38;5;124mY\u001b[39m\u001b[38;5;124m\"\u001b[39m,\u001b[38;5;124m\"\u001b[39m\u001b[38;5;124mG\u001b[39m\u001b[38;5;124m\"\u001b[39m]]\n\u001b[0;32m----> 8\u001b[0m sorted_data \u001b[38;5;241m=\u001b[39m \u001b[38;5;28msorted\u001b[39m(data, key\u001b[38;5;241m=\u001b[39mdata[\u001b[38;5;241m0\u001b[39m][\u001b[38;5;241m0\u001b[39m])\n\u001b[1;32m      9\u001b[0m \u001b[38;5;28mprint\u001b[39m(sorted_data)\n",
      "\u001b[0;31mTypeError\u001b[0m: 'int' object is not callable"
     ]
    }
   ],
   "source": [
    "def custom_sort_key(item):\n",
    "    return item[1]\n",
    "\n",
    "data = [[1,'Z',\"E\"],\n",
    "        [3,'X',\"F\"],\n",
    "        [2,\"Y\",\"G\"]]\n",
    "\n",
    "sorted_data = sorted(data, key=data[0][0])\n",
    "print(sorted_data)\n"
   ]
  },
  {
   "cell_type": "code",
   "execution_count": 68,
   "id": "91d0cae3",
   "metadata": {},
   "outputs": [
    {
     "data": {
      "text/plain": [
       "range(1, 11)"
      ]
     },
     "execution_count": 68,
     "metadata": {},
     "output_type": "execute_result"
    }
   ],
   "source": [
    "range(1,11)"
   ]
  },
  {
   "cell_type": "code",
   "execution_count": 69,
   "id": "35a06e5e",
   "metadata": {},
   "outputs": [
    {
     "ename": "TypeError",
     "evalue": "'range' object is not an iterator",
     "output_type": "error",
     "traceback": [
      "\u001b[0;31m---------------------------------------------------------------------------\u001b[0m",
      "\u001b[0;31mTypeError\u001b[0m                                 Traceback (most recent call last)",
      "Cell \u001b[0;32mIn[69], line 2\u001b[0m\n\u001b[1;32m      1\u001b[0m a \u001b[38;5;241m=\u001b[39m \u001b[38;5;28mrange\u001b[39m(\u001b[38;5;241m1\u001b[39m,\u001b[38;5;241m11\u001b[39m)\n\u001b[0;32m----> 2\u001b[0m \u001b[38;5;28mprint\u001b[39m(\u001b[38;5;28mnext\u001b[39m(a))\n\u001b[1;32m      3\u001b[0m \u001b[38;5;28mprint\u001b[39m(\u001b[38;5;28mnext\u001b[39m(a))\n\u001b[1;32m      4\u001b[0m \u001b[38;5;28mprint\u001b[39m(\u001b[38;5;28mnext\u001b[39m(a))\n",
      "\u001b[0;31mTypeError\u001b[0m: 'range' object is not an iterator"
     ]
    }
   ],
   "source": [
    "a = range(1,11)\n",
    "print(next(a))\n",
    "print(next(a))\n",
    "print(next(a))"
   ]
  },
  {
   "cell_type": "markdown",
   "id": "df04c660",
   "metadata": {},
   "source": [
    "# Generator Function"
   ]
  },
  {
   "cell_type": "code",
   "execution_count": 75,
   "id": "d35f8720",
   "metadata": {},
   "outputs": [
    {
     "name": "stdout",
     "output_type": "stream",
     "text": [
      "1\n",
      "2\n",
      "3\n",
      "4\n"
     ]
    }
   ],
   "source": [
    "def my_range(start,end,step=1):\n",
    "    for i in range(start,end+1, step):\n",
    "        yield i\n",
    "        \n",
    "        \n",
    "a = my_range(1,11)\n",
    "print(next(a))\n",
    "print(next(a))\n",
    "print(next(a))\n",
    "print(next(a))"
   ]
  },
  {
   "cell_type": "code",
   "execution_count": 76,
   "id": "3b120df1",
   "metadata": {},
   "outputs": [
    {
     "name": "stdout",
     "output_type": "stream",
     "text": [
      "Hellow\n"
     ]
    }
   ],
   "source": [
    "print(\"Hellow\")"
   ]
  },
  {
   "cell_type": "code",
   "execution_count": 77,
   "id": "21365fb6",
   "metadata": {},
   "outputs": [
    {
     "name": "stdout",
     "output_type": "stream",
     "text": [
      "5\n"
     ]
    }
   ],
   "source": [
    "print(next(a))"
   ]
  },
  {
   "cell_type": "code",
   "execution_count": 78,
   "id": "c175847c",
   "metadata": {},
   "outputs": [
    {
     "name": "stdout",
     "output_type": "stream",
     "text": [
      "The factorial of 5 is 120\n"
     ]
    }
   ],
   "source": [
    "def factorial(n):\n",
    "    if n == 0 or n == 1:\n",
    "        return 1\n",
    "    else:\n",
    "        return n * factorial(n - 1)\n",
    "\n",
    "# Test the function\n",
    "number = 5\n",
    "result = factorial(number)\n",
    "print(f\"The factorial of {number} is {result}\")\n"
   ]
  },
  {
   "cell_type": "code",
   "execution_count": null,
   "id": "6d286495",
   "metadata": {},
   "outputs": [],
   "source": []
  }
 ],
 "metadata": {
  "kernelspec": {
   "display_name": "Python 3 (ipykernel)",
   "language": "python",
   "name": "python3"
  },
  "language_info": {
   "codemirror_mode": {
    "name": "ipython",
    "version": 3
   },
   "file_extension": ".py",
   "mimetype": "text/x-python",
   "name": "python",
   "nbconvert_exporter": "python",
   "pygments_lexer": "ipython3",
   "version": "3.11.3"
  }
 },
 "nbformat": 4,
 "nbformat_minor": 5
}

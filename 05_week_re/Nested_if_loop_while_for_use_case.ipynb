{
 "cells": [
  {
   "cell_type": "markdown",
   "id": "319c56c6",
   "metadata": {},
   "source": [
    "Usecase:\n",
    "* user input\n",
    "* password\n",
    "    \n",
    "Logic\n",
    "*   user_input equal \"admin\"\n",
    "*   password equal  \"admin123\"\n",
    "    * Valid user\n",
    "\n",
    "Message display\n",
    "    "
   ]
  },
  {
   "cell_type": "code",
   "execution_count": 3,
   "id": "51369b04",
   "metadata": {},
   "outputs": [
    {
     "name": "stdout",
     "output_type": "stream",
     "text": [
      "Enter user name: \tadmin\n",
      "Valid user\n",
      "Enter your password: \taaaaa\n",
      "re enter valid password\n"
     ]
    }
   ],
   "source": [
    "qasim = input(\"Enter user name: \\t\")\n",
    "\n",
    "if admin == \"admin\":# step1 only check username \n",
    "    print(\"Valid user\")\n",
    "    password = input(\"Enter your password: \\t\")\n",
    "    if password == 'admin123': # step2 child \n",
    "        print(\"Valid user name and password!\")\n",
    "    else:\n",
    "        print(\"re enter valid passwordadmin\")\n",
    "else:\n",
    "    print(\"Please enter valid user name\")"
   ]
  },
  {
   "cell_type": "code",
   "execution_count": 5,
   "id": "7f730b02",
   "metadata": {},
   "outputs": [
    {
     "name": "stdout",
     "output_type": "stream",
     "text": [
      "Enter user name: \tadmin\n",
      "Valid user\n",
      "Enter your password: \tadmin123\n",
      "Valid user name and password!\n",
      "OTP123\n",
      "Welcome User\n"
     ]
    }
   ],
   "source": [
    "user = input(\"Enter user name: \\t\")\n",
    "\n",
    "if user == \"admin\":# step1 only check username \n",
    "    print(\"Valid user\")\n",
    "    password = input(\"Enter your password: \\t\")\n",
    "    if password == 'admin123': # step2 child \n",
    "        print(\"Valid user name and password!\")\n",
    "        otp = input(\"OTP\")\n",
    "        if otp == '123':# step3\n",
    "            print(\"Welcome User\")\n",
    "        else:\n",
    "            print(\"NotValid OTP blocked now!\")\n",
    "    else:\n",
    "        print(\"re enter valid passwordadmin\")\n",
    "else:\n",
    "    print(\"Please enter valid user name\")"
   ]
  },
  {
   "cell_type": "code",
   "execution_count": 6,
   "id": "ef69b5a5",
   "metadata": {},
   "outputs": [
    {
     "name": "stdout",
     "output_type": "stream",
     "text": [
      "Enter your username: user123\n",
      "Enter your password: pass456\n",
      "Enter the OTP: 123456\n",
      "Username verified.\n",
      "Password verified.\n",
      "OTP verified. Authentication successful!\n"
     ]
    }
   ],
   "source": [
    "# Sample data\n",
    "stored_username = \"user123\"\n",
    "stored_password = \"pass456\"\n",
    "stored_otp = \"123456\"\n",
    "\n",
    "# Input from user\n",
    "input_username = input(\"Enter your username: \")\n",
    "input_password = input(\"Enter your password: \")\n",
    "input_otp = input(\"Enter the OTP: \")\n",
    "\n",
    "# First layer: Username check\n",
    "if input_username == stored_username:\n",
    "    print(\"Username verified.\")\n",
    "    \n",
    "    # Second layer: Password check\n",
    "    if input_password == stored_password:\n",
    "        print(\"Password verified.\")\n",
    "        \n",
    "        # Third layer: OTP check\n",
    "        if input_otp == stored_otp:\n",
    "            print(\"OTP verified. Authentication successful!\")\n",
    "        else:\n",
    "            print(\"Incorrect OTP. Authentication failed.\")\n",
    "    else:\n",
    "        print(\"Incorrect password. Authentication failed.\")\n",
    "else:\n",
    "    print(\"Username not recognized. Authentication failed.\")\n"
   ]
  },
  {
   "cell_type": "code",
   "execution_count": 7,
   "id": "ab76271f",
   "metadata": {},
   "outputs": [
    {
     "name": "stdout",
     "output_type": "stream",
     "text": [
      "Valid user\n"
     ]
    }
   ],
   "source": [
    "user = 'admin'\n",
    "password = 'admin123'\n",
    "otp = '123'\n",
    "\n",
    "if user=='admin' and password == 'admin123' and otp == '123':# one layer\n",
    "    print(\"Valid user\")\n",
    "else:\n",
    "    print(\"Not valid user\")"
   ]
  },
  {
   "cell_type": "markdown",
   "id": "b1e5586f",
   "metadata": {},
   "source": [
    "# LOOP \n",
    "* while\n",
    "* for\n",
    "* controls - optional\n",
    "    * break \n",
    "    * continue\n",
    "    * pass\n",
    "    \n",
    "* **Three things are important**\n",
    "    * counter\n",
    "    * logic\n",
    "    * increament/Decrement"
   ]
  },
  {
   "cell_type": "code",
   "execution_count": 14,
   "id": "7f1c24a5",
   "metadata": {},
   "outputs": [
    {
     "name": "stdout",
     "output_type": "stream",
     "text": [
      "0\n",
      "1\n",
      "2\n",
      "3\n",
      "4\n",
      "5\n",
      "6\n",
      "7\n",
      "8\n",
      "9\n",
      "10\n",
      "Hello\n"
     ]
    }
   ],
   "source": [
    "counter = 0 # counter\n",
    "\n",
    "while counter <= 10: # logic\n",
    "    print(counter)\n",
    "    counter += 1\n",
    "else:\n",
    "    print(\"Hello\")\n",
    "    "
   ]
  },
  {
   "cell_type": "code",
   "execution_count": 17,
   "id": "2462788b",
   "metadata": {},
   "outputs": [
    {
     "name": "stdout",
     "output_type": "stream",
     "text": [
      "100\n",
      "99\n",
      "98\n",
      "97\n",
      "96\n",
      "95\n",
      "94\n",
      "93\n",
      "92\n",
      "91\n",
      "90\n",
      "89\n",
      "88\n",
      "87\n",
      "86\n",
      "85\n",
      "84\n",
      "83\n",
      "82\n",
      "81\n",
      "80\n",
      "79\n",
      "78\n",
      "77\n",
      "76\n",
      "75\n",
      "74\n",
      "73\n",
      "72\n",
      "71\n",
      "70\n",
      "69\n",
      "68\n",
      "67\n",
      "66\n",
      "65\n",
      "64\n",
      "63\n",
      "62\n",
      "61\n",
      "60\n",
      "59\n",
      "58\n",
      "57\n",
      "56\n",
      "55\n",
      "54\n",
      "53\n",
      "52\n",
      "51\n",
      "50\n",
      "49\n",
      "48\n",
      "47\n",
      "46\n",
      "45\n",
      "44\n",
      "43\n",
      "42\n",
      "41\n",
      "40\n",
      "39\n",
      "38\n",
      "37\n",
      "36\n",
      "35\n",
      "34\n",
      "33\n",
      "32\n",
      "31\n",
      "30\n",
      "29\n",
      "28\n",
      "27\n",
      "26\n",
      "25\n",
      "24\n",
      "23\n",
      "22\n",
      "21\n",
      "20\n",
      "19\n",
      "18\n",
      "17\n",
      "16\n",
      "15\n",
      "14\n",
      "13\n",
      "12\n",
      "11\n",
      "10\n",
      "9\n",
      "8\n",
      "7\n",
      "6\n",
      "5\n",
      "4\n",
      "3\n",
      "2\n",
      "1\n"
     ]
    }
   ],
   "source": [
    "counter = 100\n",
    "while counter > 0:\n",
    "    print(counter)\n",
    "    counter -= 1"
   ]
  },
  {
   "cell_type": "code",
   "execution_count": 18,
   "id": "82297d30",
   "metadata": {},
   "outputs": [
    {
     "name": "stdout",
     "output_type": "stream",
     "text": [
      "1\n",
      "2\n",
      "3\n",
      "4\n",
      "5\n"
     ]
    }
   ],
   "source": [
    "counter = 1\n",
    "\n",
    "while counter < 1000000:\n",
    "    print(counter)\n",
    "    if counter == 5:\n",
    "        break\n",
    "    counter += 1\n",
    "    \n",
    "    "
   ]
  },
  {
   "cell_type": "code",
   "execution_count": 22,
   "id": "8e281a75",
   "metadata": {},
   "outputs": [
    {
     "name": "stdout",
     "output_type": "stream",
     "text": [
      "1\n",
      "2\n",
      "4\n",
      "5\n",
      "6\n",
      "7\n",
      "8\n",
      "9\n"
     ]
    }
   ],
   "source": [
    "i = 0\n",
    "while i < 9:\n",
    "    i += 1\n",
    "    if i == 3:\n",
    "        continue # ignore everything in block below for this step only\n",
    "    print(i)\n"
   ]
  },
  {
   "cell_type": "code",
   "execution_count": 25,
   "id": "97ae84bd",
   "metadata": {},
   "outputs": [
    {
     "name": "stdout",
     "output_type": "stream",
     "text": [
      "1\n",
      "2\n",
      "3\n"
     ]
    }
   ],
   "source": [
    "i = 1\n",
    "print(i)\n",
    "i += 1 # add 1 in previouse value\n",
    "print(i)\n",
    "i += 1 # add 1 in previouse value\n",
    "print(i)"
   ]
  },
  {
   "cell_type": "markdown",
   "id": "6a80a5a4",
   "metadata": {},
   "source": [
    "# For loop\n",
    "```\n",
    "for (counter;logic;inc/dec){\n",
    "    \n",
    "}\n",
    "```"
   ]
  },
  {
   "cell_type": "code",
   "execution_count": 26,
   "id": "c0767142",
   "metadata": {},
   "outputs": [
    {
     "name": "stdout",
     "output_type": "stream",
     "text": [
      "a\n",
      "b\n",
      "c\n",
      "d\n"
     ]
    }
   ],
   "source": [
    "#        0.  1.  2.  3\n",
    "name = ['a','b','c','d']\n",
    "\n",
    "print(name[0])\n",
    "print(name[1])\n",
    "print(name[2])\n",
    "print(name[3])"
   ]
  },
  {
   "cell_type": "code",
   "execution_count": 30,
   "id": "913c2d20",
   "metadata": {},
   "outputs": [
    {
     "name": "stdout",
     "output_type": "stream",
     "text": [
      "a\n",
      "b\n",
      "c\n",
      "d\n",
      "e\n",
      "f\n",
      "g\n"
     ]
    }
   ],
   "source": [
    "#.       0.  1.  2.  3\n",
    "name = ['a','b','c','d','e','f','g']\n",
    "\n",
    "#print(len(name)) #output 4\n",
    "\n",
    "i = 0\n",
    "while i < len(name): # dyamic length\n",
    "    print(name[i])\n",
    "    i += 1\n"
   ]
  },
  {
   "cell_type": "code",
   "execution_count": 35,
   "id": "9ac3d617",
   "metadata": {},
   "outputs": [
    {
     "name": "stdout",
     "output_type": "stream",
     "text": [
      "g\n",
      "f\n",
      "e\n",
      "d\n",
      "c\n",
      "b\n",
      "a\n"
     ]
    }
   ],
   "source": [
    "#count   1.  2.  3.  4\n",
    "#index   0.  1.  2.  3\n",
    "name = ['a','b','c','d','e','f','g']\n",
    "\n",
    "#print(len(name)) #output 4\n",
    "\n",
    "i = len(name)-1\n",
    "\n",
    "while i >= 0: # dyamic length\n",
    "    print(name[i])\n",
    "    i -= 1\n"
   ]
  },
  {
   "cell_type": "code",
   "execution_count": 36,
   "id": "c8c276a1",
   "metadata": {},
   "outputs": [
    {
     "name": "stdout",
     "output_type": "stream",
     "text": [
      "2023\n",
      "2022\n",
      "2021\n",
      "2020\n",
      "2019\n",
      "2018\n",
      "2017\n",
      "2016\n",
      "2015\n",
      "2014\n",
      "2013\n",
      "2012\n",
      "2011\n",
      "2010\n",
      "2009\n",
      "2008\n",
      "2007\n",
      "2006\n",
      "2005\n",
      "2004\n",
      "2003\n",
      "2002\n",
      "2001\n",
      "2000\n",
      "1999\n",
      "1998\n",
      "1997\n",
      "1996\n",
      "1995\n",
      "1994\n",
      "1993\n",
      "1992\n",
      "1991\n",
      "1990\n",
      "1989\n",
      "1988\n",
      "1987\n",
      "1986\n",
      "1985\n",
      "1984\n",
      "1983\n",
      "1982\n",
      "1981\n",
      "1980\n"
     ]
    }
   ],
   "source": [
    "year = 2023\n",
    "\n",
    "while year >= 1980:\n",
    "    print(year)\n",
    "    year -= 1"
   ]
  },
  {
   "cell_type": "code",
   "execution_count": 37,
   "id": "8899725b",
   "metadata": {},
   "outputs": [
    {
     "name": "stdout",
     "output_type": "stream",
     "text": [
      "a\n",
      "b\n",
      "c\n",
      "d\n",
      "e\n",
      "f\n",
      "g\n"
     ]
    }
   ],
   "source": [
    "names = ['a','b','c','d','e','f','g']\n",
    "\n",
    "for name in names:\n",
    "    print(name)"
   ]
  },
  {
   "cell_type": "code",
   "execution_count": 38,
   "id": "9cb5b0b5",
   "metadata": {},
   "outputs": [
    {
     "name": "stdout",
     "output_type": "stream",
     "text": [
      "Hello Mr/Miss, a, Welcome in our AI Class!\n",
      "Hello Mr/Miss, b, Welcome in our AI Class!\n",
      "Hello Mr/Miss, c, Welcome in our AI Class!\n",
      "Hello Mr/Miss, d, Welcome in our AI Class!\n",
      "Hello Mr/Miss, e, Welcome in our AI Class!\n",
      "Hello Mr/Miss, f, Welcome in our AI Class!\n",
      "Hello Mr/Miss, g, Welcome in our AI Class!\n"
     ]
    }
   ],
   "source": [
    "names = ['a','b','c','d','e','f','g']\n",
    "\n",
    "for name in names:\n",
    "    print(f'Hello Mr/Miss, {name}, Welcome in our AI Class!')"
   ]
  },
  {
   "cell_type": "code",
   "execution_count": 39,
   "id": "51352009",
   "metadata": {},
   "outputs": [
    {
     "data": {
      "text/plain": [
       "[(1, 'a'), (2, 'b'), (3, 'c')]"
      ]
     },
     "execution_count": 39,
     "metadata": {},
     "output_type": "execute_result"
    }
   ],
   "source": [
    "a = [1,2,3]\n",
    "b = ['a','b','c']\n",
    "list(zip(a,b))"
   ]
  },
  {
   "cell_type": "code",
   "execution_count": 40,
   "id": "ac680454",
   "metadata": {},
   "outputs": [
    {
     "data": {
      "text/plain": [
       "[('ali', 22, 'AI'), ('hamza', 25, 'ML'), ('junaid', 30, 'DS')]"
      ]
     },
     "execution_count": 40,
     "metadata": {},
     "output_type": "execute_result"
    }
   ],
   "source": [
    "names = ['ali','hamza','junaid']\n",
    "ages = [22,25,30]\n",
    "courses = ['AI',\"ML\",\"DS\"]\n",
    "\n",
    "data = list(zip(names,ages,courses))\n",
    "\n",
    "data"
   ]
  },
  {
   "cell_type": "code",
   "execution_count": 41,
   "id": "812ff221",
   "metadata": {},
   "outputs": [
    {
     "name": "stdout",
     "output_type": "stream",
     "text": [
      "1\n",
      "2\n",
      "3\n"
     ]
    }
   ],
   "source": [
    "a,b,c = [1,2,3] # unzip\n",
    "\n",
    "print(a)\n",
    "print(b)\n",
    "print(c)"
   ]
  },
  {
   "cell_type": "code",
   "execution_count": 44,
   "id": "03912e6b",
   "metadata": {},
   "outputs": [
    {
     "name": "stdout",
     "output_type": "stream",
     "text": [
      "1\n",
      "2\n",
      "3\n"
     ]
    }
   ],
   "source": [
    "a,b,c = [1,2,3] # unzip\n",
    "\n",
    "print(a)\n",
    "print(b)\n",
    "print(c)"
   ]
  },
  {
   "cell_type": "code",
   "execution_count": 45,
   "id": "13a736eb",
   "metadata": {},
   "outputs": [
    {
     "name": "stdout",
     "output_type": "stream",
     "text": [
      "Hello Dear ali, Welcome in AI Course class, your are 22 years old\n",
      "Hello Dear hamza, Welcome in ML Course class, your are 25 years old\n",
      "Hello Dear junaid, Welcome in DS Course class, your are 30 years old\n"
     ]
    }
   ],
   "source": [
    "names = ['ali','hamza','junaid']\n",
    "ages = [22,25,30]\n",
    "courses = ['AI',\"ML\",\"DS\"]\n",
    "\n",
    "for name,age, course in zip(names,ages,courses):\n",
    "    print(f'Hello Dear {name}, Welcome in {course} Course class, your are {age} years old')\n",
    "\n"
   ]
  },
  {
   "cell_type": "code",
   "execution_count": 46,
   "id": "6d7c9256",
   "metadata": {},
   "outputs": [
    {
     "name": "stdout",
     "output_type": "stream",
     "text": [
      "UserName:\tb\n",
      "Password:\t2\n",
      "Welcome Dear b!\n"
     ]
    }
   ],
   "source": [
    "users = ['a','b','c']\n",
    "password = ['1','2','3']\n",
    "\n",
    "ui = input(\"UserName:\\t\")\n",
    "pi = input(\"Password:\\t\")\n",
    "\n",
    "for u,p in zip(users,password):\n",
    "    if ui == u and pi == p:\n",
    "        print(f\"Welcome Dear {u}!\")\n",
    "        break\n",
    "        \n",
    "else:\n",
    "    print(\"Not Valid user name password!\")\n",
    "    \n"
   ]
  },
  {
   "cell_type": "code",
   "execution_count": 47,
   "id": "72eb8004",
   "metadata": {},
   "outputs": [
    {
     "name": "stdout",
     "output_type": "stream",
     "text": [
      "UserName:\td\n",
      "Password:\t55\n",
      "Not Valid user name password!\n"
     ]
    }
   ],
   "source": [
    "users = ['a','b','c']\n",
    "password = ['1','2','3']\n",
    "\n",
    "ui = input(\"UserName:\\t\")\n",
    "pi = input(\"Password:\\t\")\n",
    "\n",
    "for u,p in zip(users,password):\n",
    "    if ui == u and pi == p:\n",
    "        print(f\"Welcome Dear {u}!\")\n",
    "        break\n",
    "        \n",
    "else:\n",
    "    print(\"Not Valid user name password!\")\n",
    "    \n"
   ]
  },
  {
   "cell_type": "code",
   "execution_count": 49,
   "id": "06ff23c8",
   "metadata": {},
   "outputs": [
    {
     "data": {
      "text/plain": [
       "[(0, 'ali'), (1, 'hamza'), (2, 'junaid')]"
      ]
     },
     "execution_count": 49,
     "metadata": {},
     "output_type": "execute_result"
    }
   ],
   "source": [
    "#         0      1.      2\n",
    "names = ['ali','hamza','junaid']\n",
    "list(enumerate(names))"
   ]
  },
  {
   "cell_type": "code",
   "execution_count": 50,
   "id": "030997e9",
   "metadata": {},
   "outputs": [
    {
     "name": "stdout",
     "output_type": "stream",
     "text": [
      "0 ali\n",
      "1 hamza\n",
      "2 junaid\n"
     ]
    }
   ],
   "source": [
    "names = ['ali','hamza','junaid']\n",
    "for idx, value in enumerate(names):\n",
    "    print(idx, value)"
   ]
  },
  {
   "cell_type": "code",
   "execution_count": 51,
   "id": "95ef5567",
   "metadata": {},
   "outputs": [
    {
     "name": "stdout",
     "output_type": "stream",
     "text": [
      "['a', 'b', 'c', 'd', 'e', 'f', 'g', 'h', 'i', 'j', 'k', 'l', 'm', 'n', 'o', 'p', 'q', 'r', 's', 't', 'u', 'v', 'w', 'x', 'y', 'z']\n"
     ]
    }
   ],
   "source": [
    "names = list('abcdefghijklmnopqrstuvwxyz')\n",
    "print(names)"
   ]
  },
  {
   "cell_type": "code",
   "execution_count": 52,
   "id": "6011d5d3",
   "metadata": {},
   "outputs": [
    {
     "name": "stdout",
     "output_type": "stream",
     "text": [
      "Hello a!\n",
      "Hello c!\n",
      "Hello d!\n",
      "Hello e!\n",
      "Hello f!\n",
      "Hello g!\n",
      "Hello h!\n",
      "Hello i!\n",
      "Hello j!\n",
      "Hello l!\n",
      "Hello m!\n",
      "Hello n!\n",
      "Hello o!\n",
      "Hello p!\n",
      "Hello q!\n",
      "Hello r!\n",
      "Hello s!\n",
      "Hello t!\n",
      "Hello u!\n",
      "Hello v!\n",
      "Hello x!\n",
      "Hello y!\n"
     ]
    }
   ],
   "source": [
    "names = list('abcdefghijklmnopqrstuvwxyz')\n",
    "blocked_customer = ['b','z','k','w']\n",
    "\n",
    "for name in names:\n",
    "    if name not in blocked_customer:\n",
    "        print(f'Hello {name}!')"
   ]
  },
  {
   "cell_type": "markdown",
   "id": "8917c870",
   "metadata": {},
   "source": [
    "# Create Data Enter System using loop\n",
    "* you can enter records unit your \"enter\" **exit|x**"
   ]
  },
  {
   "cell_type": "code",
   "execution_count": 54,
   "id": "c6304771",
   "metadata": {},
   "outputs": [
    {
     "name": "stdout",
     "output_type": "stream",
     "text": [
      "namea\n",
      "password1\n",
      "nameb\n",
      "password2\n",
      "nameb\n",
      "password3\n",
      "named\n",
      "password4\n",
      "nameexit\n",
      "password\n"
     ]
    }
   ],
   "source": [
    "data = []\n",
    "\n",
    "while True:\n",
    "    n = input(\"name\")\n",
    "    p = input(\"password\")\n",
    "    if n=='exit' or n == 'x':\n",
    "        break\n",
    "        \n",
    "    data.append([n,p])"
   ]
  },
  {
   "cell_type": "code",
   "execution_count": 55,
   "id": "8550c5f8",
   "metadata": {},
   "outputs": [
    {
     "data": {
      "text/plain": [
       "[['a', '1'], ['b', '2'], ['b', '3'], ['d', '4']]"
      ]
     },
     "execution_count": 55,
     "metadata": {},
     "output_type": "execute_result"
    }
   ],
   "source": [
    "data"
   ]
  },
  {
   "cell_type": "code",
   "execution_count": null,
   "id": "38cb4a04",
   "metadata": {},
   "outputs": [],
   "source": []
  }
 ],
 "metadata": {
  "kernelspec": {
   "display_name": "Python 3 (ipykernel)",
   "language": "python",
   "name": "python3"
  },
  "language_info": {
   "codemirror_mode": {
    "name": "ipython",
    "version": 3
   },
   "file_extension": ".py",
   "mimetype": "text/x-python",
   "name": "python",
   "nbconvert_exporter": "python",
   "pygments_lexer": "ipython3",
   "version": "3.11.3"
  }
 },
 "nbformat": 4,
 "nbformat_minor": 5
}

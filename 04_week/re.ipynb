{
 "cells": [
  {
   "cell_type": "markdown",
   "id": "f7c389be",
   "metadata": {},
   "source": [
    "```We love our country! Pakistaz Zinda bad!```<br>\n",
    "   ff ffffffffffffffffffttttttttff\n",
    "                        Pakistan   \n",
    "**Pakistan**\n",
    "\n",
    "## we have some special character for special purpose\n",
    "```\n",
    ". any thing except \\n\n",
    "* zero or many\n",
    "+ one or may\n",
    "^ start\n",
    "```"
   ]
  },
  {
   "cell_type": "code",
   "execution_count": 1,
   "id": "f26f339d",
   "metadata": {},
   "outputs": [],
   "source": [
    "import re"
   ]
  },
  {
   "cell_type": "code",
   "execution_count": 22,
   "id": "5c203074",
   "metadata": {},
   "outputs": [
    {
     "name": "stdout",
     "output_type": "stream",
     "text": [
      "['A', 'ASCII', 'DEBUG', 'DOTALL', 'I', 'IGNORECASE', 'L', 'LOCALE', 'M', 'MULTILINE', 'Match', 'NOFLAG', 'Pattern', 'RegexFlag', 'S', 'Scanner', 'T', 'TEMPLATE', 'U', 'UNICODE', 'VERBOSE', 'X', '_MAXCACHE', '__all__', '__builtins__', '__cached__', '__doc__', '__file__', '__loader__', '__name__', '__package__', '__path__', '__spec__', '__version__', '__warningregistry__', '_cache', '_casefix', '_compile', '_compile_repl', '_compiler', '_constants', '_expand', '_parser', '_pickle', '_special_chars_map', '_subx', 'compile', 'copyreg', 'enum', 'error', 'escape', 'findall', 'finditer', 'fullmatch', 'functools', 'match', 'purge', 'search', 'split', 'sub', 'subn', 'template']\n"
     ]
    }
   ],
   "source": [
    "print(dir(re))"
   ]
  },
  {
   "cell_type": "code",
   "execution_count": 4,
   "id": "790652c9",
   "metadata": {},
   "outputs": [
    {
     "data": {
      "text/plain": [
       "['A',\n",
       " 'ASCII',\n",
       " 'DEBUG',\n",
       " 'DOTALL',\n",
       " 'I',\n",
       " 'IGNORECASE',\n",
       " 'L',\n",
       " 'LOCALE',\n",
       " 'M',\n",
       " 'MULTILINE',\n",
       " 'Match',\n",
       " 'NOFLAG',\n",
       " 'Pattern',\n",
       " 'RegexFlag',\n",
       " 'S',\n",
       " 'Scanner',\n",
       " 'T',\n",
       " 'TEMPLATE',\n",
       " 'U',\n",
       " 'UNICODE',\n",
       " 'VERBOSE',\n",
       " 'X',\n",
       " 'compile',\n",
       " 'copyreg',\n",
       " 'enum',\n",
       " 'error',\n",
       " 'escape',\n",
       " 'findall',\n",
       " 'finditer',\n",
       " 'fullmatch',\n",
       " 'functools',\n",
       " 'match',\n",
       " 'purge',\n",
       " 'search',\n",
       " 'split',\n",
       " 'sub',\n",
       " 'subn',\n",
       " 'template']"
      ]
     },
     "execution_count": 4,
     "metadata": {},
     "output_type": "execute_result"
    }
   ],
   "source": [
    "# methods and attributes\n",
    "[i for i in dir(re) if \"_\" not in i]"
   ]
  },
  {
   "cell_type": "markdown",
   "id": "7100115e",
   "metadata": {},
   "source": [
    "word boundary concept\n",
    "* \\b \\b"
   ]
  },
  {
   "cell_type": "markdown",
   "id": "19683457",
   "metadata": {},
   "source": [
    "if you want to apply boundayr concept you have to use \"r\" befor pattern"
   ]
  },
  {
   "cell_type": "code",
   "execution_count": 114,
   "id": "0d4a0120",
   "metadata": {},
   "outputs": [
    {
     "data": {
      "text/plain": [
       "['pakistan', 'pakanandan']"
      ]
     },
     "execution_count": 114,
     "metadata": {},
     "output_type": "execute_result"
    }
   ],
   "source": [
    "text = \"\"\"\n",
    "pakistan zinda bad\n",
    "pakab adkajdskfj asdjl\n",
    "paik hellow\n",
    "pakanandan kajsdf alsdjfa\n",
    "pak aksdjfkasd fas\n",
    "\"\"\"\n",
    "\n",
    "pattern = r\"\\bp.+n\\b\"\n",
    "\n",
    "l = re.findall(pattern, text, re.M) \n",
    "l"
   ]
  },
  {
   "cell_type": "code",
   "execution_count": null,
   "id": "4574e7a4",
   "metadata": {},
   "outputs": [],
   "source": [
    "p\n"
   ]
  },
  {
   "cell_type": "code",
   "execution_count": 103,
   "id": "83cd9e2a",
   "metadata": {},
   "outputs": [
    {
     "data": {
      "text/plain": [
       "['pak', 'pakab adkajdsk', 'pik']"
      ]
     },
     "execution_count": 103,
     "metadata": {},
     "output_type": "execute_result"
    }
   ],
   "source": [
    "text = \"\"\"\n",
    "pakistan zinda bad\n",
    "pakab adkajdskfj asdjl\n",
    "pik hellow\n",
    "\"\"\"\n",
    "\n",
    "pattern = \"p.+k\"\n",
    "\n",
    "l = re.findall(pattern, text, re.M) \n",
    "l"
   ]
  },
  {
   "cell_type": "code",
   "execution_count": 11,
   "id": "834200f0",
   "metadata": {},
   "outputs": [
    {
     "data": {
      "text/plain": [
       "['r', 'r']"
      ]
     },
     "execution_count": 11,
     "metadata": {},
     "output_type": "execute_result"
    }
   ],
   "source": [
    "text = \"We love our country! Pakistan Zinda bad!\"\n",
    "pattern = \"r\" # character sequances\n",
    "\n",
    "re.findall(pattern,text)"
   ]
  },
  {
   "cell_type": "code",
   "execution_count": 13,
   "id": "c35a1e71",
   "metadata": {},
   "outputs": [
    {
     "data": {
      "text/plain": [
       "['Pakistan']"
      ]
     },
     "execution_count": 13,
     "metadata": {},
     "output_type": "execute_result"
    }
   ],
   "source": [
    "text = \"\"\"We love our country! Pakistan Zinda bad! \n",
    "pakistan one of the best contry in the world!\"\"\"\n",
    "\n",
    "\n",
    "\n",
    "pattern = \"Pakistan\" # character sequances\n",
    "\n",
    "re.findall(pattern,text)"
   ]
  },
  {
   "cell_type": "code",
   "execution_count": 23,
   "id": "8547d7fa",
   "metadata": {},
   "outputs": [
    {
     "data": {
      "text/plain": [
       "'We love our country! Pakistan Zinda bad! \\npakistan one of the best contry in the world!'"
      ]
     },
     "metadata": {},
     "output_type": "display_data"
    },
    {
     "data": {
      "text/plain": [
       "['Pakistan', 'pakistan']"
      ]
     },
     "execution_count": 23,
     "metadata": {},
     "output_type": "execute_result"
    }
   ],
   "source": [
    "text = \"\"\"We love our country! Pakistan Zinda bad! \n",
    "pakistan one of the best contry in the world!\"\"\"\n",
    "\n",
    "\n",
    "display(text)\n",
    "\n",
    "\n",
    "pattern = \"Pakistan\" # character sequances\n",
    "\n",
    "re.findall(pattern, text, re.IGNORECASE)"
   ]
  },
  {
   "cell_type": "markdown",
   "id": "0a09ab07",
   "metadata": {},
   "source": [
    "# . anything except \\n\n",
    "# + one or many\n",
    "# * zero or many\n",
    "# ^ start line with\n",
    "# $ ending ling"
   ]
  },
  {
   "cell_type": "code",
   "execution_count": 34,
   "id": "c8a69de7",
   "metadata": {},
   "outputs": [
    {
     "data": {
      "text/plain": [
       "'We love our country! Pakistan Zinda bad! \\npakistan one of the best contry in the world!'"
      ]
     },
     "metadata": {},
     "output_type": "display_data"
    },
    {
     "data": {
      "text/plain": [
       "['W',\n",
       " 'e',\n",
       " ' ',\n",
       " 'l',\n",
       " 'o',\n",
       " 'v',\n",
       " 'e',\n",
       " ' ',\n",
       " 'o',\n",
       " 'u',\n",
       " 'r',\n",
       " ' ',\n",
       " 'c',\n",
       " 'o',\n",
       " 'u',\n",
       " 'n',\n",
       " 't',\n",
       " 'r',\n",
       " 'y',\n",
       " '!',\n",
       " ' ',\n",
       " 'P',\n",
       " 'a',\n",
       " 'k',\n",
       " 'i',\n",
       " 's',\n",
       " 't',\n",
       " 'a',\n",
       " 'n',\n",
       " ' ',\n",
       " 'Z',\n",
       " 'i',\n",
       " 'n',\n",
       " 'd',\n",
       " 'a',\n",
       " ' ',\n",
       " 'b',\n",
       " 'a',\n",
       " 'd',\n",
       " '!',\n",
       " ' ',\n",
       " 'p',\n",
       " 'a',\n",
       " 'k',\n",
       " 'i',\n",
       " 's',\n",
       " 't',\n",
       " 'a',\n",
       " 'n',\n",
       " ' ',\n",
       " 'o',\n",
       " 'n',\n",
       " 'e',\n",
       " ' ',\n",
       " 'o',\n",
       " 'f',\n",
       " ' ',\n",
       " 't',\n",
       " 'h',\n",
       " 'e',\n",
       " ' ',\n",
       " 'b',\n",
       " 'e',\n",
       " 's',\n",
       " 't',\n",
       " ' ',\n",
       " 'c',\n",
       " 'o',\n",
       " 'n',\n",
       " 't',\n",
       " 'r',\n",
       " 'y',\n",
       " ' ',\n",
       " 'i',\n",
       " 'n',\n",
       " ' ',\n",
       " 't',\n",
       " 'h',\n",
       " 'e',\n",
       " ' ',\n",
       " 'w',\n",
       " 'o',\n",
       " 'r',\n",
       " 'l',\n",
       " 'd',\n",
       " '!']"
      ]
     },
     "execution_count": 34,
     "metadata": {},
     "output_type": "execute_result"
    }
   ],
   "source": [
    "text = \"\"\"We love our country! Pakistan Zinda bad! \n",
    "pakistan one of the best contry in the world!\"\"\"\n",
    "\n",
    "\n",
    "display(text)\n",
    "\n",
    "\n",
    "pattern = \".\" # character sequances\n",
    "\n",
    "re.findall(pattern, text, re.IGNORECASE)"
   ]
  },
  {
   "cell_type": "code",
   "execution_count": 32,
   "id": "856ee78d",
   "metadata": {},
   "outputs": [
    {
     "data": {
      "text/plain": [
       "'We love our country! Pakistan Zinda bad! \\npakistan one of the best contry in the world!'"
      ]
     },
     "metadata": {},
     "output_type": "display_data"
    },
    {
     "data": {
      "text/plain": [
       "['We lo',\n",
       " 've ou',\n",
       " 'r cou',\n",
       " 'ntry!',\n",
       " ' Paki',\n",
       " 'stan ',\n",
       " 'Zinda',\n",
       " ' bad!',\n",
       " 'pakis',\n",
       " 'tan o',\n",
       " 'ne of',\n",
       " ' the ',\n",
       " 'best ',\n",
       " 'contr',\n",
       " 'y in ',\n",
       " 'the w',\n",
       " 'orld!']"
      ]
     },
     "execution_count": 32,
     "metadata": {},
     "output_type": "execute_result"
    }
   ],
   "source": [
    "text = \"\"\"We love our country! Pakistan Zinda bad! \n",
    "pakistan one of the best contry in the world!\"\"\"\n",
    "\n",
    "\n",
    "display(text)\n",
    "\n",
    "\n",
    "pattern = \".....\" # character sequances\n",
    "\n",
    "re.findall(pattern, text, re.IGNORECASE)"
   ]
  },
  {
   "cell_type": "code",
   "execution_count": 35,
   "id": "c68e14d3",
   "metadata": {},
   "outputs": [
    {
     "data": {
      "text/plain": [
       "'We love our country! Pakistan Zinda bad! \\npakistan one of the best contry in the world!\\nHello Wolrd'"
      ]
     },
     "metadata": {},
     "output_type": "display_data"
    },
    {
     "data": {
      "text/plain": [
       "['We love our country! Pakistan Zinda bad! ',\n",
       " 'pakistan one of the best contry in the world!',\n",
       " 'Hello Wolrd']"
      ]
     },
     "execution_count": 35,
     "metadata": {},
     "output_type": "execute_result"
    }
   ],
   "source": [
    "text = \"\"\"We love our country! Pakistan Zinda bad! \n",
    "pakistan one of the best contry in the world!\n",
    "Hello Wolrd\"\"\"\n",
    "\n",
    "\n",
    "display(text)\n",
    "\n",
    "# + mean pick the pattern which written before \"+\"\n",
    "pattern = \".+\" # character sequances\n",
    "\n",
    "re.findall(pattern, text, re.IGNORECASE)"
   ]
  },
  {
   "cell_type": "code",
   "execution_count": 36,
   "id": "d1e1104d",
   "metadata": {},
   "outputs": [
    {
     "data": {
      "text/plain": [
       "'We love our country! Pakistan Zinda bad! \\npakistan one of the best contry in the world!\\nHello Wolrd'"
      ]
     },
     "metadata": {},
     "output_type": "display_data"
    },
    {
     "data": {
      "text/plain": [
       "['country! Pakistan Zinda bad! ', 'contry in the world!']"
      ]
     },
     "execution_count": 36,
     "metadata": {},
     "output_type": "execute_result"
    }
   ],
   "source": [
    "text = \"\"\"We love our country! Pakistan Zinda bad! \n",
    "pakistan one of the best contry in the world!\n",
    "Hello Wolrd\"\"\"\n",
    "\n",
    "\n",
    "display(text)\n",
    "\n",
    "# + mean pick the pattern which written before \"+\"\n",
    "pattern = \"c.+\" # character sequances\n",
    "\n",
    "re.findall(pattern, text, re.IGNORECASE)"
   ]
  },
  {
   "cell_type": "code",
   "execution_count": null,
   "id": "d71f2b16",
   "metadata": {},
   "outputs": [],
   "source": [
    "text = \"\"\"We love our country! Pakistan Zinda bad! \n",
    "pakistan one of the best contry in the world!\n",
    "Hello Wolrd\"\"\"\n",
    "\n",
    "\n",
    "display(text)\n",
    "\n",
    "# + mean pick the pattern which written before \"+\"\n",
    "pattern = \"c.+\" # character sequances\n",
    "\n",
    "re.findall(pattern, text, re.IGNORECASE)"
   ]
  },
  {
   "cell_type": "code",
   "execution_count": 49,
   "id": "eb6bd578",
   "metadata": {},
   "outputs": [
    {
     "data": {
      "text/plain": [
       "\"We love our country Pakistan Zinda bad!\\npakistan one of the best contry in the world!\\nHello Wolrd\\nI'm living in pakistan\\n\\n\\nLorem ipsum dolor sit amet, consectetur adipiscing elit.!\\nNullam quis ligula sit amet leo rutrum consectetur ac vitae sapien\\nSuspendisse ac tellus dictum, bibendum massa eget, dapibus mauris.\\nSed in dui vel odio pharetra elementum sit amet vitae lorem.\\nPraesent pellentesque mi nec lorem sollicitudin gravida.!\\n\""
      ]
     },
     "metadata": {},
     "output_type": "display_data"
    },
    {
     "data": {
      "text/plain": [
       "['We love our country Pakistan Zinda bad!',\n",
       " 'pakistan one of the best contry in the world!',\n",
       " 'Lorem ipsum dolor sit amet, consectetur adipiscing elit.!',\n",
       " 'Praesent pellentesque mi nec lorem sollicitudin gravida.!']"
      ]
     },
     "execution_count": 49,
     "metadata": {},
     "output_type": "execute_result"
    }
   ],
   "source": [
    "text = \"\"\"We love our country Pakistan Zinda bad!\n",
    "pakistan one of the best contry in the world!\n",
    "Hello Wolrd\n",
    "I'm living in pakistan\n",
    "\n",
    "\n",
    "Lorem ipsum dolor sit amet, consectetur adipiscing elit.!\n",
    "Nullam quis ligula sit amet leo rutrum consectetur ac vitae sapien\n",
    "Suspendisse ac tellus dictum, bibendum massa eget, dapibus mauris.\n",
    "Sed in dui vel odio pharetra elementum sit amet vitae lorem.\n",
    "Praesent pellentesque mi nec lorem sollicitudin gravida.!\n",
    "\"\"\"\n",
    "\n",
    "\n",
    "display(text)\n",
    "\n",
    "# + mean pick the pattern which written before \"+\"\n",
    "pattern = \".+n$\" # character sequances\n",
    "pattern = \".+!$\" # character sequances\n",
    "\n",
    "\n",
    "re.findall(pattern, text, re.MULTILINE)"
   ]
  },
  {
   "cell_type": "markdown",
   "id": "0e28d163",
   "metadata": {},
   "source": [
    "# convert any special meaning character into normal character place \"\\\\\" before special charachter\n",
    "**\\**\n"
   ]
  },
  {
   "cell_type": "code",
   "execution_count": 51,
   "id": "3e0dadfe",
   "metadata": {},
   "outputs": [
    {
     "data": {
      "text/plain": [
       "\"We love our country Pakistan Zinda bad!\\npakistan one of the best contry in the world!\\nHello Wolrd\\nI'm living in pakistan\\n\\n\\nLorem ipsum dolor sit amet, consectetur adipiscing elit.!\\nNullam quis ligula sit amet leo rutrum consectetur ac vitae sapien\\nSuspendisse ac tellus dictum, bibendum massa eget, dapibus mauris.\\nSed in dui vel odio pharetra elementum sit amet vitae lorem.\\nPraesent pellentesque mi nec lorem sollicitudin gravida.!\\n\""
      ]
     },
     "metadata": {},
     "output_type": "display_data"
    },
    {
     "data": {
      "text/plain": [
       "['Suspendisse ac tellus dictum, bibendum massa eget, dapibus mauris.',\n",
       " 'Sed in dui vel odio pharetra elementum sit amet vitae lorem.']"
      ]
     },
     "execution_count": 51,
     "metadata": {},
     "output_type": "execute_result"
    }
   ],
   "source": [
    "text = \"\"\"We love our country Pakistan Zinda bad!\n",
    "pakistan one of the best contry in the world!\n",
    "Hello Wolrd\n",
    "I'm living in pakistan\n",
    "\n",
    "\n",
    "Lorem ipsum dolor sit amet, consectetur adipiscing elit.!\n",
    "Nullam quis ligula sit amet leo rutrum consectetur ac vitae sapien\n",
    "Suspendisse ac tellus dictum, bibendum massa eget, dapibus mauris.\n",
    "Sed in dui vel odio pharetra elementum sit amet vitae lorem.\n",
    "Praesent pellentesque mi nec lorem sollicitudin gravida.!\n",
    "\"\"\"\n",
    "display(text)\n",
    "\n",
    "pattern = \".+\\.$\" # character sequances\n",
    "\n",
    "\n",
    "re.findall(pattern, text, re.MULTILINE)"
   ]
  },
  {
   "cell_type": "code",
   "execution_count": 67,
   "id": "2090214b",
   "metadata": {},
   "outputs": [
    {
     "data": {
      "text/plain": [
       "'we love our country! Pakistan zinda bad!\\npakistan one of the best contry in the world!\\nHello world\\ni am living in pakistan!'"
      ]
     },
     "metadata": {},
     "output_type": "display_data"
    },
    {
     "data": {
      "text/plain": [
       "['we love our country! Pakistan zinda bad!',\n",
       " 'pakistan one of the best contry in the world!',\n",
       " 'i am living in pakistan!']"
      ]
     },
     "execution_count": 67,
     "metadata": {},
     "output_type": "execute_result"
    }
   ],
   "source": [
    "text = \"\"\"we love our country! Pakistan zinda bad!\n",
    "pakistan one of the best contry in the world!\n",
    "Hello world\n",
    "i am living in pakistan!\"\"\"\n",
    "\n",
    "display (text) \n",
    "pattern = \".*!$\"  # character sequances\n",
    "\n",
    "re.findall(pattern,text,re.M)"
   ]
  },
  {
   "cell_type": "markdown",
   "id": "b5ad4d74",
   "metadata": {},
   "source": [
    "# start and end\n",
    "* star = ^\n",
    "* end = $"
   ]
  },
  {
   "cell_type": "code",
   "execution_count": 68,
   "id": "39e9a6dd",
   "metadata": {},
   "outputs": [
    {
     "data": {
      "text/plain": [
       "\"We love our country Pakistan Zinda bad!\\npakistan one of the best contry in the world!\\nHello Wolrd\\nI'm living in pakistan\\n\\n\\nLorem ipsum dolor sit amet, consectetur adipiscing elit.!\\nNullam quis ligula sit amet leo rutrum consectetur ac vitae sapien\\nSuspendisse ac tellus dictum, bibendum massa eget, dapibus mauris.\\nSed in dui vel odio pharetra elementum sit amet vitae lorem.\\nPraesent pellentesque mi nec lorem sollicitudin gravida.!\\n\""
      ]
     },
     "metadata": {},
     "output_type": "display_data"
    },
    {
     "data": {
      "text/plain": [
       "['Praesent pellentesque mi nec lorem sollicitudin gravida.!']"
      ]
     },
     "execution_count": 68,
     "metadata": {},
     "output_type": "execute_result"
    }
   ],
   "source": [
    "text = \"\"\"We love our country Pakistan Zinda bad!\n",
    "pakistan one of the best contry in the world!\n",
    "Hello Wolrd\n",
    "I'm living in pakistan\n",
    "\n",
    "\n",
    "Lorem ipsum dolor sit amet, consectetur adipiscing elit.!\n",
    "Nullam quis ligula sit amet leo rutrum consectetur ac vitae sapien\n",
    "Suspendisse ac tellus dictum, bibendum massa eget, dapibus mauris.\n",
    "Sed in dui vel odio pharetra elementum sit amet vitae lorem.\n",
    "Praesent pellentesque mi nec lorem sollicitudin gravida.!\n",
    "\"\"\"\n",
    "display(text)\n",
    "\n",
    "pattern = \"^P.+!$\" # character sequances\n",
    "\n",
    "\n",
    "re.findall(pattern, text, re.MULTILINE)"
   ]
  },
  {
   "cell_type": "code",
   "execution_count": 85,
   "id": "d6dd0748",
   "metadata": {},
   "outputs": [
    {
     "data": {
      "text/plain": [
       "['Pakistan one of the best contry in the world!',\n",
       " 'Praesent pellentesque mi nec lorem sollicitudin gravida.!']"
      ]
     },
     "execution_count": 85,
     "metadata": {},
     "output_type": "execute_result"
    }
   ],
   "source": [
    "text = \"\"\"We love our country Pakistan Zinda bad!\n",
    "pakistan one of the best contry in the world!\n",
    "Hello Wolrd\n",
    "I'm living in pakistan\n",
    "\n",
    "\n",
    "Lorem ipsum dolor sit amet, consectetur adipiscing elit.!\n",
    "Nullam quis ligula sit amet leo rutrum consectetur ac vitae sapien\n",
    "Suspendisse ac tellus dictum, bibendum massa eget, dapibus mauris.\n",
    "Sed in dui vel odio pharetra elementum sit amet vitae lorem.\n",
    "Praesent pellentesque mi nec lorem sollicitudin gravida.!\n",
    "\"\"\"\n",
    "\n",
    "text = text.lower() # lower \n",
    "\n",
    "# display(text)\n",
    "\n",
    "pattern = \"^p.+!$\" # character sequances\n",
    "\n",
    "\n",
    "l = re.findall(pattern, text, re.MULTILINE)\n",
    "l = [i.capitalize() for i in l]\n",
    "l"
   ]
  },
  {
   "cell_type": "code",
   "execution_count": 88,
   "id": "eed67e3d",
   "metadata": {},
   "outputs": [
    {
     "data": {
      "text/plain": [
       "['ak', 'a', 'a', 'a', 'pak', 'a', 'pak', 'a']"
      ]
     },
     "execution_count": 88,
     "metadata": {},
     "output_type": "execute_result"
    }
   ],
   "source": [
    "text = \"\"\"We love our country Pakistan Zinda bad!\n",
    "pakistan one of the best contry in the world!\n",
    "Hello Wolrd\n",
    "I'm living in pakistan\n",
    "\"\"\"\n",
    "\n",
    "pattern = \"[pak]+\"\n",
    "\n",
    "l = re.findall(pattern, text)\n",
    "l"
   ]
  },
  {
   "cell_type": "code",
   "execution_count": 95,
   "id": "a8c32857",
   "metadata": {},
   "outputs": [
    {
     "data": {
      "text/plain": [
       "['We love our country Pakistan Zinda bad!',\n",
       " 'Hello Wolrd',\n",
       " \"I'm living in pakistan\"]"
      ]
     },
     "execution_count": 95,
     "metadata": {},
     "output_type": "execute_result"
    }
   ],
   "source": [
    "text = \"\"\"We love our country Pakistan Zinda bad!\n",
    "pakistan one of the best contry in the world!\n",
    "Hello Wolrd\n",
    "I'm living in pakistan\n",
    "\"\"\"\n",
    "\n",
    "pattern = \"^[hwHWI].*\"\n",
    "\n",
    "l = re.findall(pattern, text, re.M)\n",
    "l"
   ]
  },
  {
   "cell_type": "code",
   "execution_count": 94,
   "id": "3b356874",
   "metadata": {},
   "outputs": [
    {
     "data": {
      "text/plain": [
       "['We love our country Pakistan Zinda bad!', 'Hello Wolrd']"
      ]
     },
     "execution_count": 94,
     "metadata": {},
     "output_type": "execute_result"
    }
   ],
   "source": [
    "text = \"\"\"We love our country Pakistan Zinda bad!\n",
    "pakistan one of the best contry in the world!\n",
    "Hello Wolrd\n",
    "I'm living in pakistan\n",
    "\"\"\"\n",
    "\n",
    "pattern = \"^We love.*\"\n",
    "\n",
    "l = re.findall(pattern, text, re.M) + re.findall(\"^He.*\", text, re.M)\n",
    "l"
   ]
  },
  {
   "cell_type": "markdown",
   "id": "80f8a69e",
   "metadata": {},
   "source": [
    "# Range group of charachers"
   ]
  },
  {
   "cell_type": "code",
   "execution_count": 121,
   "id": "4addd3f5",
   "metadata": {},
   "outputs": [
    {
     "name": "stdout",
     "output_type": "stream",
     "text": [
      "['We', 'love', 'our', 'country', 'Pakistan', 'Zinda', 'bad', 'pakistan', 'one', 'of', 'the', 'best', 'contry', 'in', 'the', 'world', 'Hello', 'Wolrd', 'I', 'm', 'living', 'in', 'pakistan', 'Rs', 'aljdkjfajdfj', 'asdlkj', '0']\n"
     ]
    }
   ],
   "source": [
    "text = \"\"\"We love our country Pakistan Zinda bad!\n",
    "pakistan one of. & the best contry in the world!\n",
    "Hello Wolrd \n",
    "I'm living in pakistan\n",
    "Rs. 277\n",
    " aljdkjfajdfj asdlkj 702\n",
    "\"\"\"\n",
    "\n",
    "# pattern = r\"[0123456789]+\"\n",
    "# pattern = r\"[0-9]+\"\n",
    "# pattern = r\"[A-za-z]+\"\n",
    "# pattern = r\"[A-z]+\"\n",
    "pattern = r\"[A-z0-1]+\"\n",
    "\n",
    "l = re.findall(pattern, text)\n",
    "print(l)"
   ]
  },
  {
   "cell_type": "code",
   "execution_count": 125,
   "id": "eae16f35",
   "metadata": {},
   "outputs": [
    {
     "name": "stdout",
     "output_type": "stream",
     "text": [
      "['.', '7.2', '222.27', '222,772', '.', '277', '702']\n"
     ]
    }
   ],
   "source": [
    "text = \"\"\"We love our country Pakistan Zinda bad!\n",
    "pakistan one of. & the best contry in the world!\n",
    "Hello Wolrd 7.2 \n",
    "222.27\n",
    "222,772\n",
    "I'm living in pakistan\n",
    "Rs. 277\n",
    " aljdkjfajdfj asdlkj 702\n",
    "\"\"\"\n",
    "\n",
    "pattern = r\"[0-9.,]+\"\n",
    "\n",
    "l = re.findall(pattern, text)\n",
    "print(l)"
   ]
  },
  {
   "cell_type": "markdown",
   "id": "ec6a914d",
   "metadata": {},
   "source": [
    "# ? optional"
   ]
  },
  {
   "cell_type": "markdown",
   "id": "5b6bd5f3",
   "metadata": {},
   "source": [
    "* [0-9] = \\d\n",
    "* [A-z] = \\w"
   ]
  },
  {
   "cell_type": "code",
   "execution_count": 155,
   "id": "62f811ad",
   "metadata": {},
   "outputs": [
    {
     "data": {
      "text/plain": [
       "['01*12*2023', '01/12/2023', '01/12/2023', '24-12-2023', '28-12-2023']"
      ]
     },
     "execution_count": 155,
     "metadata": {},
     "output_type": "execute_result"
    }
   ],
   "source": [
    "text = \"\"\"\n",
    "purchase data 01*12*2023\n",
    "purchase data 01/12/2023\n",
    "purchase data 01/12/2023\n",
    "purchase data 01\\12\\2023\n",
    "puchase date 24-12-2023\n",
    "puchase date 28-12-2023\n",
    "\"\"\"\n",
    "\n",
    "pattern = r\"\\d{1,2}[*-/\\\\]\\d{1,2}[*-/\\\\]\\d{2,4}\"\n",
    "\n",
    "l = re.findall(pattern, text)\n",
    "l"
   ]
  },
  {
   "cell_type": "code",
   "execution_count": 156,
   "id": "e5eddbc5",
   "metadata": {},
   "outputs": [
    {
     "name": "stdout",
     "output_type": "stream",
     "text": [
      "['01/12/2023', '01/12/2023', '24-12-2023']\n"
     ]
    }
   ],
   "source": [
    "import re\n",
    "\n",
    "text = \"\"\"\n",
    "purchase data 01*12*2023\n",
    "purchase data 01/12/2023\n",
    "purchase data 01/12/2023\n",
    "purchase data 01\\12\\2023\n",
    "puchase date 24-12-2023\n",
    "\"\"\"\n",
    "\n",
    "# Define a regular expression pattern to match dates\n",
    "date_pattern = r'\\d{2}[/\\\\-]\\d{2}[/\\\\-]\\d{4}'\n",
    "\n",
    "# Find all matches of the pattern in the text\n",
    "dates = re.findall(date_pattern, text)\n",
    "\n",
    "# Print the extracted dates\n",
    "print(dates)\n"
   ]
  },
  {
   "cell_type": "code",
   "execution_count": null,
   "id": "5169caf1",
   "metadata": {},
   "outputs": [],
   "source": []
  }
 ],
 "metadata": {
  "kernelspec": {
   "display_name": "Python 3 (ipykernel)",
   "language": "python",
   "name": "python3"
  },
  "language_info": {
   "codemirror_mode": {
    "name": "ipython",
    "version": 3
   },
   "file_extension": ".py",
   "mimetype": "text/x-python",
   "name": "python",
   "nbconvert_exporter": "python",
   "pygments_lexer": "ipython3",
   "version": "3.11.3"
  }
 },
 "nbformat": 4,
 "nbformat_minor": 5
}

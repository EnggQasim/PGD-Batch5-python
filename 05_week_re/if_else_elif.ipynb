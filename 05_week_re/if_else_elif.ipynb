{
 "cells": [
  {
   "cell_type": "markdown",
   "id": "cf430d49",
   "metadata": {},
   "source": [
    "# Symbolic AI\n",
    "* what you can think and write in computer programming language is call Symbolic\n",
    "* Boolean = 0=False, 1=True\n",
    "* and, or, not\n",
    "* reserve key words\n",
    "    * if\n",
    "    * else\n",
    "    * elif\n",
    "    \n",
    "```\n",
    "if LOGIC:\n",
    "    TRUE_body\n",
    "else:\n",
    "    FALSE_Body\n",
    "```\n",
    "\n",
    "Note: LOGIC = TRUE | False"
   ]
  },
  {
   "cell_type": "code",
   "execution_count": 5,
   "id": "5d129f51",
   "metadata": {},
   "outputs": [
    {
     "data": {
      "text/html": [
       "<div>\n",
       "<style scoped>\n",
       "    .dataframe tbody tr th:only-of-type {\n",
       "        vertical-align: middle;\n",
       "    }\n",
       "\n",
       "    .dataframe tbody tr th {\n",
       "        vertical-align: top;\n",
       "    }\n",
       "\n",
       "    .dataframe thead th {\n",
       "        text-align: right;\n",
       "    }\n",
       "</style>\n",
       "<table border=\"1\" class=\"dataframe\">\n",
       "  <thead>\n",
       "    <tr style=\"text-align: right;\">\n",
       "      <th></th>\n",
       "      <th>Operator</th>\n",
       "      <th>Name</th>\n",
       "      <th>Example</th>\n",
       "      <th>Try it</th>\n",
       "    </tr>\n",
       "  </thead>\n",
       "  <tbody>\n",
       "    <tr>\n",
       "      <th>0</th>\n",
       "      <td>==</td>\n",
       "      <td>Equal</td>\n",
       "      <td>x == y</td>\n",
       "      <td>Try it »</td>\n",
       "    </tr>\n",
       "    <tr>\n",
       "      <th>1</th>\n",
       "      <td>!=</td>\n",
       "      <td>Not equal</td>\n",
       "      <td>x != y</td>\n",
       "      <td>Try it »</td>\n",
       "    </tr>\n",
       "    <tr>\n",
       "      <th>2</th>\n",
       "      <td>&gt;</td>\n",
       "      <td>Greater than</td>\n",
       "      <td>x &gt; y</td>\n",
       "      <td>Try it »</td>\n",
       "    </tr>\n",
       "    <tr>\n",
       "      <th>3</th>\n",
       "      <td>&lt;</td>\n",
       "      <td>Less than</td>\n",
       "      <td>x &lt; y</td>\n",
       "      <td>Try it »</td>\n",
       "    </tr>\n",
       "    <tr>\n",
       "      <th>4</th>\n",
       "      <td>&gt;=</td>\n",
       "      <td>Greater than or equal to</td>\n",
       "      <td>x &gt;= y</td>\n",
       "      <td>Try it »</td>\n",
       "    </tr>\n",
       "    <tr>\n",
       "      <th>5</th>\n",
       "      <td>&lt;=</td>\n",
       "      <td>Less than or equal to</td>\n",
       "      <td>x &lt;= y</td>\n",
       "      <td>Try it »</td>\n",
       "    </tr>\n",
       "  </tbody>\n",
       "</table>\n",
       "</div>"
      ],
      "text/plain": [
       "  Operator                      Name Example    Try it\n",
       "0       ==                     Equal  x == y  Try it »\n",
       "1       !=                 Not equal  x != y  Try it »\n",
       "2        >              Greater than   x > y  Try it »\n",
       "3        <                 Less than   x < y  Try it »\n",
       "4       >=  Greater than or equal to  x >= y  Try it »\n",
       "5       <=     Less than or equal to  x <= y  Try it »"
      ]
     },
     "metadata": {},
     "output_type": "display_data"
    }
   ],
   "source": [
    "import pandas as pd\n",
    "\n",
    "df = pd.read_html(\"https://www.w3schools.com/python/python_operators.asp\")\n",
    "\n",
    "display(df[2])\n",
    "\n"
   ]
  },
  {
   "cell_type": "code",
   "execution_count": 6,
   "id": "8b413777",
   "metadata": {},
   "outputs": [
    {
     "data": {
      "text/html": [
       "<div>\n",
       "<style scoped>\n",
       "    .dataframe tbody tr th:only-of-type {\n",
       "        vertical-align: middle;\n",
       "    }\n",
       "\n",
       "    .dataframe tbody tr th {\n",
       "        vertical-align: top;\n",
       "    }\n",
       "\n",
       "    .dataframe thead th {\n",
       "        text-align: right;\n",
       "    }\n",
       "</style>\n",
       "<table border=\"1\" class=\"dataframe\">\n",
       "  <thead>\n",
       "    <tr style=\"text-align: right;\">\n",
       "      <th></th>\n",
       "      <th>Operator</th>\n",
       "      <th>Description</th>\n",
       "      <th>Example</th>\n",
       "      <th>Try it</th>\n",
       "    </tr>\n",
       "  </thead>\n",
       "  <tbody>\n",
       "    <tr>\n",
       "      <th>0</th>\n",
       "      <td>and</td>\n",
       "      <td>Returns True if both statements are true</td>\n",
       "      <td>x &lt; 5 and x &lt; 10</td>\n",
       "      <td>Try it »</td>\n",
       "    </tr>\n",
       "    <tr>\n",
       "      <th>1</th>\n",
       "      <td>or</td>\n",
       "      <td>Returns True if one of the statements is true</td>\n",
       "      <td>x &lt; 5 or x &lt; 4</td>\n",
       "      <td>Try it »</td>\n",
       "    </tr>\n",
       "    <tr>\n",
       "      <th>2</th>\n",
       "      <td>not</td>\n",
       "      <td>Reverse the result, returns False if the resul...</td>\n",
       "      <td>not(x &lt; 5 and x &lt; 10)</td>\n",
       "      <td>Try it »</td>\n",
       "    </tr>\n",
       "  </tbody>\n",
       "</table>\n",
       "</div>"
      ],
      "text/plain": [
       "  Operator  ...    Try it\n",
       "0      and  ...  Try it »\n",
       "1       or  ...  Try it »\n",
       "2      not  ...  Try it »\n",
       "\n",
       "[3 rows x 4 columns]"
      ]
     },
     "execution_count": 6,
     "metadata": {},
     "output_type": "execute_result"
    }
   ],
   "source": [
    "df[3]"
   ]
  },
  {
   "cell_type": "raw",
   "id": "c56d9a2f",
   "metadata": {},
   "source": [
    "abc=\"Muhammad Qasim\"\n",
    "if = \"Qasim\""
   ]
  },
  {
   "cell_type": "code",
   "execution_count": 2,
   "id": "4fa535cd",
   "metadata": {},
   "outputs": [
    {
     "name": "stdout",
     "output_type": "stream",
     "text": [
      "Pakistan\n",
      "India\n"
     ]
    }
   ],
   "source": [
    "print(\"Pakistan\")\n",
    "print(\"India\")"
   ]
  },
  {
   "cell_type": "code",
   "execution_count": 3,
   "id": "baf2c078",
   "metadata": {},
   "outputs": [
    {
     "name": "stdout",
     "output_type": "stream",
     "text": [
      "Pakistan\n"
     ]
    }
   ],
   "source": [
    "if True:\n",
    "    print(\"Pakistan\")\n",
    "else:\n",
    "    print(\"India\")"
   ]
  },
  {
   "cell_type": "code",
   "execution_count": 4,
   "id": "1acf4fd0",
   "metadata": {},
   "outputs": [
    {
     "name": "stdout",
     "output_type": "stream",
     "text": [
      "India\n"
     ]
    }
   ],
   "source": [
    "if False:\n",
    "    print(\"Pakistan\")\n",
    "else:\n",
    "    print(\"India\")"
   ]
  },
  {
   "cell_type": "markdown",
   "id": "c5a042c6",
   "metadata": {},
   "source": [
    "# create odd and even number program using if else"
   ]
  },
  {
   "cell_type": "code",
   "execution_count": 8,
   "id": "370eb67c",
   "metadata": {},
   "outputs": [
    {
     "name": "stdout",
     "output_type": "stream",
     "text": [
      "Enter any number55\n",
      "55 <class 'int'>\n"
     ]
    }
   ],
   "source": [
    "ui = int(input(\"Enter any number\"))\n",
    "\n",
    "print(ui,type(ui))"
   ]
  },
  {
   "cell_type": "code",
   "execution_count": 13,
   "id": "023545ba",
   "metadata": {},
   "outputs": [
    {
     "name": "stdout",
     "output_type": "stream",
     "text": [
      "Enter any number55\n"
     ]
    },
    {
     "data": {
      "text/plain": [
       "1"
      ]
     },
     "execution_count": 13,
     "metadata": {},
     "output_type": "execute_result"
    }
   ],
   "source": [
    "ui = int(input(\"Enter any number\"))\n",
    "logic = ui%2\n",
    "logic"
   ]
  },
  {
   "cell_type": "code",
   "execution_count": 14,
   "id": "615f7013",
   "metadata": {},
   "outputs": [
    {
     "name": "stdout",
     "output_type": "stream",
     "text": [
      "Enter any number40\n"
     ]
    },
    {
     "data": {
      "text/plain": [
       "0"
      ]
     },
     "execution_count": 14,
     "metadata": {},
     "output_type": "execute_result"
    }
   ],
   "source": [
    "ui = int(input(\"Enter any number\"))\n",
    "logic = ui%2 \n",
    "logic"
   ]
  },
  {
   "cell_type": "code",
   "execution_count": 15,
   "id": "84aa1e89",
   "metadata": {},
   "outputs": [
    {
     "name": "stdout",
     "output_type": "stream",
     "text": [
      "Enter any number30\n"
     ]
    },
    {
     "data": {
      "text/plain": [
       "True"
      ]
     },
     "execution_count": 15,
     "metadata": {},
     "output_type": "execute_result"
    }
   ],
   "source": [
    "ui = int(input(\"Enter any number\"))\n",
    "logic = ui%2 == 0\n",
    "logic"
   ]
  },
  {
   "cell_type": "code",
   "execution_count": 16,
   "id": "b0402a41",
   "metadata": {},
   "outputs": [
    {
     "name": "stdout",
     "output_type": "stream",
     "text": [
      "Enter any number15\n"
     ]
    },
    {
     "data": {
      "text/plain": [
       "False"
      ]
     },
     "execution_count": 16,
     "metadata": {},
     "output_type": "execute_result"
    }
   ],
   "source": [
    "ui = int(input(\"Enter any number\"))\n",
    "logic = ui%2 == 0\n",
    "logic"
   ]
  },
  {
   "cell_type": "code",
   "execution_count": null,
   "id": "2ed21557",
   "metadata": {},
   "outputs": [],
   "source": [
    "ui = int(input(\"Enter any number\"))\n",
    "logic = ui%2 == 0"
   ]
  },
  {
   "cell_type": "code",
   "execution_count": 17,
   "id": "5af03daa",
   "metadata": {},
   "outputs": [
    {
     "data": {
      "text/plain": [
       "False"
      ]
     },
     "execution_count": 17,
     "metadata": {},
     "output_type": "execute_result"
    }
   ],
   "source": [
    "5 == 8"
   ]
  },
  {
   "cell_type": "code",
   "execution_count": 18,
   "id": "14742588",
   "metadata": {},
   "outputs": [
    {
     "data": {
      "text/plain": [
       "False"
      ]
     },
     "execution_count": 18,
     "metadata": {},
     "output_type": "execute_result"
    }
   ],
   "source": [
    "5 == 4"
   ]
  },
  {
   "cell_type": "code",
   "execution_count": 19,
   "id": "be0058aa",
   "metadata": {},
   "outputs": [
    {
     "data": {
      "text/plain": [
       "True"
      ]
     },
     "execution_count": 19,
     "metadata": {},
     "output_type": "execute_result"
    }
   ],
   "source": [
    "5 == 5"
   ]
  },
  {
   "cell_type": "markdown",
   "id": "22ac3ead",
   "metadata": {},
   "source": [
    "# NOW WRITE COMPLETE PROGRAM"
   ]
  },
  {
   "cell_type": "code",
   "execution_count": 20,
   "id": "fa4ed6f8",
   "metadata": {},
   "outputs": [
    {
     "name": "stdout",
     "output_type": "stream",
     "text": [
      "Enter any number600\n",
      "600 This is Even\n"
     ]
    }
   ],
   "source": [
    "ui = int(input(\"Enter any number\"))\n",
    "\n",
    "if ui % 2 == 0:\n",
    "    print(f\"{ui} This is Even\")\n",
    "else:\n",
    "    print(f\"{ui} this number is Odd!\")"
   ]
  },
  {
   "cell_type": "code",
   "execution_count": 23,
   "id": "91ed968a",
   "metadata": {},
   "outputs": [
    {
     "name": "stdout",
     "output_type": "stream",
     "text": [
      "Enter any number75\n",
      "75 this number is Odd!\n"
     ]
    }
   ],
   "source": [
    "ui = int(input(\"Enter any number\"))\n",
    "\n",
    "if ui % 2 == 0:\n",
    "    print(f\"{ui} This is Even\")\n",
    "    print(\"aaa\")\n",
    "    print(\"aaa\")\n",
    "else:\n",
    "    print(f\"{ui} this number is Odd!\")\n",
    "\n",
    "print(\"i'm not part of above block\")"
   ]
  },
  {
   "cell_type": "markdown",
   "id": "3275f18b",
   "metadata": {},
   "source": [
    "# Grading System\n",
    "* per >= 80 \"A+\"\n",
    "* per >= 70 \"A\"\n",
    "* per >= 60 \"B\"\n",
    "* per >=50 \"C\"\n",
    "* per >=40 \"D\"\n",
    "* per >=33 \"E\"\n",
    "* per <33 \"Fail\"\n",
    "\n",
    "```\n",
    "if logic1:\n",
    "    statment1\n",
    "elif logic2:\n",
    "    statment2\n",
    "elif logic3:\n",
    "    statment3\n",
    "else:\n",
    "    last_statment\n",
    "```"
   ]
  },
  {
   "cell_type": "code",
   "execution_count": 36,
   "id": "7fd56f2e",
   "metadata": {},
   "outputs": [
    {
     "name": "stdout",
     "output_type": "stream",
     "text": [
      "Fail\n"
     ]
    }
   ],
   "source": [
    "per = 32\n",
    "\n",
    "if per>=80:\n",
    "    print(\"A+\")\n",
    "elif per >= 70:\n",
    "    print(\"A\")\n",
    "elif per>= 60:\n",
    "    print(\"B\")\n",
    "elif per>=50:\n",
    "    print(\"C\")\n",
    "elif per>40:\n",
    "    print(\"D\")\n",
    "elif per>=33:\n",
    "    print(\"E\")\n",
    "else:\n",
    "    print(\"Fail\")\n"
   ]
  },
  {
   "cell_type": "code",
   "execution_count": 38,
   "id": "b6f36818",
   "metadata": {},
   "outputs": [
    {
     "name": "stdout",
     "output_type": "stream",
     "text": [
      "Fail\n"
     ]
    }
   ],
   "source": [
    "per = 99\n",
    "\n",
    "if per>=0: #step1\n",
    "    print(\"Fail\")\n",
    "elif per >= 33: #step2\n",
    "    print(\"E\")\n",
    "elif per>= 40:#step3\n",
    "    print(\"D\")\n",
    "elif per>=50:#step4\n",
    "    print(\"C\")\n",
    "elif per>60:\n",
    "    print(\"B\")\n",
    "elif per>=70:\n",
    "    print(\"A\")\n",
    "else:\n",
    "    print(\"A+\")\n"
   ]
  },
  {
   "cell_type": "code",
   "execution_count": 39,
   "id": "19218b6c",
   "metadata": {},
   "outputs": [
    {
     "name": "stdout",
     "output_type": "stream",
     "text": [
      "A+\n"
     ]
    }
   ],
   "source": [
    "per = 99\n",
    "\n",
    "if per>=0 and per<33: #step1\n",
    "    print(\"Fail\")\n",
    "elif per >= 33 and per<40: #step2\n",
    "    print(\"E\")\n",
    "elif per>= 40 and per <50:#step3\n",
    "    print(\"D\")\n",
    "elif per>=50 and per<60:#step4\n",
    "    print(\"C\")\n",
    "elif per>60 and per<70:\n",
    "    print(\"B\")\n",
    "elif per>=70 and per<80:\n",
    "    print(\"A\")\n",
    "else:\n",
    "    print(\"A+\")\n"
   ]
  },
  {
   "cell_type": "code",
   "execution_count": 43,
   "id": "32ea82a3",
   "metadata": {},
   "outputs": [
    {
     "name": "stdout",
     "output_type": "stream",
     "text": [
      "True\n",
      "False\n",
      "False\n",
      "False\n"
     ]
    }
   ],
   "source": [
    "print(True and True and True and True) # all should be True\n",
    "print(True and True and True and False)\n",
    "print(True and True and False and False)\n",
    "print(True and False and False and False)"
   ]
  },
  {
   "cell_type": "code",
   "execution_count": 44,
   "id": "3e21ce75",
   "metadata": {},
   "outputs": [
    {
     "name": "stdout",
     "output_type": "stream",
     "text": [
      "True\n",
      "True\n",
      "True\n",
      "True\n",
      "False\n"
     ]
    }
   ],
   "source": [
    "print(True or True or True or True) # all should be True\n",
    "print(True or True or True or False)\n",
    "print(True or True or False or False)\n",
    "print(True or False or False or False)\n",
    "print(False or False or False or False)"
   ]
  },
  {
   "cell_type": "markdown",
   "id": "1dcf7284",
   "metadata": {},
   "source": [
    "# Comprehensive Style"
   ]
  },
  {
   "cell_type": "markdown",
   "id": "bf5c17be",
   "metadata": {},
   "source": [
    "```\n",
    "if Logic:\n",
    "    true_block\n",
    "else:\n",
    "    false_block\n",
    "```\n",
    "\n",
    "### now convert into comprehensive style\n",
    "\n",
    "`true_block if Logic else false_block`"
   ]
  },
  {
   "cell_type": "code",
   "execution_count": 46,
   "id": "786ec21f",
   "metadata": {},
   "outputs": [
    {
     "data": {
      "text/plain": [
       "'Pakistan'"
      ]
     },
     "execution_count": 46,
     "metadata": {},
     "output_type": "execute_result"
    }
   ],
   "source": [
    "\"Pakistan\" if True else \"India\""
   ]
  },
  {
   "cell_type": "code",
   "execution_count": 47,
   "id": "c304499e",
   "metadata": {},
   "outputs": [
    {
     "data": {
      "text/plain": [
       "'India'"
      ]
     },
     "execution_count": 47,
     "metadata": {},
     "output_type": "execute_result"
    }
   ],
   "source": [
    "\"Pakistan\" if False else \"India\""
   ]
  },
  {
   "cell_type": "markdown",
   "id": "6d230a15",
   "metadata": {},
   "source": [
    "# netes if else1"
   ]
  },
  {
   "cell_type": "code",
   "execution_count": 49,
   "id": "2642eb6b",
   "metadata": {},
   "outputs": [
    {
     "name": "stdout",
     "output_type": "stream",
     "text": [
      "Invalid student id\n"
     ]
    }
   ],
   "source": [
    "data = [1,2,3,5,4]\n",
    "\n",
    "ui = 7\n",
    "\n",
    "if ui in data:\n",
    "    print(\"Valid Student\")\n",
    "else:\n",
    "    print(\"Invalid student id\")"
   ]
  },
  {
   "cell_type": "code",
   "execution_count": 53,
   "id": "848e1e33",
   "metadata": {},
   "outputs": [
    {
     "name": "stdout",
     "output_type": "stream",
     "text": [
      "qasim 123\n",
      "hamza 234\n",
      "asif 111\n"
     ]
    }
   ],
   "source": [
    "user_name = [('qasim','123'),\n",
    "            ('hamza','234'),\n",
    "            ('asif','111')]\n",
    "\n",
    "for u in user_name:\n",
    "    user=u[0]\n",
    "    password = u[1]\n",
    "    \n",
    "    print(user, password)\n",
    "    "
   ]
  },
  {
   "cell_type": "code",
   "execution_count": 50,
   "id": "50f1aa25",
   "metadata": {},
   "outputs": [
    {
     "name": "stdout",
     "output_type": "stream",
     "text": [
      "Valid Student\n"
     ]
    }
   ],
   "source": [
    "data = [1,2,3,5,4] # student id\n",
    "\n",
    "user_name = [('qasim','123'),\n",
    "            ('hamza','234'),\n",
    "            ('asif','111')]\n",
    "\n",
    "ui = 2\n",
    "\n",
    "if ui in data:\n",
    "    print(\"Valid Student\")\n",
    "    ui = 'qasim'\n",
    "    ps = '123'\n",
    "    for u in user_name:\n",
    "        user=u[0]# username\n",
    "        pas = u[1]#password\n",
    "        \n",
    "        if user =\n",
    "    \n",
    "else:\n",
    "    print(\"Invalid student id\")"
   ]
  },
  {
   "cell_type": "code",
   "execution_count": null,
   "id": "b330b08f",
   "metadata": {},
   "outputs": [],
   "source": []
  }
 ],
 "metadata": {
  "kernelspec": {
   "display_name": "Python 3 (ipykernel)",
   "language": "python",
   "name": "python3"
  },
  "language_info": {
   "codemirror_mode": {
    "name": "ipython",
    "version": 3
   },
   "file_extension": ".py",
   "mimetype": "text/x-python",
   "name": "python",
   "nbconvert_exporter": "python",
   "pygments_lexer": "ipython3",
   "version": "3.11.3"
  }
 },
 "nbformat": 4,
 "nbformat_minor": 5
}

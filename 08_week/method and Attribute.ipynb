{
 "cells": [
  {
   "cell_type": "code",
   "execution_count": 1,
   "id": "d97efadd",
   "metadata": {},
   "outputs": [
    {
     "ename": "SyntaxError",
     "evalue": "invalid syntax (227430103.py, line 5)",
     "output_type": "error",
     "traceback": [
      "\u001b[0;36m  Cell \u001b[0;32mIn[1], line 5\u001b[0;36m\u001b[0m\n\u001b[0;31m    s1_fee_pay():pass\u001b[0m\n\u001b[0m                ^\u001b[0m\n\u001b[0;31mSyntaxError\u001b[0m\u001b[0;31m:\u001b[0m invalid syntax\n"
     ]
    }
   ],
   "source": [
    "s1_name = \"Qasim\"\n",
    "s2_name = \"Asif\"\n",
    "\n",
    " \n",
    "s1_fee_pay(): pass\n",
    "s2_fee_pay(): pass"
   ]
  },
  {
   "cell_type": "markdown",
   "id": "2ea37e2a",
   "metadata": {},
   "source": [
    "# OOP\n"
   ]
  },
  {
   "cell_type": "code",
   "execution_count": 4,
   "id": "73b89963",
   "metadata": {},
   "outputs": [],
   "source": [
    "class Student():\n",
    "    def Student(self):# old programming/java/dotnet constructor\n",
    "        print(\"hello\")\n",
    "        \n",
    "        \n",
    "s1 = Student()"
   ]
  },
  {
   "cell_type": "code",
   "execution_count": 25,
   "id": "216c93b4",
   "metadata": {},
   "outputs": [
    {
     "name": "stdout",
     "output_type": "stream",
     "text": [
      "Admission has been don\n",
      "Fee has been submitted\n"
     ]
    }
   ],
   "source": [
    "class Student():\n",
    "    def Student(self):#  constructor/intializer\n",
    "        print(\"I'm constructor function\")\n",
    "        \n",
    "    def admission(self): #method\n",
    "        print(\"Admission has been don\")\n",
    "        \n",
    "    def pay_fee(self):#method\n",
    "        print(\"Fee has been submitted\")\n",
    "        \n",
    "        \n",
    "kamran = Student() #object\n",
    "\n",
    "kamran.admission()\n",
    "kamran.pay_fee()"
   ]
  },
  {
   "cell_type": "code",
   "execution_count": 26,
   "id": "6ac568fe",
   "metadata": {},
   "outputs": [
    {
     "name": "stdout",
     "output_type": "stream",
     "text": [
      "I'm constructor function\n",
      "Admission has been don\n",
      "Fee has been submitted\n"
     ]
    }
   ],
   "source": [
    "class Student():\n",
    "    def __init__(self):#  constructor/intializer\n",
    "        print(\"I'm constructor function\")\n",
    "        \n",
    "    def admission(self): #method\n",
    "        print(\"Admission has been don\")\n",
    "        \n",
    "    def pay_fee(self):#method\n",
    "        print(\"Fee has been submitted\")\n",
    "        \n",
    "        \n",
    "kamran = Student() #object\n",
    "\n",
    "kamran.admission()\n",
    "kamran.pay_fee()"
   ]
  },
  {
   "cell_type": "code",
   "execution_count": 11,
   "id": "2a568279",
   "metadata": {},
   "outputs": [
    {
     "name": "stdout",
     "output_type": "stream",
     "text": [
      "I'm constructor function\n"
     ]
    }
   ],
   "source": [
    "amir = Student() # create object/create instance\n"
   ]
  },
  {
   "cell_type": "code",
   "execution_count": 12,
   "id": "375f6ab7",
   "metadata": {},
   "outputs": [
    {
     "name": "stdout",
     "output_type": "stream",
     "text": [
      "Admission has been don\n",
      "Fee has been submitted\n"
     ]
    }
   ],
   "source": [
    "amir.admission()\n",
    "amir.pay_fee()\n"
   ]
  },
  {
   "cell_type": "code",
   "execution_count": 18,
   "id": "fb5ac16f",
   "metadata": {},
   "outputs": [
    {
     "name": "stdout",
     "output_type": "stream",
     "text": [
      "I'm constructor function\n",
      "I'm constructor function\n"
     ]
    },
    {
     "ename": "TypeError",
     "evalue": "Student.admission() takes 0 positional arguments but 1 was given",
     "output_type": "error",
     "traceback": [
      "\u001b[0;31m---------------------------------------------------------------------------\u001b[0m",
      "\u001b[0;31mTypeError\u001b[0m                                 Traceback (most recent call last)",
      "Cell \u001b[0;32mIn[18], line 15\u001b[0m\n\u001b[1;32m     12\u001b[0m kamran \u001b[38;5;241m=\u001b[39m Student() \u001b[38;5;66;03m#object\u001b[39;00m\n\u001b[1;32m     13\u001b[0m imran \u001b[38;5;241m=\u001b[39m Student()\n\u001b[0;32m---> 15\u001b[0m kamran\u001b[38;5;241m.\u001b[39madmission()\n\u001b[1;32m     16\u001b[0m kamran\u001b[38;5;241m.\u001b[39mpay_fee()\n",
      "\u001b[0;31mTypeError\u001b[0m: Student.admission() takes 0 positional arguments but 1 was given"
     ]
    }
   ],
   "source": [
    "class Student():\n",
    "    def __init__(self):#  constructor/intializer\n",
    "        print(\"I'm constructor function\")\n",
    "        \n",
    "    def admission(): #method\n",
    "        print(\"Admission has been don\")\n",
    "        \n",
    "    def pay_fee():#method\n",
    "        print(\"Fee has been submitted\")\n",
    "        \n",
    "        \n",
    "kamran = Student() #object\n",
    "imran = Student()\n",
    "\n",
    "kamran.admission()\n",
    "kamran.pay_fee()"
   ]
  },
  {
   "cell_type": "code",
   "execution_count": 23,
   "id": "045ca33d",
   "metadata": {},
   "outputs": [
    {
     "name": "stdout",
     "output_type": "stream",
     "text": [
      "I'm constructor function\n",
      "Admission has been don\n",
      "Fee has been submitted\n"
     ]
    }
   ],
   "source": [
    "class Student():\n",
    "    def __init__(self):#  constructor/intializer auto call\n",
    "        print(\"I'm constructor function\")\n",
    "        \n",
    "    def admission(self): #method\n",
    "        print(\"Admission has been don\")\n",
    "        \n",
    "    def pay_fee(self):#method\n",
    "        print(\"Fee has been submitted\")\n",
    "        \n",
    "        \n",
    "kamran = Student() #object\n",
    "\n",
    "kamran.admission()# call\n",
    "kamran.pay_fee()\n"
   ]
  },
  {
   "cell_type": "code",
   "execution_count": 27,
   "id": "f0ff1cf9",
   "metadata": {},
   "outputs": [
    {
     "name": "stdout",
     "output_type": "stream",
     "text": [
      "4629191184\n",
      "4626125136\n"
     ]
    }
   ],
   "source": [
    "print(id(kamran))\n",
    "print(id(amir))"
   ]
  },
  {
   "cell_type": "markdown",
   "id": "2b96c97d",
   "metadata": {},
   "source": [
    "# Attibutes"
   ]
  },
  {
   "cell_type": "code",
   "execution_count": 30,
   "id": "d70f63f6",
   "metadata": {},
   "outputs": [
    {
     "name": "stdout",
     "output_type": "stream",
     "text": [
      "\n",
      "        Student Name: None\n",
      "        Student Father's Name None\n",
      "        Roll no: None\n",
      "        \n",
      "\n",
      "        Student Name: None\n",
      "        Student Father's Name None\n",
      "        Roll no: None\n",
      "        \n"
     ]
    }
   ],
   "source": [
    "class Student():\n",
    "    def __init__(self):\n",
    "        self.name = None # attribute\n",
    "        self.father_name = None # attribute\n",
    "        self.age = None # attribute\n",
    "        self.roll_no = None# attribute\n",
    "        \n",
    "    def admision(self):\n",
    "        print(\"Admision completed\")\n",
    "    \n",
    "    def student_details(self):\n",
    "        data = f\"\"\"\n",
    "        Student Name: {self.name}\n",
    "        Student Father's Name {self.father_name}\n",
    "        Roll no: {self.roll_no}\n",
    "        \"\"\"\n",
    "        print(data)\n",
    "        \n",
    "s1 = Student()\n",
    "s1.student_details()\n",
    "\n",
    "s2 = Student()\n",
    "s2.student_details()"
   ]
  },
  {
   "cell_type": "markdown",
   "id": "7262393b",
   "metadata": {},
   "source": [
    "# pass argments during creating object"
   ]
  },
  {
   "cell_type": "code",
   "execution_count": 33,
   "id": "d1f6f606",
   "metadata": {},
   "outputs": [
    {
     "name": "stdout",
     "output_type": "stream",
     "text": [
      "\n",
      "        Student Name: kamran\n",
      "        Student Father's Name None\n",
      "        Roll no: 1\n",
      "        \n",
      "\n",
      "        Student Name: Amir\n",
      "        Student Father's Name None\n",
      "        Roll no: 2\n",
      "        \n"
     ]
    }
   ],
   "source": [
    "class Student():\n",
    "    def __init__(self, sname, rollno):\n",
    "        self.name = sname # attribute\n",
    "        self.father_name = None # attribute\n",
    "        self.age = None # attribute\n",
    "        self.roll_no = rollno # attribute\n",
    "        \n",
    "    def admision(self):\n",
    "        print(\"Admision completed\")\n",
    "    \n",
    "    def student_details(self):\n",
    "        data = f\"\"\"\n",
    "        Student Name: {self.name}\n",
    "        Student Father's Name {self.father_name}\n",
    "        Roll no: {self.roll_no}\n",
    "        \"\"\"\n",
    "        print(data)\n",
    "        \n",
    "s1 = Student(\"kamran\",1)\n",
    "s1.student_details()\n",
    "\n",
    "s2 = Student(\"Amir\",2)\n",
    "s2.student_details()"
   ]
  },
  {
   "cell_type": "markdown",
   "id": "b46b4f7f",
   "metadata": {},
   "source": [
    "# Inheritance ( وراثت)"
   ]
  },
  {
   "cell_type": "code",
   "execution_count": 37,
   "id": "24027584",
   "metadata": {},
   "outputs": [
    {
     "name": "stdout",
     "output_type": "stream",
     "text": [
      "Blue\n",
      "Brown\n"
     ]
    },
    {
     "ename": "AttributeError",
     "evalue": "'Children' object has no attribute 'skin_color'",
     "output_type": "error",
     "traceback": [
      "\u001b[0;31m---------------------------------------------------------------------------\u001b[0m",
      "\u001b[0;31mAttributeError\u001b[0m                            Traceback (most recent call last)",
      "Cell \u001b[0;32mIn[37], line 18\u001b[0m\n\u001b[1;32m     16\u001b[0m \u001b[38;5;28mprint\u001b[39m(c1\u001b[38;5;241m.\u001b[39meye_color)\n\u001b[1;32m     17\u001b[0m \u001b[38;5;28mprint\u001b[39m(c1\u001b[38;5;241m.\u001b[39mhair_color)\n\u001b[0;32m---> 18\u001b[0m \u001b[38;5;28mprint\u001b[39m(c1\u001b[38;5;241m.\u001b[39mskin_color)\n",
      "\u001b[0;31mAttributeError\u001b[0m: 'Children' object has no attribute 'skin_color'"
     ]
    }
   ],
   "source": [
    "class Father():\n",
    "    def __init__(self):\n",
    "        self.hair_color = \"Brown\"\n",
    "        self.eye_color = \"Blue\"\n",
    "        \n",
    "    \n",
    "class Mother():\n",
    "    def __init__(self):\n",
    "        self.height = '5.11'\n",
    "        self.skin_color = \"Whitish\"\n",
    "        \n",
    "class Children(Father):\n",
    "    pass\n",
    "\n",
    "c1 = Children()\n",
    "print(c1.eye_color)\n",
    "print(c1.hair_color)\n",
    "print(c1.skin_color)"
   ]
  },
  {
   "cell_type": "code",
   "execution_count": 51,
   "id": "53b9a1d1",
   "metadata": {},
   "outputs": [
    {
     "name": "stdout",
     "output_type": "stream",
     "text": [
      "Father function....Hello world\n",
      "Monther function... Mother looking function\n"
     ]
    }
   ],
   "source": [
    "class Father():\n",
    "    def __init__(self):\n",
    "        self.eye_color = None\n",
    "    \n",
    "    def speaking(self,words):\n",
    "        print(f\"Father function....{words}\")\n",
    "    \n",
    "class Mother():\n",
    "    def __init__(self):\n",
    "        self.hair_color = None\n",
    "    \n",
    "    def looking(self):\n",
    "        print(\"Monther function... Mother looking function\")\n",
    "        \n",
    "        \n",
    "class Children(Father, Mother):\n",
    "    pass\n",
    "\n",
    "c1 = Children()\n",
    "c1.speaking(\"Hello world\")\n",
    "c1.looking()\n"
   ]
  },
  {
   "cell_type": "code",
   "execution_count": 50,
   "id": "2d005bc0",
   "metadata": {},
   "outputs": [
    {
     "data": {
      "text/plain": [
       "['__class__',\n",
       " '__delattr__',\n",
       " '__dict__',\n",
       " '__dir__',\n",
       " '__doc__',\n",
       " '__eq__',\n",
       " '__format__',\n",
       " '__ge__',\n",
       " '__getattribute__',\n",
       " '__getstate__',\n",
       " '__gt__',\n",
       " '__hash__',\n",
       " '__init__',\n",
       " '__init_subclass__',\n",
       " '__le__',\n",
       " '__lt__',\n",
       " '__module__',\n",
       " '__ne__',\n",
       " '__new__',\n",
       " '__reduce__',\n",
       " '__reduce_ex__',\n",
       " '__repr__',\n",
       " '__setattr__',\n",
       " '__sizeof__',\n",
       " '__str__',\n",
       " '__subclasshook__',\n",
       " '__weakref__',\n",
       " 'eye_color',\n",
       " 'looking',\n",
       " 'speaking']"
      ]
     },
     "execution_count": 50,
     "metadata": {},
     "output_type": "execute_result"
    }
   ],
   "source": [
    "dir(c1)"
   ]
  },
  {
   "cell_type": "code",
   "execution_count": null,
   "id": "76371866",
   "metadata": {},
   "outputs": [],
   "source": []
  }
 ],
 "metadata": {
  "kernelspec": {
   "display_name": "Python 3 (ipykernel)",
   "language": "python",
   "name": "python3"
  },
  "language_info": {
   "codemirror_mode": {
    "name": "ipython",
    "version": 3
   },
   "file_extension": ".py",
   "mimetype": "text/x-python",
   "name": "python",
   "nbconvert_exporter": "python",
   "pygments_lexer": "ipython3",
   "version": "3.11.3"
  }
 },
 "nbformat": 4,
 "nbformat_minor": 5
}

{
 "cells": [
  {
   "cell_type": "code",
   "execution_count": 3,
   "id": "d15cffc6-f318-4189-853f-211a5ac303ef",
   "metadata": {},
   "outputs": [
    {
     "name": "stdout",
     "output_type": "stream",
     "text": [
      "Hammad\n",
      "Visha\n",
      "Sadia\n",
      "M.A Rasheed\n"
     ]
    }
   ],
   "source": [
    "s1_name = \"Hammad\"\n",
    "s2_name = \"Visha\"\n",
    "s3_name = \"Sadia\"\n",
    "s4_name = \"M.A Rasheed\"\n",
    "\n",
    "\n",
    "print(s1_name)\n",
    "print(s2_name)\n",
    "print(s3_name)\n",
    "print(s4_name)"
   ]
  },
  {
   "cell_type": "markdown",
   "id": "a846cfb4-9d4a-44b6-bc24-da5d58ec8b7a",
   "metadata": {},
   "source": [
    "# list data type\n",
    "* Hetrogenous data type\n",
    "* dynamic length\n",
    "* dynamic memory management\n",
    "\n",
    "Syntax:\n",
    "\n",
    "```[elemnet1, element2, element3,...]```\n"
   ]
  },
  {
   "cell_type": "code",
   "execution_count": 4,
   "id": "a5d6113f-07d0-40cf-bee7-9a433d08d939",
   "metadata": {},
   "outputs": [
    {
     "data": {
      "text/plain": [
       "['Hammad', 'Visha', 'Sadia', 'M.A Rasheed']"
      ]
     },
     "execution_count": 4,
     "metadata": {},
     "output_type": "execute_result"
    }
   ],
   "source": [
    "names = [\"Hammad\", \"Visha\", \"Sadia\", \"M.A Rasheed\"]\n",
    "names"
   ]
  },
  {
   "cell_type": "code",
   "execution_count": null,
   "id": "9689d316-6fbb-4c13-9232-8dc276ea83c8",
   "metadata": {},
   "outputs": [],
   "source": [
    "# ->         0       1        2         3\n",
    "names = [\"Hammad\", \"Visha\", \"Sadia\", \"M.A Rasheed\"]\n",
    "# <-        -4       -3        -2         -1             <-\n",
    "\n",
    "names"
   ]
  },
  {
   "cell_type": "markdown",
   "id": "0ecf6715-7354-4693-807d-3f5728f5be11",
   "metadata": {},
   "source": [
    "# Extract value from iterative data type with index position\n",
    "Syntax: ```list_variable[index_number]```"
   ]
  },
  {
   "cell_type": "code",
   "execution_count": 6,
   "id": "6e32703d-c178-404a-8070-1c4446f9a8aa",
   "metadata": {},
   "outputs": [
    {
     "name": "stdin",
     "output_type": "stream",
     "text": [
      "Please insert names with ',' seprated:  Hamza,Ali,Iqbal,Junaid,Ibad,Konain\n"
     ]
    },
    {
     "name": "stdout",
     "output_type": "stream",
     "text": [
      "Hamza,Ali,Iqbal,Junaid,Ibad,Konain\n"
     ]
    },
    {
     "data": {
      "text/plain": [
       "['Hamza', 'Ali', 'Iqbal', 'Junaid', 'Ibad', 'Konain']"
      ]
     },
     "execution_count": 6,
     "metadata": {},
     "output_type": "execute_result"
    }
   ],
   "source": [
    "names1 = input(\"Please insert names with ',' seprated: \")\n",
    "print(names1)\n",
    "names1.split(\",\")"
   ]
  },
  {
   "cell_type": "code",
   "execution_count": 8,
   "id": "4b30f0f0-f86f-42c1-b915-bb3ea4b09d33",
   "metadata": {},
   "outputs": [
    {
     "name": "stdout",
     "output_type": "stream",
     "text": [
      "Visha\n",
      "Visha\n"
     ]
    }
   ],
   "source": [
    "# ->         0       1        2         3\n",
    "names = [\"Hammad\", \"Visha\", \"Sadia\", \"M.A Rasheed\"]\n",
    "# <-        -4       -3        -2         -1             <-\n",
    "# list_variable[index_number]\n",
    "print(names[1])\n",
    "print(names[-3])"
   ]
  },
  {
   "cell_type": "markdown",
   "id": "e2a82fd0-a12f-4725-81f2-54bcf0c24f49",
   "metadata": {},
   "source": [
    "# Slicing on list\n",
    "Syntax: ```list_variable[start:end:step]```\n",
    "* start = this number will be included\n",
    "* end = excluded end-1\n",
    "* step = sequance/gap"
   ]
  },
  {
   "cell_type": "code",
   "execution_count": null,
   "id": "2c2fd69a-2080-47c9-877a-75a2b63119fc",
   "metadata": {},
   "outputs": [],
   "source": []
  }
 ],
 "metadata": {
  "kernelspec": {
   "display_name": "Python 3 (ipykernel)",
   "language": "python",
   "name": "python3"
  },
  "language_info": {
   "codemirror_mode": {
    "name": "ipython",
    "version": 3
   },
   "file_extension": ".py",
   "mimetype": "text/x-python",
   "name": "python",
   "nbconvert_exporter": "python",
   "pygments_lexer": "ipython3",
   "version": "3.10.9"
  }
 },
 "nbformat": 4,
 "nbformat_minor": 5
}

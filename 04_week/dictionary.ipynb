{
 "cells": [
  {
   "cell_type": "markdown",
   "id": "c1733055",
   "metadata": {},
   "source": [
    "# List "
   ]
  },
  {
   "cell_type": "markdown",
   "id": "c34d2f41",
   "metadata": {},
   "source": [
    "# Creation time\n",
    "* create **list** `[elem1,elem2,...]`\n",
    "    * start **[** and end with **]**\n",
    "* create **tuple** `(elem1,elem2,...)`\n",
    "    * start **(** and end with **)**\n",
    "    \n",
    "* create **dictionary** `{key:value, key2:value2,...}`\n",
    "    * start **{** and end with **}**\n",
    "    \n",
    "* create **set** `{elem1,elem2,...}`\n",
    "    * start **{** and end with **}**\n",
    "    \n",
    "# Calling Time\n",
    "\n",
    "* list_var[index]\n",
    "    * start **[** and end with **]**\n",
    "* tup_var[inde]\n",
    "    * start **[** and end with **]**\n",
    "* dict_var[key]\n",
    "    * start **[** and end with **]**"
   ]
  },
  {
   "cell_type": "raw",
   "id": "11cacab1",
   "metadata": {},
   "source": [
    "ASCCI\n",
    "A-65\n",
    "Z-90\n",
    "\n",
    "a-97\n",
    "z-122\n",
    "\n",
    "0-47\n",
    "9-58"
   ]
  },
  {
   "cell_type": "code",
   "execution_count": 4,
   "id": "8c3c2b2c",
   "metadata": {},
   "outputs": [
    {
     "name": "stdout",
     "output_type": "stream",
     "text": [
      "A\n",
      "B\n",
      "C\n",
      "D\n",
      "E\n",
      "F\n",
      "G\n",
      "H\n",
      "I\n",
      "J\n",
      "K\n",
      "L\n",
      "M\n",
      "N\n",
      "O\n",
      "P\n",
      "Q\n",
      "R\n",
      "S\n",
      "T\n",
      "U\n",
      "V\n",
      "W\n",
      "X\n",
      "Y\n",
      "Z\n"
     ]
    }
   ],
   "source": [
    "l = list(range(65,91))\n",
    "for a in l:\n",
    "    print(chr(a))"
   ]
  },
  {
   "cell_type": "code",
   "execution_count": 5,
   "id": "5d4c3361",
   "metadata": {},
   "outputs": [
    {
     "data": {
      "text/plain": [
       "['A',\n",
       " 'B',\n",
       " 'C',\n",
       " 'D',\n",
       " 'E',\n",
       " 'F',\n",
       " 'G',\n",
       " 'H',\n",
       " 'I',\n",
       " 'J',\n",
       " 'K',\n",
       " 'L',\n",
       " 'M',\n",
       " 'N',\n",
       " 'O',\n",
       " 'P',\n",
       " 'Q',\n",
       " 'R',\n",
       " 'S',\n",
       " 'T',\n",
       " 'U',\n",
       " 'V',\n",
       " 'W',\n",
       " 'X',\n",
       " 'Y',\n",
       " 'Z']"
      ]
     },
     "execution_count": 5,
     "metadata": {},
     "output_type": "execute_result"
    }
   ],
   "source": [
    "[chr(i) for i in range(65,91)]"
   ]
  },
  {
   "cell_type": "code",
   "execution_count": 7,
   "id": "c6984668",
   "metadata": {},
   "outputs": [
    {
     "data": {
      "text/plain": [
       "'C'"
      ]
     },
     "execution_count": 7,
     "metadata": {},
     "output_type": "execute_result"
    }
   ],
   "source": [
    "chr(67)"
   ]
  },
  {
   "cell_type": "code",
   "execution_count": 3,
   "id": "da5240eb",
   "metadata": {},
   "outputs": [
    {
     "data": {
      "text/plain": [
       "90"
      ]
     },
     "execution_count": 3,
     "metadata": {},
     "output_type": "execute_result"
    }
   ],
   "source": [
    "ord('Z')"
   ]
  },
  {
   "cell_type": "markdown",
   "id": "b288cbbd",
   "metadata": {},
   "source": [
    "# mutable"
   ]
  },
  {
   "cell_type": "code",
   "execution_count": 28,
   "id": "d071645c",
   "metadata": {},
   "outputs": [
    {
     "data": {
      "text/plain": [
       "'Muhammad Qasim'"
      ]
     },
     "execution_count": 28,
     "metadata": {},
     "output_type": "execute_result"
    }
   ],
   "source": [
    "#        0                1             2  index\n",
    "a = ['Muhammad Aslam',\"Muhammad Qasim\",30] # value,element\n",
    "\n",
    "a[1] # calling"
   ]
  },
  {
   "cell_type": "code",
   "execution_count": 30,
   "id": "183ad31f",
   "metadata": {},
   "outputs": [
    {
     "data": {
      "text/plain": [
       "['Muhammad Aslam', 'Qasim', 30]"
      ]
     },
     "execution_count": 30,
     "metadata": {},
     "output_type": "execute_result"
    }
   ],
   "source": [
    "a[1] = 'Qasim' #update/calling\n",
    "a"
   ]
  },
  {
   "cell_type": "code",
   "execution_count": 32,
   "id": "0bd89cb2",
   "metadata": {},
   "outputs": [
    {
     "name": "stdout",
     "output_type": "stream",
     "text": [
      "Muhammad Qasim\n"
     ]
    },
    {
     "data": {
      "text/plain": [
       "'M'"
      ]
     },
     "execution_count": 32,
     "metadata": {},
     "output_type": "execute_result"
    }
   ],
   "source": [
    "a = 'Muhammad Qasim'\n",
    "print(a)\n",
    "\n",
    "a[0]\n"
   ]
  },
  {
   "cell_type": "code",
   "execution_count": 33,
   "id": "a065c5a0",
   "metadata": {},
   "outputs": [
    {
     "name": "stdout",
     "output_type": "stream",
     "text": [
      "Muhammad Qasim\n"
     ]
    },
    {
     "ename": "TypeError",
     "evalue": "'str' object does not support item assignment",
     "output_type": "error",
     "traceback": [
      "\u001b[0;31m---------------------------------------------------------------------------\u001b[0m",
      "\u001b[0;31mTypeError\u001b[0m                                 Traceback (most recent call last)",
      "Cell \u001b[0;32mIn[33], line 4\u001b[0m\n\u001b[1;32m      1\u001b[0m a \u001b[38;5;241m=\u001b[39m \u001b[38;5;124m'\u001b[39m\u001b[38;5;124mMuhammad Qasim\u001b[39m\u001b[38;5;124m'\u001b[39m\n\u001b[1;32m      2\u001b[0m \u001b[38;5;28mprint\u001b[39m(a)\n\u001b[0;32m----> 4\u001b[0m a[\u001b[38;5;241m0\u001b[39m] \u001b[38;5;241m=\u001b[39m \u001b[38;5;124m'\u001b[39m\u001b[38;5;124mm\u001b[39m\u001b[38;5;124m'\u001b[39m\n\u001b[1;32m      5\u001b[0m \u001b[38;5;28mprint\u001b[39m(a)\n",
      "\u001b[0;31mTypeError\u001b[0m: 'str' object does not support item assignment"
     ]
    }
   ],
   "source": [
    "a = 'Muhammad Qasim'\n",
    "print(a)\n",
    "\n",
    "a[0] = 'm'\n",
    "print(a)\n"
   ]
  },
  {
   "cell_type": "markdown",
   "id": "65fd8b0e",
   "metadata": {},
   "source": [
    "# Tuple (immutable)"
   ]
  },
  {
   "cell_type": "code",
   "execution_count": 38,
   "id": "0dc246b8",
   "metadata": {},
   "outputs": [
    {
     "name": "stdout",
     "output_type": "stream",
     "text": [
      "('X', 'Y', 'Z')\n"
     ]
    },
    {
     "data": {
      "text/plain": [
       "['count', 'index']"
      ]
     },
     "execution_count": 38,
     "metadata": {},
     "output_type": "execute_result"
    }
   ],
   "source": [
    "#     0  1  2\n",
    "a = ('X','Y','Z')\n",
    "#.   -3  -2 -1\n",
    "print(a)\n"
   ]
  },
  {
   "cell_type": "code",
   "execution_count": 40,
   "id": "a830b009",
   "metadata": {},
   "outputs": [
    {
     "name": "stdout",
     "output_type": "stream",
     "text": [
      "X\n",
      "Y\n",
      "Z\n"
     ]
    }
   ],
   "source": [
    "for i in a:\n",
    "    print(i)"
   ]
  },
  {
   "cell_type": "code",
   "execution_count": 41,
   "id": "a8d7031d",
   "metadata": {},
   "outputs": [
    {
     "data": {
      "text/plain": [
       "'X'"
      ]
     },
     "execution_count": 41,
     "metadata": {},
     "output_type": "execute_result"
    }
   ],
   "source": [
    "a[0]"
   ]
  },
  {
   "cell_type": "code",
   "execution_count": 42,
   "id": "d21255e5",
   "metadata": {},
   "outputs": [
    {
     "data": {
      "text/plain": [
       "'Z'"
      ]
     },
     "execution_count": 42,
     "metadata": {},
     "output_type": "execute_result"
    }
   ],
   "source": [
    "a[-1]"
   ]
  },
  {
   "cell_type": "code",
   "execution_count": 43,
   "id": "1a739f40",
   "metadata": {},
   "outputs": [
    {
     "ename": "TypeError",
     "evalue": "'tuple' object does not support item assignment",
     "output_type": "error",
     "traceback": [
      "\u001b[0;31m---------------------------------------------------------------------------\u001b[0m",
      "\u001b[0;31mTypeError\u001b[0m                                 Traceback (most recent call last)",
      "Cell \u001b[0;32mIn[43], line 1\u001b[0m\n\u001b[0;32m----> 1\u001b[0m a[\u001b[38;5;241m0\u001b[39m] \u001b[38;5;241m=\u001b[39m \u001b[38;5;124m\"\u001b[39m\u001b[38;5;124mPakistan\u001b[39m\u001b[38;5;124m\"\u001b[39m\n\u001b[1;32m      2\u001b[0m \u001b[38;5;28mprint\u001b[39m(a)\n",
      "\u001b[0;31mTypeError\u001b[0m: 'tuple' object does not support item assignment"
     ]
    }
   ],
   "source": [
    "a[0] = \"Pakistan\" # update\n",
    "print(a)"
   ]
  },
  {
   "cell_type": "code",
   "execution_count": 45,
   "id": "bd54ad45",
   "metadata": {},
   "outputs": [
    {
     "name": "stdout",
     "output_type": "stream",
     "text": [
      "('X', 'Y', 'Z')\n",
      "6045502912\n",
      "('Pakistan', 'Y', 'Z')\n",
      "6045460992\n"
     ]
    }
   ],
   "source": [
    "#     0  1  2\n",
    "a = ('X','Y','Z')\n",
    "#.   -3  -2 -1\n",
    "print(a)\n",
    "print(id(a))\n",
    "\n",
    "a = ('Pakistan','Y',\"Z\") # re assign we change whole variable\n",
    "\n",
    "print(a)\n",
    "print(id(a))"
   ]
  },
  {
   "cell_type": "code",
   "execution_count": 39,
   "id": "8ca1d9a9",
   "metadata": {},
   "outputs": [
    {
     "data": {
      "text/plain": [
       "['count', 'index']"
      ]
     },
     "execution_count": 39,
     "metadata": {},
     "output_type": "execute_result"
    }
   ],
   "source": [
    "[i for i in dir(a) if \"__\" not in i]"
   ]
  },
  {
   "cell_type": "markdown",
   "id": "c5df37f4",
   "metadata": {},
   "source": [
    "# Set"
   ]
  },
  {
   "cell_type": "code",
   "execution_count": 47,
   "id": "48ab9b1f",
   "metadata": {},
   "outputs": [
    {
     "name": "stdout",
     "output_type": "stream",
     "text": [
      "{1, 2, 3, 4, 7, 8}\n"
     ]
    }
   ],
   "source": [
    "a = {1,2,3,4,3,7,8,1,1} # set/unique\n",
    "print(a)"
   ]
  },
  {
   "cell_type": "code",
   "execution_count": 48,
   "id": "48fb4625",
   "metadata": {},
   "outputs": [
    {
     "ename": "TypeError",
     "evalue": "'set' object is not subscriptable",
     "output_type": "error",
     "traceback": [
      "\u001b[0;31m---------------------------------------------------------------------------\u001b[0m",
      "\u001b[0;31mTypeError\u001b[0m                                 Traceback (most recent call last)",
      "Cell \u001b[0;32mIn[48], line 1\u001b[0m\n\u001b[0;32m----> 1\u001b[0m \u001b[38;5;28mprint\u001b[39m(a[\u001b[38;5;241m0\u001b[39m])\n",
      "\u001b[0;31mTypeError\u001b[0m: 'set' object is not subscriptable"
     ]
    }
   ],
   "source": [
    "print(a[0]) # indexing not allowed"
   ]
  },
  {
   "cell_type": "code",
   "execution_count": null,
   "id": "767dddbf",
   "metadata": {},
   "outputs": [],
   "source": []
  },
  {
   "cell_type": "markdown",
   "id": "3c3287ce",
   "metadata": {},
   "source": [
    "# List"
   ]
  },
  {
   "cell_type": "code",
   "execution_count": null,
   "id": "0d73ed46",
   "metadata": {},
   "outputs": [],
   "source": [
    "#        0                1             2  index\n",
    "a = ['Muhammad Aslam',\"Muhammad Qasim\",30] # value,element\n",
    "\n",
    "a[1]"
   ]
  },
  {
   "cell_type": "code",
   "execution_count": 13,
   "id": "76a412df",
   "metadata": {},
   "outputs": [
    {
     "name": "stdout",
     "output_type": "stream",
     "text": [
      "{'fname': 'Muhammad Aslam', 'name': 'Muhammad Qasim', 'age': 30}\n"
     ]
    },
    {
     "data": {
      "text/plain": [
       "'Muhammad Qasim'"
      ]
     },
     "execution_count": 13,
     "metadata": {},
     "output_type": "execute_result"
    }
   ],
   "source": [
    "#                                   \n",
    "a = {\n",
    "    'fname':'Muhammad Aslam', \n",
    "     'name':\"Muhammad Qasim\",\n",
    "     'age':30\n",
    "    } \n",
    "\n",
    "print(a)\n",
    "\n",
    "a['name']"
   ]
  },
  {
   "cell_type": "code",
   "execution_count": 16,
   "id": "df6ea755",
   "metadata": {},
   "outputs": [
    {
     "name": "stdout",
     "output_type": "stream",
     "text": [
      "{'roll_no': [1, 2, 3], 'name': ['a', 'b', 'c'], 'course': ['AI', 'DS', 'ML']}\n"
     ]
    },
    {
     "data": {
      "text/html": [
       "<div>\n",
       "<style scoped>\n",
       "    .dataframe tbody tr th:only-of-type {\n",
       "        vertical-align: middle;\n",
       "    }\n",
       "\n",
       "    .dataframe tbody tr th {\n",
       "        vertical-align: top;\n",
       "    }\n",
       "\n",
       "    .dataframe thead th {\n",
       "        text-align: right;\n",
       "    }\n",
       "</style>\n",
       "<table border=\"1\" class=\"dataframe\">\n",
       "  <thead>\n",
       "    <tr style=\"text-align: right;\">\n",
       "      <th></th>\n",
       "      <th>roll_no</th>\n",
       "      <th>name</th>\n",
       "      <th>course</th>\n",
       "    </tr>\n",
       "  </thead>\n",
       "  <tbody>\n",
       "    <tr>\n",
       "      <th>0</th>\n",
       "      <td>1</td>\n",
       "      <td>a</td>\n",
       "      <td>AI</td>\n",
       "    </tr>\n",
       "    <tr>\n",
       "      <th>1</th>\n",
       "      <td>2</td>\n",
       "      <td>b</td>\n",
       "      <td>DS</td>\n",
       "    </tr>\n",
       "    <tr>\n",
       "      <th>2</th>\n",
       "      <td>3</td>\n",
       "      <td>c</td>\n",
       "      <td>ML</td>\n",
       "    </tr>\n",
       "  </tbody>\n",
       "</table>\n",
       "</div>"
      ],
      "text/plain": [
       "   roll_no name course\n",
       "0        1    a     AI\n",
       "1        2    b     DS\n",
       "2        3    c     ML"
      ]
     },
     "execution_count": 16,
     "metadata": {},
     "output_type": "execute_result"
    }
   ],
   "source": [
    "import pandas as pd\n",
    "\n",
    "#class topic\n",
    "data = {\"roll_no\":[1,2,3],\n",
    "       \"name\":['a','b','c'],\n",
    "       'course':['AI',\"DS\",\"ML\"]}\n",
    "\n",
    "#class top end\n",
    "\n",
    "print(data)\n",
    "\n",
    "df = pd.DataFrame(data)\n",
    "df"
   ]
  },
  {
   "cell_type": "code",
   "execution_count": 22,
   "id": "4977e2f7",
   "metadata": {},
   "outputs": [
    {
     "name": "stdout",
     "output_type": "stream",
     "text": [
      "False\n",
      "True\n",
      "True\n",
      "True\n"
     ]
    }
   ],
   "source": [
    "#       Bank                  customer\n",
    "print('42201-7578760-1' == '4220175787601') #real data\n",
    "\n",
    "print('42201-7578760-1' == '42201-7578760-1') # after converted 1\n",
    "print('4220175787601' == '4220175787601') # after coverted 2\n",
    "\n",
    "print('42201-7578760-1'.replace(\"-\",\"\") == '4220175787601'.replace(\"-\",\"\")) #3"
   ]
  },
  {
   "cell_type": "code",
   "execution_count": null,
   "id": "14351a7f",
   "metadata": {},
   "outputs": [],
   "source": [
    "# 30/01/2022 department1\n",
    "# 30,01,2022\n",
    "# 30>12 = 0 index day\n",
    "\n",
    "\n",
    "# 01/30/2022 department2\n",
    "\n",
    "# 2022/01/30 department3\n",
    "\n",
    "\n"
   ]
  },
  {
   "cell_type": "markdown",
   "id": "c4c12bde",
   "metadata": {},
   "source": [
    "# now replace index number with Key\n",
    "\n",
    "```\n",
    "{\n",
    "    key1 : value1,\n",
    "    key2 : value2,\n",
    "}\n",
    "```\n",
    "* key = str, int\n",
    "* value = str, int, float, list, tuple, dict..."
   ]
  },
  {
   "cell_type": "code",
   "execution_count": 24,
   "id": "5096c90b",
   "metadata": {},
   "outputs": [
    {
     "name": "stdout",
     "output_type": "stream",
     "text": [
      "{'a': 'Pakistan', 20: 'Hello world'}\n",
      "Hello world\n",
      "Pakistan\n"
     ]
    }
   ],
   "source": [
    "d = {\n",
    "    'a':\"Pakistan\",\n",
    "    20: \"Hello world\"\n",
    "    }\n",
    "print(d)\n",
    "print(d[20])\n",
    "print(d['a'])"
   ]
  },
  {
   "cell_type": "code",
   "execution_count": 26,
   "id": "12ec5458",
   "metadata": {},
   "outputs": [
    {
     "name": "stdout",
     "output_type": "stream",
     "text": [
      "{'a': 'Pakistan', 20: 'Hello world', (1, 2, 3): 'ABCD'}\n",
      "Hello world\n",
      "Pakistan\n",
      "ABCD\n"
     ]
    }
   ],
   "source": [
    "d = {\n",
    "    'a':\"Pakistan\",\n",
    "    20: \"Hello world\",\n",
    "    (1,2,3): \"ABCD\" # wrong method\n",
    "    }\n",
    "print(d)\n",
    "print(d[20])\n",
    "print(d['a'])\n",
    "print(d[(1,2,3)])"
   ]
  },
  {
   "cell_type": "code",
   "execution_count": 27,
   "id": "434d9cf3",
   "metadata": {},
   "outputs": [
    {
     "ename": "TypeError",
     "evalue": "unhashable type: 'list'",
     "output_type": "error",
     "traceback": [
      "\u001b[0;31m---------------------------------------------------------------------------\u001b[0m",
      "\u001b[0;31mTypeError\u001b[0m                                 Traceback (most recent call last)",
      "Cell \u001b[0;32mIn[27], line 1\u001b[0m\n\u001b[0;32m----> 1\u001b[0m d \u001b[38;5;241m=\u001b[39m {\n\u001b[1;32m      2\u001b[0m     \u001b[38;5;124m'\u001b[39m\u001b[38;5;124ma\u001b[39m\u001b[38;5;124m'\u001b[39m:\u001b[38;5;124m\"\u001b[39m\u001b[38;5;124mPakistan\u001b[39m\u001b[38;5;124m\"\u001b[39m,\n\u001b[1;32m      3\u001b[0m     \u001b[38;5;241m20\u001b[39m: \u001b[38;5;124m\"\u001b[39m\u001b[38;5;124mHello world\u001b[39m\u001b[38;5;124m\"\u001b[39m,\n\u001b[1;32m      4\u001b[0m     [\u001b[38;5;241m1\u001b[39m,\u001b[38;5;241m2\u001b[39m,\u001b[38;5;241m3\u001b[39m]: \u001b[38;5;124m\"\u001b[39m\u001b[38;5;124mABCD\u001b[39m\u001b[38;5;124m\"\u001b[39m \u001b[38;5;66;03m# wrong method\u001b[39;00m\n\u001b[1;32m      5\u001b[0m     }\n\u001b[1;32m      6\u001b[0m \u001b[38;5;28mprint\u001b[39m(d)\n\u001b[1;32m      7\u001b[0m \u001b[38;5;28mprint\u001b[39m(d[\u001b[38;5;241m20\u001b[39m])\n",
      "\u001b[0;31mTypeError\u001b[0m: unhashable type: 'list'"
     ]
    }
   ],
   "source": [
    "d = {\n",
    "    'a':\"Pakistan\",\n",
    "    20: \"Hello world\",\n",
    "    [1,2,3]: \"ABCD\" # wrong method\n",
    "    }\n",
    "print(d)\n",
    "print(d[20])\n",
    "print(d['a'])\n",
    "print(d[(1,2,3)])"
   ]
  },
  {
   "cell_type": "code",
   "execution_count": 52,
   "id": "01ad9a78",
   "metadata": {},
   "outputs": [
    {
     "name": "stdout",
     "output_type": "stream",
     "text": [
      "{'roll_no': [1, 2, 3, 4]}\n",
      "[1, 2, 3, 4]\n",
      "3\n"
     ]
    }
   ],
   "source": [
    "data = {\"roll_no\": [1,2,3,4]}\n",
    "\n",
    "print(data)#dic\n",
    "print(data['roll_no'])# list\n",
    "print(data['roll_no'][2])# int"
   ]
  },
  {
   "cell_type": "code",
   "execution_count": 55,
   "id": "3d13af03",
   "metadata": {},
   "outputs": [
    {
     "name": "stdout",
     "output_type": "stream",
     "text": [
      "[1, 2, 3, {'id': '1', 'name': 'Ali'}]\n",
      "{'id': '1', 'name': 'Ali'}\n",
      "Ali\n"
     ]
    }
   ],
   "source": [
    "#.   0 1 2.         3\n",
    "a = [1,2,3, {'id':'1','name':'Ali'}]\n",
    "#.  -4,-3,-2      -1\n",
    "print(a)\n",
    "print(a[-1])\n",
    "print(a[-1]['name'])"
   ]
  },
  {
   "cell_type": "code",
   "execution_count": 58,
   "id": "17329918",
   "metadata": {},
   "outputs": [
    {
     "name": "stdout",
     "output_type": "stream",
     "text": [
      "[1, 2, 3, {'id': '1', 'name': 'Ali'}]\n",
      "<class 'list'>\n"
     ]
    },
    {
     "data": {
      "text/plain": [
       "True"
      ]
     },
     "execution_count": 58,
     "metadata": {},
     "output_type": "execute_result"
    }
   ],
   "source": [
    "print(a)\n",
    "print(type(a))\n",
    "\n",
    "isinstance(a,list)# match one data type with your datatype"
   ]
  },
  {
   "cell_type": "code",
   "execution_count": 61,
   "id": "c9792f50",
   "metadata": {},
   "outputs": [
    {
     "data": {
      "text/plain": [
       "{1, 2, 20, 3, 'a', 'b', 'c'}"
      ]
     },
     "execution_count": 61,
     "metadata": {},
     "output_type": "execute_result"
    }
   ],
   "source": [
    "{'c',1,2,3,3,3, 'a',20,'b','c'}"
   ]
  },
  {
   "cell_type": "code",
   "execution_count": 71,
   "id": "51b1f3fe",
   "metadata": {},
   "outputs": [
    {
     "name": "stdout",
     "output_type": "stream",
     "text": [
      "['AI', 'AI', 'DS', 'DS'] <class 'list'>\n",
      "{'AI', 'DS'} <class 'set'>\n",
      "['AI', 'DS'] <class 'list'>\n",
      "['DS', 'AI'] <class 'list'>\n"
     ]
    }
   ],
   "source": [
    "course = ['AI',\"AI\",\"DS\",\"DS\"] # list\n",
    "print(course, type(course))\n",
    "\n",
    "course = set(course) # set converted\n",
    "print(course, type(course))\n",
    "\n",
    "course = list(course)\n",
    "print(course, type(course)) # converted into list\n",
    "\n",
    "course.reverse() # reverse order\n",
    "print(course, type(course))\n"
   ]
  },
  {
   "cell_type": "code",
   "execution_count": 64,
   "id": "5857a8fb",
   "metadata": {},
   "outputs": [
    {
     "data": {
      "text/plain": [
       "{33, 4, 'a', 'd'}"
      ]
     },
     "execution_count": 64,
     "metadata": {},
     "output_type": "execute_result"
    }
   ],
   "source": [
    "a={'d',4,33,'a','a'}\n",
    "a"
   ]
  },
  {
   "cell_type": "code",
   "execution_count": 78,
   "id": "d0ee1339",
   "metadata": {},
   "outputs": [
    {
     "name": "stdout",
     "output_type": "stream",
     "text": [
      "{1, 2, 3, 'a', 'b', 'x'} <class 'set'>\n",
      "[1, 2, 3, 'a', 'b', 'x'] <class 'list'>\n",
      "[1, 2, 3, 'a', 'b', 'x']\n",
      "['a', 'b', 'x']\n",
      "[1, 2, 3]\n",
      "['a', 'b', 'x', 1, 2, 3]\n"
     ]
    }
   ],
   "source": [
    "a = [1,2,2,2,2,3, 'a','b','x'] # list\n",
    "# convert into unique values\n",
    "a = set(a) # set/unique\n",
    "print(a, type(a))\n",
    "\n",
    "#convert into list for apply any function on it\n",
    "a = list(a)# now again change in list\n",
    "print(a, type(a))\n",
    "\n",
    "a_string = [i for i in a] # all element\n",
    "\n",
    "# for i in a:\n",
    "#     print(i)\n",
    "\n",
    "\n",
    "\n",
    "print(a_string)\n",
    "\n",
    "a_string = [i for i in a if isinstance(i,str)] # all string\n",
    "a_string = sorted(a_string)\n",
    "print(a_string)\n",
    "\n",
    "a_intiger = [i for i in a if isinstance(i,int)] # all int\n",
    "a_intiger = sorted(a_intiger)\n",
    "print(a_intiger)\n",
    "\n",
    "a = a_string + a_intiger\n",
    "print(a)"
   ]
  },
  {
   "cell_type": "markdown",
   "id": "5d47bc07",
   "metadata": {},
   "source": [
    "# code generate with ChatGPT"
   ]
  },
  {
   "cell_type": "code",
   "execution_count": 79,
   "id": "6836b9d3",
   "metadata": {},
   "outputs": [
    {
     "name": "stdout",
     "output_type": "stream",
     "text": [
      "['a', 'b', 'x', 3, 2, 1]\n"
     ]
    }
   ],
   "source": [
    "a = [1, 2, 2, 2, 2, 3, 'a', 'b', 'x']\n",
    "\n",
    "# Separate string and integer items\n",
    "string_items = [item for item in a if isinstance(item, str)]\n",
    "integer_items = [item for item in a if isinstance(item, int)]\n",
    "\n",
    "# Get unique values\n",
    "unique_string_items = list(set(string_items))\n",
    "unique_integer_items = list(set(integer_items))\n",
    "\n",
    "# Sort in ascending order for string items and descending order for integer items\n",
    "sorted_string_items = sorted(unique_string_items)\n",
    "sorted_integer_items = sorted(unique_integer_items, reverse=True)\n",
    "\n",
    "# Combine the sorted lists\n",
    "result = sorted_string_items + sorted_integer_items\n",
    "print(result)\n"
   ]
  },
  {
   "cell_type": "code",
   "execution_count": 83,
   "id": "cdb86ea9",
   "metadata": {},
   "outputs": [
    {
     "name": "stdout",
     "output_type": "stream",
     "text": [
      "Enter First Name:\taa\n",
      "Enter Last Name:\tbb\n",
      "Roll #:\tcc\n"
     ]
    }
   ],
   "source": [
    "d={\n",
    "    'fname':input('Enter First Name:\\t'),\n",
    "    'lname':input('Enter Last Name:\\t'),\n",
    "    'roll_no':input('Roll #:\\t')\n",
    "}"
   ]
  },
  {
   "cell_type": "code",
   "execution_count": 84,
   "id": "637cac56",
   "metadata": {},
   "outputs": [
    {
     "data": {
      "text/plain": [
       "{'fname': 'aa', 'lname': 'bb', 'roll_no': 'cc'}"
      ]
     },
     "execution_count": 84,
     "metadata": {},
     "output_type": "execute_result"
    }
   ],
   "source": [
    "d"
   ]
  },
  {
   "cell_type": "code",
   "execution_count": 95,
   "id": "19b109e9",
   "metadata": {},
   "outputs": [
    {
     "name": "stdout",
     "output_type": "stream",
     "text": [
      "False\n",
      "True\n",
      "False\n",
      "False\n",
      "False\n",
      "False\n",
      "False\n",
      "False\n",
      "False\n"
     ]
    }
   ],
   "source": [
    "i = [1,23]\n",
    "\n",
    "print(isinstance(i,str))\n",
    "print(isinstance(i,list))\n",
    "print(isinstance(i,tuple))\n",
    "print(isinstance(i,set))\n",
    "print(isinstance(i,dict))\n",
    "print(isinstance(i,float))\n",
    "print(isinstance(i,bool))\n",
    "print(isinstance(i,int))\n",
    "print(isinstance(i,complex))"
   ]
  },
  {
   "cell_type": "code",
   "execution_count": null,
   "id": "d04c1609",
   "metadata": {},
   "outputs": [],
   "source": []
  }
 ],
 "metadata": {
  "kernelspec": {
   "display_name": "Python 3 (ipykernel)",
   "language": "python",
   "name": "python3"
  },
  "language_info": {
   "codemirror_mode": {
    "name": "ipython",
    "version": 3
   },
   "file_extension": ".py",
   "mimetype": "text/x-python",
   "name": "python",
   "nbconvert_exporter": "python",
   "pygments_lexer": "ipython3",
   "version": "3.11.3"
  }
 },
 "nbformat": 4,
 "nbformat_minor": 5
}

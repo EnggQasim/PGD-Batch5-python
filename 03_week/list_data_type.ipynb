{
 "cells": [
  {
   "cell_type": "code",
   "execution_count": 1,
   "id": "d15cffc6-f318-4189-853f-211a5ac303ef",
   "metadata": {},
   "outputs": [
    {
     "name": "stdout",
     "output_type": "stream",
     "text": [
      "Hammad\n",
      "Visha\n",
      "Sadia\n",
      "M.A Rasheed\n"
     ]
    }
   ],
   "source": [
    "s1_name = \"Hammad\"\n",
    "s2_name = \"Visha\"\n",
    "s3_name = \"Sadia\"\n",
    "s4_name = \"M.A Rasheed\"\n",
    "\n",
    "\n",
    "print(s1_name)\n",
    "print(s2_name)\n",
    "print(s3_name)\n",
    "print(s4_name)"
   ]
  },
  {
   "cell_type": "markdown",
   "id": "a846cfb4-9d4a-44b6-bc24-da5d58ec8b7a",
   "metadata": {},
   "source": [
    "# list data type\n",
    "* Hetrogenous data type\n",
    "* dynamic length\n",
    "* dynamic memory management\n",
    "\n",
    "Syntax:\n",
    "\n",
    "```[elemnet1, element2, element3,...]```\n"
   ]
  },
  {
   "cell_type": "code",
   "execution_count": 4,
   "id": "a5d6113f-07d0-40cf-bee7-9a433d08d939",
   "metadata": {},
   "outputs": [
    {
     "data": {
      "text/plain": [
       "['Hammad', 'Visha', 'Sadia', 'M.A Rasheed']"
      ]
     },
     "execution_count": 4,
     "metadata": {},
     "output_type": "execute_result"
    }
   ],
   "source": [
    "names = [\"Hammad\", \"Visha\", \"Sadia\", \"M.A Rasheed\"]\n",
    "names"
   ]
  },
  {
   "cell_type": "code",
   "execution_count": null,
   "id": "9689d316-6fbb-4c13-9232-8dc276ea83c8",
   "metadata": {},
   "outputs": [],
   "source": [
    "# ->         0       1        2         3\n",
    "names = [\"Hammad\", \"Visha\", \"Sadia\", \"M.A Rasheed\"]\n",
    "# <-        -4       -3        -2         -1             <-\n",
    "\n",
    "names"
   ]
  },
  {
   "cell_type": "markdown",
   "id": "0ecf6715-7354-4693-807d-3f5728f5be11",
   "metadata": {},
   "source": [
    "# Extract value from iterative data type with index position\n",
    "Syntax: ```list_variable[index_number]```"
   ]
  },
  {
   "cell_type": "code",
   "execution_count": 6,
   "id": "6e32703d-c178-404a-8070-1c4446f9a8aa",
   "metadata": {},
   "outputs": [
    {
     "name": "stdin",
     "output_type": "stream",
     "text": [
      "Please insert names with ',' seprated:  Hamza,Ali,Iqbal,Junaid,Ibad,Konain\n"
     ]
    },
    {
     "name": "stdout",
     "output_type": "stream",
     "text": [
      "Hamza,Ali,Iqbal,Junaid,Ibad,Konain\n"
     ]
    },
    {
     "data": {
      "text/plain": [
       "['Hamza', 'Ali', 'Iqbal', 'Junaid', 'Ibad', 'Konain']"
      ]
     },
     "execution_count": 6,
     "metadata": {},
     "output_type": "execute_result"
    }
   ],
   "source": [
    "names1 = input(\"Please insert names with ',' seprated: \")\n",
    "print(names1)\n",
    "names1.split(\",\")"
   ]
  },
  {
   "cell_type": "code",
   "execution_count": 8,
   "id": "4b30f0f0-f86f-42c1-b915-bb3ea4b09d33",
   "metadata": {},
   "outputs": [
    {
     "name": "stdout",
     "output_type": "stream",
     "text": [
      "Visha\n",
      "Visha\n"
     ]
    }
   ],
   "source": [
    "# ->         0       1        2         3\n",
    "names = [\"Hammad\", \"Visha\", \"Sadia\", \"M.A Rasheed\"]\n",
    "# <-        -4       -3        -2         -1             <-\n",
    "# list_variable[index_number]\n",
    "print(names[1])\n",
    "print(names[-3])"
   ]
  },
  {
   "cell_type": "markdown",
   "id": "e2a82fd0-a12f-4725-81f2-54bcf0c24f49",
   "metadata": {},
   "source": [
    "# Slicing on list\n",
    "Syntax: ```list_variable[start:end:step]```\n",
    "* start = this number will be included\n",
    "* end = excluded end-1\n",
    "* step = sequance/gap\n",
    "    * stpe = 1 (positive value ---->)"
   ]
  },
  {
   "cell_type": "code",
   "execution_count": 27,
   "id": "dd82bad5",
   "metadata": {},
   "outputs": [
    {
     "data": {
      "text/plain": [
       "range(1, 11)"
      ]
     },
     "execution_count": 27,
     "metadata": {},
     "output_type": "execute_result"
    }
   ],
   "source": [
    "range(1,11)"
   ]
  },
  {
   "cell_type": "code",
   "execution_count": 43,
   "id": "1d781f93",
   "metadata": {},
   "outputs": [
    {
     "name": "stdout",
     "output_type": "stream",
     "text": [
      "[1, 2, 3, 4, 5, 6, 7, 8, 9, 10]\n",
      "[6, 4, 2]\n"
     ]
    }
   ],
   "source": [
    "a = list(range(1,11))\n",
    "\n",
    "print(a)\n",
    "\n",
    "# print(a[3::])\n",
    "# print(a[3:])\n",
    "# print(a[3:10])\n",
    "# print(a[3:10:1])\n",
    "# print(a[-7:])\n",
    "print(a[-5:-10:-2])\n",
    "\n",
    "\n",
    "\n",
    "# print(a[0:10:3])\n",
    "\n",
    "# print(a[::])\n",
    "\n",
    "# print(a[1:7])\n",
    "# print(a[1:2])\n",
    "# print(a[0])# indexing\n",
    "\n",
    "#  0  1  2  3  4   5  6 7  8   9 ->\n",
    "# [1, 2, 3, 4, 5, 6, 7, 8, 9, 10]\n",
    "# -10 -9-8 -7 -6 -5 -4  -3 -2 -1   <-"
   ]
  },
  {
   "cell_type": "code",
   "execution_count": 33,
   "id": "ff5e3a14",
   "metadata": {},
   "outputs": [
    {
     "name": "stdout",
     "output_type": "stream",
     "text": [
      "[1, 2, 3, 4, 5, 6, 7, 8, 9, 10]\n",
      "[9, 8, 7]\n"
     ]
    }
   ],
   "source": [
    "a = list(range(1,11))\n",
    "\n",
    "print(a)\n",
    "print(a[-2:-5:-1])# <-----"
   ]
  },
  {
   "cell_type": "code",
   "execution_count": null,
   "id": "13c02917",
   "metadata": {},
   "outputs": [],
   "source": []
  },
  {
   "cell_type": "code",
   "execution_count": 5,
   "id": "2c2fd69a-2080-47c9-877a-75a2b63119fc",
   "metadata": {},
   "outputs": [
    {
     "name": "stdout",
     "output_type": "stream",
     "text": [
      "['a', 'b', 'c', 'd', 'e', 'f', 'g', 'h', 'i', 'j', 'k', 'l', 'm', 'n', 'o', 'p', 'q', 'r', 's', 't', 'u', 'v', 'w', 'x', 'y', 'z']\n",
      "a\n",
      "c\n",
      "e\n",
      "g\n",
      "i\n",
      "k\n",
      "m\n",
      "o\n",
      "q\n",
      "s\n",
      "u\n",
      "w\n",
      "y\n"
     ]
    }
   ],
   "source": [
    "characters = list(\"abcdefghijklmnopqrstuvwxyz\")\n",
    "print(characters)\n",
    "\n",
    "counter = 0\n",
    "\n",
    "while(counter < len(characters)):\n",
    "    print(characters[counter])\n",
    "    counter += 2"
   ]
  },
  {
   "cell_type": "markdown",
   "id": "acbf8a93",
   "metadata": {},
   "source": [
    "# Extra code"
   ]
  },
  {
   "cell_type": "code",
   "execution_count": 45,
   "id": "bae76729",
   "metadata": {},
   "outputs": [
    {
     "data": {
      "text/plain": [
       "[[1, 2, 3, 4, 5, 6, 7, 8, 9, 10],\n",
       " [11, 12, 13, 14, 15, 16, 17, 18, 19, 20],\n",
       " [21, 22, 23, 24, 25, 26, 27, 28, 29, 30],\n",
       " [31, 32, 33, 34, 35, 36, 37, 38, 39, 40],\n",
       " [41, 42, 43, 44, 45, 46, 47, 48, 49, 50],\n",
       " [51, 52, 53, 54, 55, 56, 57, 58, 59, 60],\n",
       " [61, 62, 63, 64, 65, 66, 67, 68, 69, 70],\n",
       " [71, 72, 73, 74, 75, 76, 77, 78, 79, 80],\n",
       " [81, 82, 83, 84, 85, 86, 87, 88, 89, 90],\n",
       " [91, 92, 93, 94, 95, 96, 97, 98, 99, 100]]"
      ]
     },
     "execution_count": 45,
     "metadata": {},
     "output_type": "execute_result"
    }
   ],
   "source": [
    "import numpy as np\n",
    "\n",
    "a = np.arange(1,101).reshape(10,10).tolist()\n",
    "a"
   ]
  },
  {
   "cell_type": "code",
   "execution_count": 48,
   "id": "9561965e",
   "metadata": {},
   "outputs": [
    {
     "data": {
      "text/plain": [
       "[[1, 2, 3, 4, 5, 6, 7, 8, 9, 10],\n",
       " [11, 12, 13, 14, 15, 16, 17, 18, 19, 20],\n",
       " [21, 22, 23, 24, 25, 26, 27, 28, 29, 30],\n",
       " [31, 32, 33, 34, 35, 36, 37, 38, 39, 40],\n",
       " [41, 42, 43, 44, 45, 46, 47, 48, 49, 50],\n",
       " [51, 52, 53, 54, 55, 56, 57, 58, 59, 60],\n",
       " [61, 62, 63, 64, 65, 66, 67, 68, 69, 70],\n",
       " [71, 72, 73, 74, 75, 76, 77, 78, 79, 80],\n",
       " [81, 82, 83, 84, 85, 86, 87, 88, 89, 90],\n",
       " [91, 92, 93, 94, 95, 96, 97, 98, 99, 100]]"
      ]
     },
     "metadata": {},
     "output_type": "display_data"
    }
   ],
   "source": [
    "display(a)"
   ]
  },
  {
   "cell_type": "code",
   "execution_count": 53,
   "id": "2fd664b7",
   "metadata": {},
   "outputs": [
    {
     "data": {
      "text/plain": [
       "[[1, 2, 3, 4, 5, 6, 7, 8, 9, 10],\n",
       " [11, 12, 13, 14, 15, 16, 17, 18, 19, 20],\n",
       " [21, 22, 23, 24, 25, 26, 27, 28, 29, 30],\n",
       " [31, 32, 33, 34, 35, 36, 37, 38, 39, 40],\n",
       " [41, 42, 43, 44, 45, 46, 47, 48, 49, 50]]"
      ]
     },
     "execution_count": 53,
     "metadata": {},
     "output_type": "execute_result"
    }
   ],
   "source": [
    "a[0:5:]"
   ]
  },
  {
   "cell_type": "code",
   "execution_count": 56,
   "id": "cf2f51b1",
   "metadata": {},
   "outputs": [
    {
     "data": {
      "text/plain": [
       "[[6, 7, 8],\n",
       " [16, 17, 18],\n",
       " [26, 27, 28],\n",
       " [36, 37, 38],\n",
       " [46, 47, 48],\n",
       " [56, 57, 58],\n",
       " [66, 67, 68],\n",
       " [76, 77, 78],\n",
       " [86, 87, 88],\n",
       " [96, 97, 98]]"
      ]
     },
     "execution_count": 56,
     "metadata": {},
     "output_type": "execute_result"
    }
   ],
   "source": [
    "[i[5:8] for i in a]"
   ]
  },
  {
   "cell_type": "markdown",
   "id": "c21d395c",
   "metadata": {},
   "source": [
    "# End Extra code"
   ]
  },
  {
   "cell_type": "code",
   "execution_count": 67,
   "id": "6eee55b3",
   "metadata": {},
   "outputs": [
    {
     "data": {
      "text/plain": [
       "[1, 2, 3, 4, 5, 6, 7, 8, 9, 10]"
      ]
     },
     "execution_count": 67,
     "metadata": {},
     "output_type": "execute_result"
    }
   ],
   "source": [
    "a = list(range(1,11))\n",
    "a"
   ]
  },
  {
   "cell_type": "code",
   "execution_count": 76,
   "id": "8da1682b",
   "metadata": {},
   "outputs": [
    {
     "name": "stdout",
     "output_type": "stream",
     "text": [
      "a\n",
      "b\n",
      "c\n",
      "d\n",
      "e\n",
      "f\n"
     ]
    }
   ],
   "source": [
    "for i in \"abcdef\":\n",
    "    print(i)"
   ]
  },
  {
   "cell_type": "code",
   "execution_count": 77,
   "id": "4f318714",
   "metadata": {},
   "outputs": [
    {
     "name": "stdout",
     "output_type": "stream",
     "text": [
      "f\n"
     ]
    }
   ],
   "source": [
    "print(i)"
   ]
  },
  {
   "cell_type": "code",
   "execution_count": 72,
   "id": "22146c84",
   "metadata": {},
   "outputs": [
    {
     "data": {
      "text/plain": [
       "['a', 'b', 'c', 'd', 'e', 'f']"
      ]
     },
     "execution_count": 72,
     "metadata": {},
     "output_type": "execute_result"
    }
   ],
   "source": [
    "[i for i in \"abcdef\"]\n",
    "   "
   ]
  },
  {
   "cell_type": "code",
   "execution_count": 74,
   "id": "44505487",
   "metadata": {},
   "outputs": [
    {
     "data": {
      "text/plain": [
       "['a', 'b', 'c', 'd', 'e', 'f']"
      ]
     },
     "execution_count": 74,
     "metadata": {},
     "output_type": "execute_result"
    }
   ],
   "source": [
    "[i for i in \"abcdef\"]\n",
    " "
   ]
  },
  {
   "cell_type": "code",
   "execution_count": 78,
   "id": "2b7a333a",
   "metadata": {},
   "outputs": [
    {
     "name": "stdout",
     "output_type": "stream",
     "text": [
      "hamza\n",
      "asif\n",
      "junaid\n"
     ]
    }
   ],
   "source": [
    "for i in ['hamza','asif','junaid']:\n",
    "    print(i)"
   ]
  },
  {
   "cell_type": "code",
   "execution_count": null,
   "id": "123939f8",
   "metadata": {},
   "outputs": [],
   "source": []
  },
  {
   "cell_type": "code",
   "execution_count": null,
   "id": "2bf40d90",
   "metadata": {},
   "outputs": [],
   "source": []
  },
  {
   "cell_type": "code",
   "execution_count": null,
   "id": "aca1cc7a",
   "metadata": {},
   "outputs": [],
   "source": []
  },
  {
   "cell_type": "code",
   "execution_count": 63,
   "id": "0fe777b8",
   "metadata": {},
   "outputs": [
    {
     "data": {
      "text/plain": [
       "['append',\n",
       " 'clear',\n",
       " 'copy',\n",
       " 'count',\n",
       " 'extend',\n",
       " 'index',\n",
       " 'insert',\n",
       " 'pop',\n",
       " 'remove',\n",
       " 'reverse',\n",
       " 'sort']"
      ]
     },
     "execution_count": 63,
     "metadata": {},
     "output_type": "execute_result"
    }
   ],
   "source": [
    "[i for i in dir(a) if \"__\" not in i]"
   ]
  },
  {
   "cell_type": "code",
   "execution_count": 82,
   "id": "efb377a7",
   "metadata": {},
   "outputs": [
    {
     "name": "stdout",
     "output_type": "stream",
     "text": [
      "[]\n",
      "['Qasim']\n",
      "['Qasim', 'Asif']\n",
      "['Qasim', 'Asif', 'Hamza']\n"
     ]
    }
   ],
   "source": [
    "names = []\n",
    "print(names)\n",
    "names.append(\"Qasim\")\n",
    "print(names)\n",
    "names.append(\"Asif\")\n",
    "print(names)\n",
    "names.append(\"Hamza\")\n",
    "print(names)"
   ]
  },
  {
   "cell_type": "code",
   "execution_count": 84,
   "id": "33f3c815",
   "metadata": {},
   "outputs": [
    {
     "name": "stdout",
     "output_type": "stream",
     "text": [
      "Enter Student Name | X for exitUbaid\n",
      "Enter Student Name | X for exitkonain\n",
      "Enter Student Name | X for exitIbad\n",
      "Enter Student Name | X for exitx\n"
     ]
    },
    {
     "data": {
      "text/plain": [
       "['Qasim', 'Asif', 'Hamza', 'Ubaid', 'konain', 'Ibad']"
      ]
     },
     "execution_count": 84,
     "metadata": {},
     "output_type": "execute_result"
    }
   ],
   "source": [
    "while True:\n",
    "    name1 = input(\"Enter Student Name | X for exit\")\n",
    "    if name1 == \"X\" or name1 ==\"x\":\n",
    "        break\n",
    "    names.append(name1)\n",
    "\n",
    "names"
   ]
  },
  {
   "cell_type": "code",
   "execution_count": 85,
   "id": "3456d04f",
   "metadata": {},
   "outputs": [
    {
     "data": {
      "text/plain": [
       "['Qasim', 'Asif', 'Hamza', 'Ubaid', 'konain', 'Ibad']"
      ]
     },
     "execution_count": 85,
     "metadata": {},
     "output_type": "execute_result"
    }
   ],
   "source": [
    "names"
   ]
  },
  {
   "cell_type": "code",
   "execution_count": 86,
   "id": "ae7607b4",
   "metadata": {},
   "outputs": [
    {
     "data": {
      "text/plain": [
       "['Qasim', 'Asif', 'Hamza', 'Ubaid', 'konain', 'Ibad']"
      ]
     },
     "execution_count": 86,
     "metadata": {},
     "output_type": "execute_result"
    }
   ],
   "source": [
    "st_names = names # shallow copy\n",
    "st_names"
   ]
  },
  {
   "cell_type": "code",
   "execution_count": 87,
   "id": "3013dfb2",
   "metadata": {},
   "outputs": [
    {
     "data": {
      "text/plain": [
       "'Qasim'"
      ]
     },
     "execution_count": 87,
     "metadata": {},
     "output_type": "execute_result"
    }
   ],
   "source": [
    "st_names[0]"
   ]
  },
  {
   "cell_type": "code",
   "execution_count": 88,
   "id": "87bf1e2c",
   "metadata": {},
   "outputs": [
    {
     "name": "stdout",
     "output_type": "stream",
     "text": [
      "['Muhammad Qasim', 'Asif', 'Hamza', 'Ubaid', 'konain', 'Ibad']\n",
      "['Muhammad Qasim', 'Asif', 'Hamza', 'Ubaid', 'konain', 'Ibad']\n"
     ]
    }
   ],
   "source": [
    "st_names[0] = \"Muhammad Qasim\"\n",
    "print(st_names)\n",
    "print(names)"
   ]
  },
  {
   "cell_type": "code",
   "execution_count": 90,
   "id": "dc636dd5",
   "metadata": {},
   "outputs": [
    {
     "name": "stdout",
     "output_type": "stream",
     "text": [
      "['Muhammad Qasim', 'Asif', 'Hamza', 'Ubaid', 'konain', 'Ibad']\n",
      "['Qasim', 'Asif', 'Hamza', 'Ubaid', 'konain', 'Ibad']\n"
     ]
    }
   ],
   "source": [
    "st_names1 = names.copy() # deep copy\n",
    "st_names1\n",
    "\n",
    "st_names1[0] = \"Qasim\"\n",
    "\n",
    "print(names)\n",
    "print(st_names1)"
   ]
  },
  {
   "cell_type": "code",
   "execution_count": 92,
   "id": "b80f389e",
   "metadata": {},
   "outputs": [
    {
     "name": "stdout",
     "output_type": "stream",
     "text": [
      "['Muhammad Qasim', 'Asif', 'Hamza', 'Ubaid', 'konain', 'Ibad']\n",
      "['Muhammad Qasim', 'Asif', 'Hamza', 'Ubaid', 'konain', 'Ibad']\n",
      "['Qasim1', 'Asif', 'Hamza', 'Ubaid', 'konain', 'Ibad']\n"
     ]
    }
   ],
   "source": [
    "print(names)\n",
    "n = names[:] # deep copy\n",
    "n[0] = 'Qasim1'\n",
    "\n",
    "print(names)\n",
    "print(n)"
   ]
  },
  {
   "cell_type": "code",
   "execution_count": 93,
   "id": "c5b9c463",
   "metadata": {},
   "outputs": [
    {
     "data": {
      "text/plain": [
       "1"
      ]
     },
     "execution_count": 93,
     "metadata": {},
     "output_type": "execute_result"
    }
   ],
   "source": [
    "names.count(\"Asif\")"
   ]
  },
  {
   "cell_type": "code",
   "execution_count": null,
   "id": "3b7b528b",
   "metadata": {},
   "outputs": [],
   "source": [
    "object.method_name()"
   ]
  },
  {
   "cell_type": "code",
   "execution_count": 94,
   "id": "20c98564",
   "metadata": {},
   "outputs": [
    {
     "data": {
      "text/plain": [
       "['Muhammad Qasim', 'Asif', 'Hamza', 'Ubaid', 'konain', 'Ibad']"
      ]
     },
     "execution_count": 94,
     "metadata": {},
     "output_type": "execute_result"
    }
   ],
   "source": [
    "names"
   ]
  },
  {
   "cell_type": "code",
   "execution_count": 95,
   "id": "8ff0f46b",
   "metadata": {},
   "outputs": [],
   "source": [
    "names.append('111')"
   ]
  },
  {
   "cell_type": "code",
   "execution_count": 96,
   "id": "0068f780",
   "metadata": {},
   "outputs": [
    {
     "data": {
      "text/plain": [
       "['Muhammad Qasim', 'Asif', 'Hamza', 'Ubaid', 'konain', 'Ibad', '111']"
      ]
     },
     "execution_count": 96,
     "metadata": {},
     "output_type": "execute_result"
    }
   ],
   "source": [
    "names"
   ]
  },
  {
   "cell_type": "code",
   "execution_count": 97,
   "id": "b49fd6bc",
   "metadata": {},
   "outputs": [
    {
     "name": "stdout",
     "output_type": "stream",
     "text": [
      "['Muhammad Qasim', 'Asif', 'Hamza', 'Ubaid', 'konain', 'Ibad', '111', '222']\n"
     ]
    }
   ],
   "source": [
    "names.append('222')\n",
    "print(names)"
   ]
  },
  {
   "cell_type": "code",
   "execution_count": 98,
   "id": "b8e1730e",
   "metadata": {},
   "outputs": [
    {
     "name": "stdout",
     "output_type": "stream",
     "text": [
      "['Muhammad Qasim', 'Asif', 'Hamza', 'Ubaid', 'konain', 'Ibad', '111', '222', ['333']]\n"
     ]
    }
   ],
   "source": [
    "names.append(['333'])\n",
    "print(names)"
   ]
  },
  {
   "cell_type": "code",
   "execution_count": 99,
   "id": "6bbb2330",
   "metadata": {},
   "outputs": [
    {
     "data": {
      "text/plain": [
       "['a', 'b', 'c']"
      ]
     },
     "execution_count": 99,
     "metadata": {},
     "output_type": "execute_result"
    }
   ],
   "source": [
    "remaining_names = ['a','b','c']\n",
    "remaining_names"
   ]
  },
  {
   "cell_type": "code",
   "execution_count": 100,
   "id": "d3005888",
   "metadata": {},
   "outputs": [
    {
     "data": {
      "text/plain": [
       "['Muhammad Qasim',\n",
       " 'Asif',\n",
       " 'Hamza',\n",
       " 'Ubaid',\n",
       " 'konain',\n",
       " 'Ibad',\n",
       " '111',\n",
       " '222',\n",
       " ['333'],\n",
       " 'a',\n",
       " 'b',\n",
       " 'c']"
      ]
     },
     "execution_count": 100,
     "metadata": {},
     "output_type": "execute_result"
    }
   ],
   "source": [
    "names.extend(remaining_names)\n",
    "names"
   ]
  },
  {
   "cell_type": "code",
   "execution_count": 101,
   "id": "703d8953",
   "metadata": {},
   "outputs": [
    {
     "data": {
      "text/plain": [
       "['Muhammad Qasim',\n",
       " 'Asif',\n",
       " 'Hamza',\n",
       " 'Ubaid',\n",
       " 'konain',\n",
       " 'Ibad',\n",
       " '111',\n",
       " '222',\n",
       " 'a',\n",
       " 'b',\n",
       " 'c']"
      ]
     },
     "execution_count": 101,
     "metadata": {},
     "output_type": "execute_result"
    }
   ],
   "source": [
    "del names[-4]\n",
    "names"
   ]
  },
  {
   "cell_type": "code",
   "execution_count": 104,
   "id": "f304cf91",
   "metadata": {},
   "outputs": [
    {
     "data": {
      "text/plain": [
       "4"
      ]
     },
     "execution_count": 104,
     "metadata": {},
     "output_type": "execute_result"
    }
   ],
   "source": [
    "names.index(\"konain\")"
   ]
  },
  {
   "cell_type": "code",
   "execution_count": 105,
   "id": "e4872889",
   "metadata": {},
   "outputs": [
    {
     "data": {
      "text/plain": [
       "['Eman',\n",
       " 'Muhammad Qasim',\n",
       " 'Asif',\n",
       " 'Hamza',\n",
       " 'Ubaid',\n",
       " 'konain',\n",
       " 'Ibad',\n",
       " '111',\n",
       " '222',\n",
       " 'a',\n",
       " 'b',\n",
       " 'c']"
      ]
     },
     "execution_count": 105,
     "metadata": {},
     "output_type": "execute_result"
    }
   ],
   "source": [
    "names.insert(0,\"Eman\")\n",
    "names"
   ]
  },
  {
   "cell_type": "code",
   "execution_count": 106,
   "id": "d19a519c",
   "metadata": {},
   "outputs": [
    {
     "data": {
      "text/plain": [
       "['Muhammad Qasim',\n",
       " 'Asif',\n",
       " 'Hamza',\n",
       " 'Ubaid',\n",
       " 'konain',\n",
       " 'Ibad',\n",
       " '111',\n",
       " '222',\n",
       " 'a',\n",
       " 'b',\n",
       " 'c']"
      ]
     },
     "execution_count": 106,
     "metadata": {},
     "output_type": "execute_result"
    }
   ],
   "source": [
    "del names[0]\n",
    "names"
   ]
  },
  {
   "cell_type": "code",
   "execution_count": 107,
   "id": "e40ea8bf",
   "metadata": {},
   "outputs": [
    {
     "name": "stdout",
     "output_type": "stream",
     "text": [
      "c\n",
      "['Muhammad Qasim', 'Asif', 'Hamza', 'Ubaid', 'konain', 'Ibad', '111', '222', 'a', 'b']\n"
     ]
    }
   ],
   "source": [
    "c  = names.pop()\n",
    "print(c)\n",
    "print(names)"
   ]
  },
  {
   "cell_type": "code",
   "execution_count": 108,
   "id": "d8e23507",
   "metadata": {},
   "outputs": [],
   "source": [
    "names.remove(\"Ubaid\")"
   ]
  },
  {
   "cell_type": "code",
   "execution_count": 109,
   "id": "df4b7eb4",
   "metadata": {},
   "outputs": [
    {
     "data": {
      "text/plain": [
       "['Muhammad Qasim', 'Asif', 'Hamza', 'konain', 'Ibad', '111', '222', 'a', 'b']"
      ]
     },
     "execution_count": 109,
     "metadata": {},
     "output_type": "execute_result"
    }
   ],
   "source": [
    "names"
   ]
  },
  {
   "cell_type": "code",
   "execution_count": 110,
   "id": "767e91d4",
   "metadata": {},
   "outputs": [],
   "source": [
    "names.reverse()"
   ]
  },
  {
   "cell_type": "code",
   "execution_count": 111,
   "id": "783f2f07",
   "metadata": {},
   "outputs": [
    {
     "data": {
      "text/plain": [
       "['b', 'a', '222', '111', 'Ibad', 'konain', 'Hamza', 'Asif', 'Muhammad Qasim']"
      ]
     },
     "execution_count": 111,
     "metadata": {},
     "output_type": "execute_result"
    }
   ],
   "source": [
    "names"
   ]
  },
  {
   "cell_type": "code",
   "execution_count": null,
   "id": "73428551",
   "metadata": {},
   "outputs": [],
   "source": []
  }
 ],
 "metadata": {
  "kernelspec": {
   "display_name": "Python 3 (ipykernel)",
   "language": "python",
   "name": "python3"
  },
  "language_info": {
   "codemirror_mode": {
    "name": "ipython",
    "version": 3
   },
   "file_extension": ".py",
   "mimetype": "text/x-python",
   "name": "python",
   "nbconvert_exporter": "python",
   "pygments_lexer": "ipython3",
   "version": "3.11.3"
  }
 },
 "nbformat": 4,
 "nbformat_minor": 5
}

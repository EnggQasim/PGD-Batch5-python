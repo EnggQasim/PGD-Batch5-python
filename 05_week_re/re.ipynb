{
 "cells": [
  {
   "cell_type": "markdown",
   "id": "f7c389be",
   "metadata": {},
   "source": [
    "```We love our country! Pakistaz Zinda bad!```<br>\n",
    "   ff ffffffffffffffffffttttttttff\n",
    "                        Pakistan   \n",
    "**Pakistan**\n",
    "\n",
    "## we have some special character for special purpose\n",
    "```\n",
    ". any thing except \\n\n",
    "* zero or many\n",
    "+ one or may\n",
    "^ start\n",
    "```"
   ]
  },
  {
   "cell_type": "code",
   "execution_count": 1,
   "id": "f26f339d",
   "metadata": {},
   "outputs": [],
   "source": [
    "import re"
   ]
  },
  {
   "cell_type": "code",
   "execution_count": 22,
   "id": "5c203074",
   "metadata": {},
   "outputs": [
    {
     "name": "stdout",
     "output_type": "stream",
     "text": [
      "['A', 'ASCII', 'DEBUG', 'DOTALL', 'I', 'IGNORECASE', 'L', 'LOCALE', 'M', 'MULTILINE', 'Match', 'NOFLAG', 'Pattern', 'RegexFlag', 'S', 'Scanner', 'T', 'TEMPLATE', 'U', 'UNICODE', 'VERBOSE', 'X', '_MAXCACHE', '__all__', '__builtins__', '__cached__', '__doc__', '__file__', '__loader__', '__name__', '__package__', '__path__', '__spec__', '__version__', '__warningregistry__', '_cache', '_casefix', '_compile', '_compile_repl', '_compiler', '_constants', '_expand', '_parser', '_pickle', '_special_chars_map', '_subx', 'compile', 'copyreg', 'enum', 'error', 'escape', 'findall', 'finditer', 'fullmatch', 'functools', 'match', 'purge', 'search', 'split', 'sub', 'subn', 'template']\n"
     ]
    }
   ],
   "source": [
    "print(dir(re))"
   ]
  },
  {
   "cell_type": "code",
   "execution_count": 4,
   "id": "790652c9",
   "metadata": {},
   "outputs": [
    {
     "data": {
      "text/plain": [
       "['A',\n",
       " 'ASCII',\n",
       " 'DEBUG',\n",
       " 'DOTALL',\n",
       " 'I',\n",
       " 'IGNORECASE',\n",
       " 'L',\n",
       " 'LOCALE',\n",
       " 'M',\n",
       " 'MULTILINE',\n",
       " 'Match',\n",
       " 'NOFLAG',\n",
       " 'Pattern',\n",
       " 'RegexFlag',\n",
       " 'S',\n",
       " 'Scanner',\n",
       " 'T',\n",
       " 'TEMPLATE',\n",
       " 'U',\n",
       " 'UNICODE',\n",
       " 'VERBOSE',\n",
       " 'X',\n",
       " 'compile',\n",
       " 'copyreg',\n",
       " 'enum',\n",
       " 'error',\n",
       " 'escape',\n",
       " 'findall',\n",
       " 'finditer',\n",
       " 'fullmatch',\n",
       " 'functools',\n",
       " 'match',\n",
       " 'purge',\n",
       " 'search',\n",
       " 'split',\n",
       " 'sub',\n",
       " 'subn',\n",
       " 'template']"
      ]
     },
     "execution_count": 4,
     "metadata": {},
     "output_type": "execute_result"
    }
   ],
   "source": [
    "# methods and attributes\n",
    "[i for i in dir(re) if \"_\" not in i]"
   ]
  },
  {
   "cell_type": "markdown",
   "id": "7100115e",
   "metadata": {},
   "source": [
    "word boundary concept\n",
    "* \\b \\b"
   ]
  },
  {
   "cell_type": "markdown",
   "id": "19683457",
   "metadata": {},
   "source": [
    "if you want to apply boundayr concept you have to use \"r\" befor pattern"
   ]
  },
  {
   "cell_type": "code",
   "execution_count": 114,
   "id": "0d4a0120",
   "metadata": {},
   "outputs": [
    {
     "data": {
      "text/plain": [
       "['pakistan', 'pakanandan']"
      ]
     },
     "execution_count": 114,
     "metadata": {},
     "output_type": "execute_result"
    }
   ],
   "source": [
    "text = \"\"\"\n",
    "pakistan zinda bad\n",
    "pakab adkajdskfj asdjl\n",
    "paik hellow\n",
    "pakanandan kajsdf alsdjfa\n",
    "pak aksdjfkasd fas\n",
    "\"\"\"\n",
    "\n",
    "pattern = r\"\\bp.+n\\b\"\n",
    "\n",
    "l = re.findall(pattern, text, re.M) \n",
    "l"
   ]
  },
  {
   "cell_type": "code",
   "execution_count": null,
   "id": "4574e7a4",
   "metadata": {},
   "outputs": [],
   "source": [
    "p\n"
   ]
  },
  {
   "cell_type": "code",
   "execution_count": 103,
   "id": "83cd9e2a",
   "metadata": {},
   "outputs": [
    {
     "data": {
      "text/plain": [
       "['pak', 'pakab adkajdsk', 'pik']"
      ]
     },
     "execution_count": 103,
     "metadata": {},
     "output_type": "execute_result"
    }
   ],
   "source": [
    "text = \"\"\"\n",
    "pakistan zinda bad\n",
    "pakab adkajdskfj asdjl\n",
    "pik hellow\n",
    "\"\"\"\n",
    "\n",
    "pattern = \"p.+k\"\n",
    "\n",
    "l = re.findall(pattern, text, re.M) \n",
    "l"
   ]
  },
  {
   "cell_type": "code",
   "execution_count": 11,
   "id": "834200f0",
   "metadata": {},
   "outputs": [
    {
     "data": {
      "text/plain": [
       "['r', 'r']"
      ]
     },
     "execution_count": 11,
     "metadata": {},
     "output_type": "execute_result"
    }
   ],
   "source": [
    "text = \"We love our country! Pakistan Zinda bad!\"\n",
    "pattern = \"r\" # character sequances\n",
    "\n",
    "re.findall(pattern,text)"
   ]
  },
  {
   "cell_type": "code",
   "execution_count": 13,
   "id": "c35a1e71",
   "metadata": {},
   "outputs": [
    {
     "data": {
      "text/plain": [
       "['Pakistan']"
      ]
     },
     "execution_count": 13,
     "metadata": {},
     "output_type": "execute_result"
    }
   ],
   "source": [
    "text = \"\"\"We love our country! Pakistan Zinda bad! \n",
    "pakistan one of the best contry in the world!\"\"\"\n",
    "\n",
    "\n",
    "\n",
    "pattern = \"Pakistan\" # character sequances\n",
    "\n",
    "re.findall(pattern,text)"
   ]
  },
  {
   "cell_type": "code",
   "execution_count": 23,
   "id": "8547d7fa",
   "metadata": {},
   "outputs": [
    {
     "data": {
      "text/plain": [
       "'We love our country! Pakistan Zinda bad! \\npakistan one of the best contry in the world!'"
      ]
     },
     "metadata": {},
     "output_type": "display_data"
    },
    {
     "data": {
      "text/plain": [
       "['Pakistan', 'pakistan']"
      ]
     },
     "execution_count": 23,
     "metadata": {},
     "output_type": "execute_result"
    }
   ],
   "source": [
    "text = \"\"\"We love our country! Pakistan Zinda bad! \n",
    "pakistan one of the best contry in the world!\"\"\"\n",
    "\n",
    "\n",
    "display(text)\n",
    "\n",
    "\n",
    "pattern = \"Pakistan\" # character sequances\n",
    "\n",
    "re.findall(pattern, text, re.IGNORECASE)"
   ]
  },
  {
   "cell_type": "markdown",
   "id": "0a09ab07",
   "metadata": {},
   "source": [
    "# . anything except \\n\n",
    "# + one or many\n",
    "# * zero or many\n",
    "# ^ start line with\n",
    "# $ ending ling"
   ]
  },
  {
   "cell_type": "code",
   "execution_count": 34,
   "id": "c8a69de7",
   "metadata": {},
   "outputs": [
    {
     "data": {
      "text/plain": [
       "'We love our country! Pakistan Zinda bad! \\npakistan one of the best contry in the world!'"
      ]
     },
     "metadata": {},
     "output_type": "display_data"
    },
    {
     "data": {
      "text/plain": [
       "['W',\n",
       " 'e',\n",
       " ' ',\n",
       " 'l',\n",
       " 'o',\n",
       " 'v',\n",
       " 'e',\n",
       " ' ',\n",
       " 'o',\n",
       " 'u',\n",
       " 'r',\n",
       " ' ',\n",
       " 'c',\n",
       " 'o',\n",
       " 'u',\n",
       " 'n',\n",
       " 't',\n",
       " 'r',\n",
       " 'y',\n",
       " '!',\n",
       " ' ',\n",
       " 'P',\n",
       " 'a',\n",
       " 'k',\n",
       " 'i',\n",
       " 's',\n",
       " 't',\n",
       " 'a',\n",
       " 'n',\n",
       " ' ',\n",
       " 'Z',\n",
       " 'i',\n",
       " 'n',\n",
       " 'd',\n",
       " 'a',\n",
       " ' ',\n",
       " 'b',\n",
       " 'a',\n",
       " 'd',\n",
       " '!',\n",
       " ' ',\n",
       " 'p',\n",
       " 'a',\n",
       " 'k',\n",
       " 'i',\n",
       " 's',\n",
       " 't',\n",
       " 'a',\n",
       " 'n',\n",
       " ' ',\n",
       " 'o',\n",
       " 'n',\n",
       " 'e',\n",
       " ' ',\n",
       " 'o',\n",
       " 'f',\n",
       " ' ',\n",
       " 't',\n",
       " 'h',\n",
       " 'e',\n",
       " ' ',\n",
       " 'b',\n",
       " 'e',\n",
       " 's',\n",
       " 't',\n",
       " ' ',\n",
       " 'c',\n",
       " 'o',\n",
       " 'n',\n",
       " 't',\n",
       " 'r',\n",
       " 'y',\n",
       " ' ',\n",
       " 'i',\n",
       " 'n',\n",
       " ' ',\n",
       " 't',\n",
       " 'h',\n",
       " 'e',\n",
       " ' ',\n",
       " 'w',\n",
       " 'o',\n",
       " 'r',\n",
       " 'l',\n",
       " 'd',\n",
       " '!']"
      ]
     },
     "execution_count": 34,
     "metadata": {},
     "output_type": "execute_result"
    }
   ],
   "source": [
    "text = \"\"\"We love our country! Pakistan Zinda bad! \n",
    "pakistan one of the best contry in the world!\"\"\"\n",
    "\n",
    "\n",
    "display(text)\n",
    "\n",
    "\n",
    "pattern = \".\" # character sequances\n",
    "\n",
    "re.findall(pattern, text, re.IGNORECASE)"
   ]
  },
  {
   "cell_type": "code",
   "execution_count": 32,
   "id": "856ee78d",
   "metadata": {},
   "outputs": [
    {
     "data": {
      "text/plain": [
       "'We love our country! Pakistan Zinda bad! \\npakistan one of the best contry in the world!'"
      ]
     },
     "metadata": {},
     "output_type": "display_data"
    },
    {
     "data": {
      "text/plain": [
       "['We lo',\n",
       " 've ou',\n",
       " 'r cou',\n",
       " 'ntry!',\n",
       " ' Paki',\n",
       " 'stan ',\n",
       " 'Zinda',\n",
       " ' bad!',\n",
       " 'pakis',\n",
       " 'tan o',\n",
       " 'ne of',\n",
       " ' the ',\n",
       " 'best ',\n",
       " 'contr',\n",
       " 'y in ',\n",
       " 'the w',\n",
       " 'orld!']"
      ]
     },
     "execution_count": 32,
     "metadata": {},
     "output_type": "execute_result"
    }
   ],
   "source": [
    "text = \"\"\"We love our country! Pakistan Zinda bad! \n",
    "pakistan one of the best contry in the world!\"\"\"\n",
    "\n",
    "\n",
    "display(text)\n",
    "\n",
    "\n",
    "pattern = \".....\" # character sequances\n",
    "\n",
    "re.findall(pattern, text, re.IGNORECASE)"
   ]
  },
  {
   "cell_type": "code",
   "execution_count": 35,
   "id": "c68e14d3",
   "metadata": {},
   "outputs": [
    {
     "data": {
      "text/plain": [
       "'We love our country! Pakistan Zinda bad! \\npakistan one of the best contry in the world!\\nHello Wolrd'"
      ]
     },
     "metadata": {},
     "output_type": "display_data"
    },
    {
     "data": {
      "text/plain": [
       "['We love our country! Pakistan Zinda bad! ',\n",
       " 'pakistan one of the best contry in the world!',\n",
       " 'Hello Wolrd']"
      ]
     },
     "execution_count": 35,
     "metadata": {},
     "output_type": "execute_result"
    }
   ],
   "source": [
    "text = \"\"\"We love our country! Pakistan Zinda bad! \n",
    "pakistan one of the best contry in the world!\n",
    "Hello Wolrd\"\"\"\n",
    "\n",
    "\n",
    "display(text)\n",
    "\n",
    "# + mean pick the pattern which written before \"+\"\n",
    "pattern = \".+\" # character sequances\n",
    "\n",
    "re.findall(pattern, text, re.IGNORECASE)"
   ]
  },
  {
   "cell_type": "code",
   "execution_count": 36,
   "id": "d1e1104d",
   "metadata": {},
   "outputs": [
    {
     "data": {
      "text/plain": [
       "'We love our country! Pakistan Zinda bad! \\npakistan one of the best contry in the world!\\nHello Wolrd'"
      ]
     },
     "metadata": {},
     "output_type": "display_data"
    },
    {
     "data": {
      "text/plain": [
       "['country! Pakistan Zinda bad! ', 'contry in the world!']"
      ]
     },
     "execution_count": 36,
     "metadata": {},
     "output_type": "execute_result"
    }
   ],
   "source": [
    "text = \"\"\"We love our country! Pakistan Zinda bad! \n",
    "pakistan one of the best contry in the world!\n",
    "Hello Wolrd\"\"\"\n",
    "\n",
    "\n",
    "display(text)\n",
    "\n",
    "# + mean pick the pattern which written before \"+\"\n",
    "pattern = \"c.+\" # character sequances\n",
    "\n",
    "re.findall(pattern, text, re.IGNORECASE)"
   ]
  },
  {
   "cell_type": "code",
   "execution_count": null,
   "id": "d71f2b16",
   "metadata": {},
   "outputs": [],
   "source": [
    "text = \"\"\"We love our country! Pakistan Zinda bad! \n",
    "pakistan one of the best contry in the world!\n",
    "Hello Wolrd\"\"\"\n",
    "\n",
    "\n",
    "display(text)\n",
    "\n",
    "# + mean pick the pattern which written before \"+\"\n",
    "pattern = \"c.+\" # character sequances\n",
    "\n",
    "re.findall(pattern, text, re.IGNORECASE)"
   ]
  },
  {
   "cell_type": "code",
   "execution_count": 49,
   "id": "eb6bd578",
   "metadata": {},
   "outputs": [
    {
     "data": {
      "text/plain": [
       "\"We love our country Pakistan Zinda bad!\\npakistan one of the best contry in the world!\\nHello Wolrd\\nI'm living in pakistan\\n\\n\\nLorem ipsum dolor sit amet, consectetur adipiscing elit.!\\nNullam quis ligula sit amet leo rutrum consectetur ac vitae sapien\\nSuspendisse ac tellus dictum, bibendum massa eget, dapibus mauris.\\nSed in dui vel odio pharetra elementum sit amet vitae lorem.\\nPraesent pellentesque mi nec lorem sollicitudin gravida.!\\n\""
      ]
     },
     "metadata": {},
     "output_type": "display_data"
    },
    {
     "data": {
      "text/plain": [
       "['We love our country Pakistan Zinda bad!',\n",
       " 'pakistan one of the best contry in the world!',\n",
       " 'Lorem ipsum dolor sit amet, consectetur adipiscing elit.!',\n",
       " 'Praesent pellentesque mi nec lorem sollicitudin gravida.!']"
      ]
     },
     "execution_count": 49,
     "metadata": {},
     "output_type": "execute_result"
    }
   ],
   "source": [
    "text = \"\"\"We love our country Pakistan Zinda bad!\n",
    "pakistan one of the best contry in the world!\n",
    "Hello Wolrd\n",
    "I'm living in pakistan\n",
    "\n",
    "\n",
    "Lorem ipsum dolor sit amet, consectetur adipiscing elit.!\n",
    "Nullam quis ligula sit amet leo rutrum consectetur ac vitae sapien\n",
    "Suspendisse ac tellus dictum, bibendum massa eget, dapibus mauris.\n",
    "Sed in dui vel odio pharetra elementum sit amet vitae lorem.\n",
    "Praesent pellentesque mi nec lorem sollicitudin gravida.!\n",
    "\"\"\"\n",
    "\n",
    "\n",
    "display(text)\n",
    "\n",
    "# + mean pick the pattern which written before \"+\"\n",
    "pattern = \".+n$\" # character sequances\n",
    "pattern = \".+!$\" # character sequances\n",
    "\n",
    "\n",
    "re.findall(pattern, text, re.MULTILINE)"
   ]
  },
  {
   "cell_type": "markdown",
   "id": "0e28d163",
   "metadata": {},
   "source": [
    "# convert any special meaning character into normal character place \"\\\\\" before special charachter\n",
    "**\\**\n"
   ]
  },
  {
   "cell_type": "code",
   "execution_count": 51,
   "id": "3e0dadfe",
   "metadata": {},
   "outputs": [
    {
     "data": {
      "text/plain": [
       "\"We love our country Pakistan Zinda bad!\\npakistan one of the best contry in the world!\\nHello Wolrd\\nI'm living in pakistan\\n\\n\\nLorem ipsum dolor sit amet, consectetur adipiscing elit.!\\nNullam quis ligula sit amet leo rutrum consectetur ac vitae sapien\\nSuspendisse ac tellus dictum, bibendum massa eget, dapibus mauris.\\nSed in dui vel odio pharetra elementum sit amet vitae lorem.\\nPraesent pellentesque mi nec lorem sollicitudin gravida.!\\n\""
      ]
     },
     "metadata": {},
     "output_type": "display_data"
    },
    {
     "data": {
      "text/plain": [
       "['Suspendisse ac tellus dictum, bibendum massa eget, dapibus mauris.',\n",
       " 'Sed in dui vel odio pharetra elementum sit amet vitae lorem.']"
      ]
     },
     "execution_count": 51,
     "metadata": {},
     "output_type": "execute_result"
    }
   ],
   "source": [
    "text = \"\"\"We love our country Pakistan Zinda bad!\n",
    "pakistan one of the best contry in the world!\n",
    "Hello Wolrd\n",
    "I'm living in pakistan\n",
    "\n",
    "\n",
    "Lorem ipsum dolor sit amet, consectetur adipiscing elit.!\n",
    "Nullam quis ligula sit amet leo rutrum consectetur ac vitae sapien\n",
    "Suspendisse ac tellus dictum, bibendum massa eget, dapibus mauris.\n",
    "Sed in dui vel odio pharetra elementum sit amet vitae lorem.\n",
    "Praesent pellentesque mi nec lorem sollicitudin gravida.!\n",
    "\"\"\"\n",
    "display(text)\n",
    "\n",
    "pattern = \".+\\.$\" # character sequances\n",
    "\n",
    "\n",
    "re.findall(pattern, text, re.MULTILINE)"
   ]
  },
  {
   "cell_type": "code",
   "execution_count": 67,
   "id": "2090214b",
   "metadata": {},
   "outputs": [
    {
     "data": {
      "text/plain": [
       "'we love our country! Pakistan zinda bad!\\npakistan one of the best contry in the world!\\nHello world\\ni am living in pakistan!'"
      ]
     },
     "metadata": {},
     "output_type": "display_data"
    },
    {
     "data": {
      "text/plain": [
       "['we love our country! Pakistan zinda bad!',\n",
       " 'pakistan one of the best contry in the world!',\n",
       " 'i am living in pakistan!']"
      ]
     },
     "execution_count": 67,
     "metadata": {},
     "output_type": "execute_result"
    }
   ],
   "source": [
    "text = \"\"\"we love our country! Pakistan zinda bad!\n",
    "pakistan one of the best contry in the world!\n",
    "Hello world\n",
    "i am living in pakistan!\"\"\"\n",
    "\n",
    "display (text) \n",
    "pattern = \".*!$\"  # character sequances\n",
    "\n",
    "re.findall(pattern,text,re.M)"
   ]
  },
  {
   "cell_type": "markdown",
   "id": "b5ad4d74",
   "metadata": {},
   "source": [
    "# start and end\n",
    "* star = ^\n",
    "* end = $"
   ]
  },
  {
   "cell_type": "code",
   "execution_count": 68,
   "id": "39e9a6dd",
   "metadata": {},
   "outputs": [
    {
     "data": {
      "text/plain": [
       "\"We love our country Pakistan Zinda bad!\\npakistan one of the best contry in the world!\\nHello Wolrd\\nI'm living in pakistan\\n\\n\\nLorem ipsum dolor sit amet, consectetur adipiscing elit.!\\nNullam quis ligula sit amet leo rutrum consectetur ac vitae sapien\\nSuspendisse ac tellus dictum, bibendum massa eget, dapibus mauris.\\nSed in dui vel odio pharetra elementum sit amet vitae lorem.\\nPraesent pellentesque mi nec lorem sollicitudin gravida.!\\n\""
      ]
     },
     "metadata": {},
     "output_type": "display_data"
    },
    {
     "data": {
      "text/plain": [
       "['Praesent pellentesque mi nec lorem sollicitudin gravida.!']"
      ]
     },
     "execution_count": 68,
     "metadata": {},
     "output_type": "execute_result"
    }
   ],
   "source": [
    "text = \"\"\"We love our country Pakistan Zinda bad!\n",
    "pakistan one of the best contry in the world!\n",
    "Hello Wolrd\n",
    "I'm living in pakistan\n",
    "\n",
    "\n",
    "Lorem ipsum dolor sit amet, consectetur adipiscing elit.!\n",
    "Nullam quis ligula sit amet leo rutrum consectetur ac vitae sapien\n",
    "Suspendisse ac tellus dictum, bibendum massa eget, dapibus mauris.\n",
    "Sed in dui vel odio pharetra elementum sit amet vitae lorem.\n",
    "Praesent pellentesque mi nec lorem sollicitudin gravida.!\n",
    "\"\"\"\n",
    "display(text)\n",
    "\n",
    "pattern = \"^P.+!$\" # character sequances\n",
    "\n",
    "\n",
    "re.findall(pattern, text, re.MULTILINE)"
   ]
  },
  {
   "cell_type": "code",
   "execution_count": 85,
   "id": "d6dd0748",
   "metadata": {},
   "outputs": [
    {
     "data": {
      "text/plain": [
       "['Pakistan one of the best contry in the world!',\n",
       " 'Praesent pellentesque mi nec lorem sollicitudin gravida.!']"
      ]
     },
     "execution_count": 85,
     "metadata": {},
     "output_type": "execute_result"
    }
   ],
   "source": [
    "text = \"\"\"We love our country Pakistan Zinda bad!\n",
    "pakistan one of the best contry in the world!\n",
    "Hello Wolrd\n",
    "I'm living in pakistan\n",
    "\n",
    "\n",
    "Lorem ipsum dolor sit amet, consectetur adipiscing elit.!\n",
    "Nullam quis ligula sit amet leo rutrum consectetur ac vitae sapien\n",
    "Suspendisse ac tellus dictum, bibendum massa eget, dapibus mauris.\n",
    "Sed in dui vel odio pharetra elementum sit amet vitae lorem.\n",
    "Praesent pellentesque mi nec lorem sollicitudin gravida.!\n",
    "\"\"\"\n",
    "\n",
    "text = text.lower() # lower \n",
    "\n",
    "# display(text)\n",
    "\n",
    "pattern = \"^p.+!$\" # character sequances\n",
    "\n",
    "\n",
    "l = re.findall(pattern, text, re.MULTILINE)\n",
    "l = [i.capitalize() for i in l]\n",
    "l"
   ]
  },
  {
   "cell_type": "code",
   "execution_count": 88,
   "id": "eed67e3d",
   "metadata": {},
   "outputs": [
    {
     "data": {
      "text/plain": [
       "['ak', 'a', 'a', 'a', 'pak', 'a', 'pak', 'a']"
      ]
     },
     "execution_count": 88,
     "metadata": {},
     "output_type": "execute_result"
    }
   ],
   "source": [
    "text = \"\"\"We love our country Pakistan Zinda bad!\n",
    "pakistan one of the best contry in the world!\n",
    "Hello Wolrd\n",
    "I'm living in pakistan\n",
    "\"\"\"\n",
    "\n",
    "pattern = \"[pak]+\"\n",
    "\n",
    "l = re.findall(pattern, text)\n",
    "l"
   ]
  },
  {
   "cell_type": "code",
   "execution_count": 95,
   "id": "a8c32857",
   "metadata": {},
   "outputs": [
    {
     "data": {
      "text/plain": [
       "['We love our country Pakistan Zinda bad!',\n",
       " 'Hello Wolrd',\n",
       " \"I'm living in pakistan\"]"
      ]
     },
     "execution_count": 95,
     "metadata": {},
     "output_type": "execute_result"
    }
   ],
   "source": [
    "text = \"\"\"We love our country Pakistan Zinda bad!\n",
    "pakistan one of the best contry in the world!\n",
    "Hello Wolrd\n",
    "I'm living in pakistan\n",
    "\"\"\"\n",
    "\n",
    "pattern = \"^[hwHWI].*\"\n",
    "\n",
    "l = re.findall(pattern, text, re.M)\n",
    "l"
   ]
  },
  {
   "cell_type": "code",
   "execution_count": 94,
   "id": "3b356874",
   "metadata": {},
   "outputs": [
    {
     "data": {
      "text/plain": [
       "['We love our country Pakistan Zinda bad!', 'Hello Wolrd']"
      ]
     },
     "execution_count": 94,
     "metadata": {},
     "output_type": "execute_result"
    }
   ],
   "source": [
    "text = \"\"\"We love our country Pakistan Zinda bad!\n",
    "pakistan one of the best contry in the world!\n",
    "Hello Wolrd\n",
    "I'm living in pakistan\n",
    "\"\"\"\n",
    "\n",
    "pattern = \"^We love.*\"\n",
    "\n",
    "l = re.findall(pattern, text, re.M) + re.findall(\"^He.*\", text, re.M)\n",
    "l"
   ]
  },
  {
   "cell_type": "markdown",
   "id": "80f8a69e",
   "metadata": {},
   "source": [
    "# Range group of charachers"
   ]
  },
  {
   "cell_type": "code",
   "execution_count": 121,
   "id": "4addd3f5",
   "metadata": {},
   "outputs": [
    {
     "name": "stdout",
     "output_type": "stream",
     "text": [
      "['We', 'love', 'our', 'country', 'Pakistan', 'Zinda', 'bad', 'pakistan', 'one', 'of', 'the', 'best', 'contry', 'in', 'the', 'world', 'Hello', 'Wolrd', 'I', 'm', 'living', 'in', 'pakistan', 'Rs', 'aljdkjfajdfj', 'asdlkj', '0']\n"
     ]
    }
   ],
   "source": [
    "text = \"\"\"We love our country Pakistan Zinda bad!\n",
    "pakistan one of. & the best contry in the world!\n",
    "Hello Wolrd \n",
    "I'm living in pakistan\n",
    "Rs. 277\n",
    " aljdkjfajdfj asdlkj 702\n",
    "\"\"\"\n",
    "\n",
    "# pattern = r\"[0123456789]+\"\n",
    "# pattern = r\"[0-9]+\"\n",
    "# pattern = r\"[A-za-z]+\"\n",
    "# pattern = r\"[A-z]+\"\n",
    "pattern = r\"[A-z0-1]+\"\n",
    "\n",
    "l = re.findall(pattern, text)\n",
    "print(l)"
   ]
  },
  {
   "cell_type": "code",
   "execution_count": 125,
   "id": "eae16f35",
   "metadata": {},
   "outputs": [
    {
     "name": "stdout",
     "output_type": "stream",
     "text": [
      "['.', '7.2', '222.27', '222,772', '.', '277', '702']\n"
     ]
    }
   ],
   "source": [
    "text = \"\"\"We love our country Pakistan Zinda bad!\n",
    "pakistan one of. & the best contry in the world!\n",
    "Hello Wolrd 7.2 \n",
    "222.27\n",
    "222,772\n",
    "I'm living in pakistan\n",
    "Rs. 277\n",
    " aljdkjfajdfj asdlkj 702\n",
    "\"\"\"\n",
    "\n",
    "pattern = r\"[0-9.,]+\"\n",
    "\n",
    "l = re.findall(pattern, text)\n",
    "print(l)"
   ]
  },
  {
   "cell_type": "markdown",
   "id": "ec6a914d",
   "metadata": {},
   "source": [
    "# ? optional"
   ]
  },
  {
   "cell_type": "markdown",
   "id": "5b6bd5f3",
   "metadata": {},
   "source": [
    "* [0-9] = \\d\n",
    "* [A-z] = \\w"
   ]
  },
  {
   "cell_type": "code",
   "execution_count": 155,
   "id": "62f811ad",
   "metadata": {},
   "outputs": [
    {
     "data": {
      "text/plain": [
       "['01*12*2023', '01/12/2023', '01/12/2023', '24-12-2023', '28-12-2023']"
      ]
     },
     "execution_count": 155,
     "metadata": {},
     "output_type": "execute_result"
    }
   ],
   "source": [
    "text = \"\"\"\n",
    "purchase data 01*12*2023\n",
    "purchase data 01/12/2023\n",
    "purchase data 01/12/2023\n",
    "purchase data 01\\12\\2023\n",
    "puchase date 24-12-2023\n",
    "puchase date 28-12-2023\n",
    "\"\"\"\n",
    "\n",
    "pattern = r\"\\d{1,2}[*-/\\\\]\\d{1,2}[*-/\\\\]\\d{2,4}\"\n",
    "\n",
    "l = re.findall(pattern, text)\n",
    "l"
   ]
  },
  {
   "cell_type": "code",
   "execution_count": 156,
   "id": "e5eddbc5",
   "metadata": {},
   "outputs": [
    {
     "name": "stdout",
     "output_type": "stream",
     "text": [
      "['01/12/2023', '01/12/2023', '24-12-2023']\n"
     ]
    }
   ],
   "source": [
    "import re\n",
    "\n",
    "text = \"\"\"\n",
    "purchase data 01*12*2023\n",
    "purchase data 01/12/2023\n",
    "purchase data 01/12/2023\n",
    "purchase data 01\\12\\2023\n",
    "puchase date 24-12-2023\n",
    "\"\"\"\n",
    "\n",
    "# Define a regular expression pattern to match dates\n",
    "date_pattern = r'\\d{2}[/\\\\-]\\d{2}[/\\\\-]\\d{4}'\n",
    "\n",
    "# Find all matches of the pattern in the text\n",
    "dates = re.findall(date_pattern, text)\n",
    "\n",
    "# Print the extracted dates\n",
    "print(dates)\n"
   ]
  },
  {
   "cell_type": "code",
   "execution_count": 39,
   "id": "5a18462f",
   "metadata": {},
   "outputs": [
    {
     "data": {
      "text/plain": [
       "[('033', '01')]"
      ]
     },
     "execution_count": 39,
     "metadata": {},
     "output_type": "execute_result"
    }
   ],
   "source": [
    "x = \"abcsub-033_ses-01_mod-mri\"\n",
    "\n",
    "re.findall(r\"^.+sub-(033)_ses-(01)_mod-mri\",x)"
   ]
  },
  {
   "cell_type": "code",
   "execution_count": 1,
   "id": "5169caf1",
   "metadata": {},
   "outputs": [
    {
     "name": "stdout",
     "output_type": "stream",
     "text": [
      "[('sub-033', 'ses-01', 'mod-mri'), ('sub-044', 'ses-01', 'mod-mri'), ('sub-055', 'ses-02', 'mod-ctscan')]\n"
     ]
    }
   ],
   "source": [
    "import re\n",
    "\n",
    "\n",
    "regex = re.compile(\"^.+(sub-.+)_(ses-.+)_(mod-.+)\")\n",
    "strings = [\"abcsub-033_ses-01_mod-mri\", \"defsub-044_ses-01_mod-mri\", \"ghisub-055_ses-02_mod-ctscan\"]\n",
    "print([regex.findall(s)[0] for s in strings])"
   ]
  },
  {
   "cell_type": "code",
   "execution_count": 28,
   "id": "13c0f902",
   "metadata": {},
   "outputs": [
    {
     "data": {
      "text/plain": [
       "[('12:05:40', 'Ali Asar', 'PIAIC-187258'),\n",
       " ('12:05:41', 'Hasnain Munir', 'PIAIC-187272'),\n",
       " ('12:05:44', 'Shaheer Baig', 'PIAIC-169519'),\n",
       " ('12:05:45', 'Humera Naz', 'PIAIC-173431'),\n",
       " ('12:05:47', 'Sadia Anwar', 'PIAIC-180028'),\n",
       " ('12:05:47', 'Muhammad Mehroz', 'PIAIC-131496'),\n",
       " ('12:05:47', 'Home', 'PIAIC-172998'),\n",
       " ('12:05:47', 'Muhammad Sadullah = PIAIC-178950', 'PIAIC-178950'),\n",
       " ('12:05:48', 'Muhammad Uzair-177637', 'PIAIC-177637'),\n",
       " ('12:05:48', 'Taqwa Khaliq', 'PIAIC-173701'),\n",
       " ('12:05:49', 'Faisal Bashir-177802', 'PIAIC-177802'),\n",
       " ('12:05:50', 'Talha Munir Rana', 'PIAIC-173761'),\n",
       " ('12:05:52', 'Abdul Qadar', 'PIAIC-172941'),\n",
       " ('12:05:57', 'Dr. Bhagwan Das', 'PIAIC-96879'),\n",
       " ('12:05:57', 'Uzair Ullah (PIAIC169405)', 'PIAIC-169405'),\n",
       " ('12:06:00', 'Arshad', 'PIAIC168092'),\n",
       " ('12:06:01', 'PIAIC188523 Subhan Ahmed', 'PIAIC188523'),\n",
       " ('12:06:04', 'Taqwa Khaliq', 'PIAIC 173701'),\n",
       " ('12:06:10', 'Ali Asar', 'PIAIC-188720'),\n",
       " ('12:06:28', 'Gulshan Ali', 'PIAIC-176719'),\n",
       " ('12:06:29', 'M Ali Asif Khan - PIAIC-57947', 'PIAIC-57947'),\n",
       " ('12:06:33', 'Usman Noor PIAIC-188401', 'PIAIC-188401'),\n",
       " ('12:06:49', 'Sohaib Baseer Ahmad', 'PIAIC67260'),\n",
       " ('12:40:20', 'Ali Asar', 'PIAIC-187258')]"
      ]
     },
     "execution_count": 28,
     "metadata": {},
     "output_type": "execute_result"
    }
   ],
   "source": [
    "data = \"\"\"\n",
    "12:05:40 From Ali Asar To Everyone : PIAIC-187258\n",
    "12:05:41 From Hasnain Munir To Everyone : PIAIC-187272\n",
    "12:05:44 From Shaheer Baig To Everyone : PIAIC-169519\n",
    "12:05:45 From Humera Naz To Everyone : PIAIC-173431\n",
    "12:05:47 From Sadia Anwar To Everyone : PIAIC-180028\n",
    "12:05:47 From Muhammad Mehroz To Everyone : PIAIC-131496\n",
    "12:05:47 From Home To Everyone : PIAIC-172998\n",
    "12:05:47 From Muhammad Sadullah = PIAIC-178950 To Everyone : PIAIC-178950\n",
    "12:05:48 From Muhammad Uzair-177637 To Everyone : PIAIC-177637\n",
    "12:05:48 From Taqwa Khaliq To Everyone : PIAIC-173701 TAQWA KHALIQ\n",
    "12:05:48 From asghar ibraheem CNC-012105 To Everyone : CNC-012105\n",
    "12:05:49 From Faisal Bashir-177802 To Everyone : PIAIC-177802\n",
    "12:05:50 From Talha Munir Rana To Everyone : PIAIC-173761\n",
    "12:05:52 From Abdul Qadar To Everyone : PIAIC-172941\n",
    "12:05:57 From Dr. Bhagwan Das To Everyone : PIAIC-96879\n",
    "12:05:57 From Uzair Ullah (PIAIC169405) To Everyone : PIAIC-169405\n",
    "12:06:00 From Arshad To Everyone : PIAIC168092\n",
    "12:06:01 From PIAIC188523 Subhan Ahmed To Everyone : PIAIC188523\n",
    "12:06:04 From Taqwa Khaliq To Everyone : PIAIC 173701\n",
    "12:06:10 From Ali Asar To Everyone : PIAIC-188720\n",
    "12:06:23 From Mohammad Javed To Everyone : WhatsApp number?\n",
    "12:06:28 From Gulshan Ali To Everyone : PIAIC-176719\n",
    "12:06:29 From M Ali Asif Khan - PIAIC-57947 To Everyone : PIAIC-57947\n",
    "12:06:33 From Usman Noor PIAIC-188401 To Everyone : PIAIC-188401\n",
    "12:06:46 From Zia (piaic121514) To Everyone : thanks\n",
    "12:06:49 From Sohaib Baseer Ahmad To Everyone : PIAIC67260\n",
    "12:40:20 From Ali Asar To Everyone : PIAIC-187258\n",
    "\"\"\"\n",
    "\n",
    "\n",
    "import re\n",
    "#\\d = sigle number [0-9]\n",
    "#-? now - is optional\n",
    "\n",
    "pattern = \"(\\d{2}:\\d{2}:\\d{2}) From (.+) To Everyone : (PIAIC ?-?\\d{5,6})\"\n",
    "l = re.findall(pattern, data)\n",
    "\n",
    "p2 = \n",
    "l2 =\n",
    "l"
   ]
  },
  {
   "cell_type": "code",
   "execution_count": 29,
   "id": "d160f614",
   "metadata": {},
   "outputs": [
    {
     "data": {
      "text/html": [
       "<div>\n",
       "<style scoped>\n",
       "    .dataframe tbody tr th:only-of-type {\n",
       "        vertical-align: middle;\n",
       "    }\n",
       "\n",
       "    .dataframe tbody tr th {\n",
       "        vertical-align: top;\n",
       "    }\n",
       "\n",
       "    .dataframe thead th {\n",
       "        text-align: right;\n",
       "    }\n",
       "</style>\n",
       "<table border=\"1\" class=\"dataframe\">\n",
       "  <thead>\n",
       "    <tr style=\"text-align: right;\">\n",
       "      <th></th>\n",
       "      <th>Time</th>\n",
       "      <th>Student Name</th>\n",
       "      <th>Roll No</th>\n",
       "    </tr>\n",
       "  </thead>\n",
       "  <tbody>\n",
       "    <tr>\n",
       "      <th>0</th>\n",
       "      <td>12:05:40</td>\n",
       "      <td>Ali Asar</td>\n",
       "      <td>PIAIC-187258</td>\n",
       "    </tr>\n",
       "    <tr>\n",
       "      <th>1</th>\n",
       "      <td>12:05:41</td>\n",
       "      <td>Hasnain Munir</td>\n",
       "      <td>PIAIC-187272</td>\n",
       "    </tr>\n",
       "    <tr>\n",
       "      <th>2</th>\n",
       "      <td>12:05:44</td>\n",
       "      <td>Shaheer Baig</td>\n",
       "      <td>PIAIC-169519</td>\n",
       "    </tr>\n",
       "    <tr>\n",
       "      <th>3</th>\n",
       "      <td>12:05:45</td>\n",
       "      <td>Humera Naz</td>\n",
       "      <td>PIAIC-173431</td>\n",
       "    </tr>\n",
       "    <tr>\n",
       "      <th>4</th>\n",
       "      <td>12:05:47</td>\n",
       "      <td>Sadia Anwar</td>\n",
       "      <td>PIAIC-180028</td>\n",
       "    </tr>\n",
       "    <tr>\n",
       "      <th>5</th>\n",
       "      <td>12:05:47</td>\n",
       "      <td>Muhammad Mehroz</td>\n",
       "      <td>PIAIC-131496</td>\n",
       "    </tr>\n",
       "    <tr>\n",
       "      <th>6</th>\n",
       "      <td>12:05:47</td>\n",
       "      <td>Home</td>\n",
       "      <td>PIAIC-172998</td>\n",
       "    </tr>\n",
       "    <tr>\n",
       "      <th>7</th>\n",
       "      <td>12:05:47</td>\n",
       "      <td>Muhammad Sadullah = PIAIC-178950</td>\n",
       "      <td>PIAIC-178950</td>\n",
       "    </tr>\n",
       "    <tr>\n",
       "      <th>8</th>\n",
       "      <td>12:05:48</td>\n",
       "      <td>Muhammad Uzair-177637</td>\n",
       "      <td>PIAIC-177637</td>\n",
       "    </tr>\n",
       "    <tr>\n",
       "      <th>9</th>\n",
       "      <td>12:05:48</td>\n",
       "      <td>Taqwa Khaliq</td>\n",
       "      <td>PIAIC-173701</td>\n",
       "    </tr>\n",
       "    <tr>\n",
       "      <th>10</th>\n",
       "      <td>12:05:49</td>\n",
       "      <td>Faisal Bashir-177802</td>\n",
       "      <td>PIAIC-177802</td>\n",
       "    </tr>\n",
       "    <tr>\n",
       "      <th>11</th>\n",
       "      <td>12:05:50</td>\n",
       "      <td>Talha Munir Rana</td>\n",
       "      <td>PIAIC-173761</td>\n",
       "    </tr>\n",
       "    <tr>\n",
       "      <th>12</th>\n",
       "      <td>12:05:52</td>\n",
       "      <td>Abdul Qadar</td>\n",
       "      <td>PIAIC-172941</td>\n",
       "    </tr>\n",
       "    <tr>\n",
       "      <th>13</th>\n",
       "      <td>12:05:57</td>\n",
       "      <td>Dr. Bhagwan Das</td>\n",
       "      <td>PIAIC-96879</td>\n",
       "    </tr>\n",
       "    <tr>\n",
       "      <th>14</th>\n",
       "      <td>12:05:57</td>\n",
       "      <td>Uzair Ullah (PIAIC169405)</td>\n",
       "      <td>PIAIC-169405</td>\n",
       "    </tr>\n",
       "    <tr>\n",
       "      <th>15</th>\n",
       "      <td>12:06:00</td>\n",
       "      <td>Arshad</td>\n",
       "      <td>PIAIC168092</td>\n",
       "    </tr>\n",
       "    <tr>\n",
       "      <th>16</th>\n",
       "      <td>12:06:01</td>\n",
       "      <td>PIAIC188523 Subhan Ahmed</td>\n",
       "      <td>PIAIC188523</td>\n",
       "    </tr>\n",
       "    <tr>\n",
       "      <th>17</th>\n",
       "      <td>12:06:04</td>\n",
       "      <td>Taqwa Khaliq</td>\n",
       "      <td>PIAIC 173701</td>\n",
       "    </tr>\n",
       "    <tr>\n",
       "      <th>18</th>\n",
       "      <td>12:06:10</td>\n",
       "      <td>Ali Asar</td>\n",
       "      <td>PIAIC-188720</td>\n",
       "    </tr>\n",
       "    <tr>\n",
       "      <th>19</th>\n",
       "      <td>12:06:28</td>\n",
       "      <td>Gulshan Ali</td>\n",
       "      <td>PIAIC-176719</td>\n",
       "    </tr>\n",
       "    <tr>\n",
       "      <th>20</th>\n",
       "      <td>12:06:29</td>\n",
       "      <td>M Ali Asif Khan - PIAIC-57947</td>\n",
       "      <td>PIAIC-57947</td>\n",
       "    </tr>\n",
       "    <tr>\n",
       "      <th>21</th>\n",
       "      <td>12:06:33</td>\n",
       "      <td>Usman Noor PIAIC-188401</td>\n",
       "      <td>PIAIC-188401</td>\n",
       "    </tr>\n",
       "    <tr>\n",
       "      <th>22</th>\n",
       "      <td>12:06:49</td>\n",
       "      <td>Sohaib Baseer Ahmad</td>\n",
       "      <td>PIAIC67260</td>\n",
       "    </tr>\n",
       "    <tr>\n",
       "      <th>23</th>\n",
       "      <td>12:40:20</td>\n",
       "      <td>Ali Asar</td>\n",
       "      <td>PIAIC-187258</td>\n",
       "    </tr>\n",
       "  </tbody>\n",
       "</table>\n",
       "</div>"
      ],
      "text/plain": [
       "        Time                      Student Name       Roll No\n",
       "0   12:05:40                          Ali Asar  PIAIC-187258\n",
       "1   12:05:41                     Hasnain Munir  PIAIC-187272\n",
       "2   12:05:44                      Shaheer Baig  PIAIC-169519\n",
       "3   12:05:45                        Humera Naz  PIAIC-173431\n",
       "4   12:05:47                       Sadia Anwar  PIAIC-180028\n",
       "5   12:05:47                   Muhammad Mehroz  PIAIC-131496\n",
       "6   12:05:47                              Home  PIAIC-172998\n",
       "7   12:05:47  Muhammad Sadullah = PIAIC-178950  PIAIC-178950\n",
       "8   12:05:48             Muhammad Uzair-177637  PIAIC-177637\n",
       "9   12:05:48                      Taqwa Khaliq  PIAIC-173701\n",
       "10  12:05:49              Faisal Bashir-177802  PIAIC-177802\n",
       "11  12:05:50                  Talha Munir Rana  PIAIC-173761\n",
       "12  12:05:52                       Abdul Qadar  PIAIC-172941\n",
       "13  12:05:57                   Dr. Bhagwan Das   PIAIC-96879\n",
       "14  12:05:57         Uzair Ullah (PIAIC169405)  PIAIC-169405\n",
       "15  12:06:00                            Arshad   PIAIC168092\n",
       "16  12:06:01          PIAIC188523 Subhan Ahmed   PIAIC188523\n",
       "17  12:06:04                      Taqwa Khaliq  PIAIC 173701\n",
       "18  12:06:10                          Ali Asar  PIAIC-188720\n",
       "19  12:06:28                       Gulshan Ali  PIAIC-176719\n",
       "20  12:06:29     M Ali Asif Khan - PIAIC-57947   PIAIC-57947\n",
       "21  12:06:33           Usman Noor PIAIC-188401  PIAIC-188401\n",
       "22  12:06:49               Sohaib Baseer Ahmad    PIAIC67260\n",
       "23  12:40:20                          Ali Asar  PIAIC-187258"
      ]
     },
     "execution_count": 29,
     "metadata": {},
     "output_type": "execute_result"
    }
   ],
   "source": [
    "import pandas as pd\n",
    "\n",
    "df = pd.DataFrame(l, columns=[\"Time\",\"Student Name\",\"Roll No\"])\n",
    "\n",
    "df"
   ]
  },
  {
   "cell_type": "code",
   "execution_count": null,
   "id": "9fb7718e",
   "metadata": {},
   "outputs": [],
   "source": []
  },
  {
   "cell_type": "code",
   "execution_count": null,
   "id": "e5576aff",
   "metadata": {},
   "outputs": [],
   "source": []
  }
 ],
 "metadata": {
  "kernelspec": {
   "display_name": "Python 3 (ipykernel)",
   "language": "python",
   "name": "python3"
  },
  "language_info": {
   "codemirror_mode": {
    "name": "ipython",
    "version": 3
   },
   "file_extension": ".py",
   "mimetype": "text/x-python",
   "name": "python",
   "nbconvert_exporter": "python",
   "pygments_lexer": "ipython3",
   "version": "3.11.3"
  }
 },
 "nbformat": 4,
 "nbformat_minor": 5
}
